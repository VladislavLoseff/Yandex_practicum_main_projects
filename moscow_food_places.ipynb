{
 "cells": [
  {
   "cell_type": "code",
   "execution_count": null,
   "id": "306a2f3c",
   "metadata": {},
   "outputs": [],
   "source": []
  },
  {
   "cell_type": "markdown",
   "id": "04a615f7",
   "metadata": {},
   "source": [
    "<div class=\"alert alert-info\">\n",
    "<font size=\"4\", color = \"black\"><b>Исследование рынка заведений общественного питания Москвы. Исследование категории \"кофейни\".</b></font>\n",
    "Для  анализа выполним следующие этапы:\n",
    "\n",
    "1) Изучим исходный датасет; \\\n",
    "2) Найдем столбцы с пропусками, попробуем их проанализировать, при необходимости немного очистить данные; \\\n",
    "3) После предобработки проведем исследовательский анализ и попробуем оценить рынок кафе и других заведений общественного питания в Москве, выделим некоторые особенности, визуализируем основные показатели;\\\n",
    "4) Проанализируем рынок кофеен Москвы, предложим идеи для открытия этого бизнеса;\\\n",
    "5) Сделаем выводы о проделанной работе"
   ]
  },
  {
   "cell_type": "markdown",
   "id": "36ded99c",
   "metadata": {},
   "source": [
    "## 1 Загрузка данных и изучение общей информации"
   ]
  },
  {
   "cell_type": "code",
   "execution_count": 1,
   "id": "0093407c",
   "metadata": {},
   "outputs": [],
   "source": [
    "import pandas as pd\n",
    "import numpy as np\n",
    "import matplotlib.pyplot as plt\n",
    "from plotly import graph_objects as go"
   ]
  },
  {
   "cell_type": "code",
   "execution_count": 2,
   "id": "0e94d5f5",
   "metadata": {
    "scrolled": true
   },
   "outputs": [
    {
     "name": "stdout",
     "output_type": "stream",
     "text": [
      "Requirement already satisfied: missingno in c:\\anaconda\\lib\\site-packages (0.5.2)\n",
      "Requirement already satisfied: numpy in c:\\anaconda\\lib\\site-packages (from missingno) (1.24.3)\n",
      "Requirement already satisfied: matplotlib in c:\\anaconda\\lib\\site-packages (from missingno) (3.7.2)\n",
      "Requirement already satisfied: scipy in c:\\anaconda\\lib\\site-packages (from missingno) (1.11.1)\n",
      "Requirement already satisfied: seaborn in c:\\anaconda\\lib\\site-packages (from missingno) (0.12.2)\n",
      "Requirement already satisfied: contourpy>=1.0.1 in c:\\anaconda\\lib\\site-packages (from matplotlib->missingno) (1.0.5)\n",
      "Requirement already satisfied: cycler>=0.10 in c:\\anaconda\\lib\\site-packages (from matplotlib->missingno) (0.11.0)\n",
      "Requirement already satisfied: fonttools>=4.22.0 in c:\\anaconda\\lib\\site-packages (from matplotlib->missingno) (4.25.0)\n",
      "Requirement already satisfied: kiwisolver>=1.0.1 in c:\\anaconda\\lib\\site-packages (from matplotlib->missingno) (1.4.4)\n",
      "Requirement already satisfied: packaging>=20.0 in c:\\anaconda\\lib\\site-packages (from matplotlib->missingno) (23.1)\n",
      "Requirement already satisfied: pillow>=6.2.0 in c:\\anaconda\\lib\\site-packages (from matplotlib->missingno) (9.4.0)\n",
      "Requirement already satisfied: pyparsing<3.1,>=2.3.1 in c:\\anaconda\\lib\\site-packages (from matplotlib->missingno) (3.0.9)\n",
      "Requirement already satisfied: python-dateutil>=2.7 in c:\\anaconda\\lib\\site-packages (from matplotlib->missingno) (2.8.2)\n",
      "Requirement already satisfied: pandas>=0.25 in c:\\anaconda\\lib\\site-packages (from seaborn->missingno) (2.0.3)\n",
      "Requirement already satisfied: pytz>=2020.1 in c:\\anaconda\\lib\\site-packages (from pandas>=0.25->seaborn->missingno) (2023.3.post1)\n",
      "Requirement already satisfied: tzdata>=2022.1 in c:\\anaconda\\lib\\site-packages (from pandas>=0.25->seaborn->missingno) (2023.3)\n",
      "Requirement already satisfied: six>=1.5 in c:\\anaconda\\lib\\site-packages (from python-dateutil>=2.7->matplotlib->missingno) (1.16.0)\n"
     ]
    }
   ],
   "source": [
    "!pip install missingno"
   ]
  },
  {
   "cell_type": "code",
   "execution_count": 3,
   "id": "7f01bf66",
   "metadata": {},
   "outputs": [],
   "source": [
    "import missingno as msno"
   ]
  },
  {
   "cell_type": "code",
   "execution_count": 4,
   "id": "f410b471",
   "metadata": {},
   "outputs": [],
   "source": [
    "import seaborn as sns\n"
   ]
  },
  {
   "cell_type": "code",
   "execution_count": null,
   "id": "8b50484e",
   "metadata": {},
   "outputs": [],
   "source": [
    "try:\n",
    "    data=pd.read_csv(r\"C:\\Users\\Владислав\\Documents\\dat_an\\moscow_places.csv\")\n",
    "except:\n",
    "    data=pd.read_csv('/datasets/moscow_places.csv')"
   ]
  },
  {
   "cell_type": "markdown",
   "id": "c583239a",
   "metadata": {},
   "source": [
    "\n"
   ]
  },
  {
   "cell_type": "markdown",
   "id": "9808d233",
   "metadata": {},
   "source": [
    "#### 1.1 Загрузите данные и изучите общую информацию"
   ]
  },
  {
   "cell_type": "code",
   "execution_count": null,
   "id": "728baaec",
   "metadata": {},
   "outputs": [],
   "source": [
    "data.head()"
   ]
  },
  {
   "cell_type": "code",
   "execution_count": null,
   "id": "ca8297ef",
   "metadata": {},
   "outputs": [],
   "source": [
    "data.info()"
   ]
  },
  {
   "cell_type": "code",
   "execution_count": null,
   "id": "04ed4f8c",
   "metadata": {},
   "outputs": [],
   "source": [
    "msno.matrix(data, labels=True)"
   ]
  },
  {
   "cell_type": "markdown",
   "id": "df2c4060",
   "metadata": {},
   "source": [
    "Одни данные представлены полность, другие лишь в незначительном количестве, что может затруднить анализ.\n",
    "При этом заменять отсутсвующие данные на средние или медианные в данном случае не корректно, поскольку\n",
    "зависимость может быть от многих факторов и незаполненных данных в некоторых столбцах больше, чем заполненных"
   ]
  },
  {
   "cell_type": "markdown",
   "id": "e6f08ecc",
   "metadata": {},
   "source": [
    "### 2 Предобработка данных"
   ]
  },
  {
   "cell_type": "markdown",
   "id": "40ebab57",
   "metadata": {},
   "source": [
    "#### 2.1 Удаление дубликатов"
   ]
  },
  {
   "cell_type": "code",
   "execution_count": null,
   "id": "607ed799",
   "metadata": {},
   "outputs": [],
   "source": [
    "data=data.drop_duplicates()"
   ]
  },
  {
   "cell_type": "code",
   "execution_count": null,
   "id": "3d4362cc",
   "metadata": {},
   "outputs": [],
   "source": [
    "data['name'].nunique()"
   ]
  },
  {
   "cell_type": "code",
   "execution_count": null,
   "id": "29772441",
   "metadata": {},
   "outputs": [],
   "source": [
    "data['address'].nunique()"
   ]
  },
  {
   "cell_type": "markdown",
   "id": "cf31ac4e",
   "metadata": {},
   "source": [
    "Нельзя однозначно сделать вывод о неявных дубликатах, так как в одном месте может находиться\n",
    "несколько заведений(фудкорт), а названия могут повторяться или различаться по регистру. Попробуем\n",
    "удалить дубликаты по совокупности признаков (адрес и название)."
   ]
  },
  {
   "cell_type": "code",
   "execution_count": null,
   "id": "f4d8d616",
   "metadata": {},
   "outputs": [],
   "source": [
    "data.shape"
   ]
  },
  {
   "cell_type": "code",
   "execution_count": null,
   "id": "d6b793c2",
   "metadata": {},
   "outputs": [],
   "source": [
    "\n",
    "data=data.drop_duplicates(['name','address'])"
   ]
  },
  {
   "cell_type": "code",
   "execution_count": null,
   "id": "f65bec9e",
   "metadata": {},
   "outputs": [],
   "source": [
    "data.shape"
   ]
  },
  {
   "cell_type": "code",
   "execution_count": null,
   "id": "634f1c9f",
   "metadata": {},
   "outputs": [],
   "source": [
    "\n",
    "data['name']=data['name'].str.lower()\n",
    "data['category']=data['category'].str.lower()\n",
    "data['address']=data['address'].str.lower()\n",
    "data=data.drop_duplicates(['name', 'category', 'address'])"
   ]
  },
  {
   "cell_type": "markdown",
   "id": "166da430",
   "metadata": {},
   "source": [
    "<div class=\"alert alert-info\">\n",
    "Таким образом, было найдено два неявных дубликата"
   ]
  },
  {
   "cell_type": "code",
   "execution_count": null,
   "id": "f418f942",
   "metadata": {},
   "outputs": [],
   "source": [
    "data.shape"
   ]
  },
  {
   "cell_type": "markdown",
   "id": "98c7bf38",
   "metadata": {},
   "source": [
    "Удалим наиболее пустые данные, не содержащие основных показателей для дальнейшего анализа"
   ]
  },
  {
   "cell_type": "code",
   "execution_count": null,
   "id": "7ebb30f5",
   "metadata": {},
   "outputs": [],
   "source": [
    "data.info()"
   ]
  },
  {
   "cell_type": "markdown",
   "id": "3880ff35",
   "metadata": {},
   "source": [
    "Данные очищены, оставшиеся дубликаты сложно найти без дополнительной информации\n"
   ]
  },
  {
   "cell_type": "markdown",
   "id": "5ddcde1d",
   "metadata": {},
   "source": [
    "#### 2.2 Создайте столбец street с названиями улиц из столбца с адресом."
   ]
  },
  {
   "cell_type": "code",
   "execution_count": null,
   "id": "73ba5796",
   "metadata": {},
   "outputs": [],
   "source": [
    "data['address']"
   ]
  },
  {
   "cell_type": "code",
   "execution_count": null,
   "id": "ddac9c9a",
   "metadata": {},
   "outputs": [],
   "source": [
    "data['street']=data['address'].apply(lambda x:x.split(',')[1].strip())"
   ]
  },
  {
   "cell_type": "code",
   "execution_count": null,
   "id": "40e6a7c6",
   "metadata": {},
   "outputs": [],
   "source": [
    "data.loc[data['street'] == 'проспект мира','name'].count()"
   ]
  },
  {
   "cell_type": "markdown",
   "id": "f4dd2674",
   "metadata": {},
   "source": [
    "#### 2.3 Создайте столбец is_24/7 с обозначением, что заведение работает ежедневно и круглосуточно (24/7)"
   ]
  },
  {
   "cell_type": "code",
   "execution_count": null,
   "id": "bb560a73",
   "metadata": {},
   "outputs": [],
   "source": [
    "def workinghours(data):\n",
    "    hours=data['hours']\n",
    "    if data['hours']=='ежедневно, круглосуточно':\n",
    "        return True\n",
    "    else:\n",
    "        return False\n",
    "        \n",
    "    "
   ]
  },
  {
   "cell_type": "code",
   "execution_count": null,
   "id": "0c427196",
   "metadata": {},
   "outputs": [],
   "source": [
    "data['is_24/7']=data.apply(workinghours,axis=1)"
   ]
  },
  {
   "cell_type": "markdown",
   "id": "896fb23f",
   "metadata": {},
   "source": [
    "<div class=\"alert alert-info\">\n",
    "В рамках первого этапа были добавлены новые столбцы, с названием улицы и информацией, работает ли заведение круглосуточно,\n",
    "а также были удалены некоторые неявные дубликаты"
   ]
  },
  {
   "cell_type": "markdown",
   "id": "9c4bded8",
   "metadata": {},
   "source": [
    "### 3 Анализ данных"
   ]
  },
  {
   "cell_type": "markdown",
   "id": "50459c2e",
   "metadata": {},
   "source": [
    "### 3.1 \n",
    "Какие категории заведений представлены в данных?\n",
    "Исследуйте количество объектов общественного питания по категориям: рестораны, кофейни, пиццерии,\n",
    "    бары и так далее. Постройте визуализации. Ответьте на вопрос о распределении заведений по \n",
    "    категориям."
   ]
  },
  {
   "cell_type": "code",
   "execution_count": null,
   "id": "d43dc59c",
   "metadata": {},
   "outputs": [],
   "source": [
    "data['category'].unique()"
   ]
  },
  {
   "cell_type": "code",
   "execution_count": null,
   "id": "6faf3ef3",
   "metadata": {},
   "outputs": [],
   "source": [
    "catcount=data.pivot_table(index='category',values='address',aggfunc='count')\n",
    "catcount.columns=['quantity']\n",
    "catcount['percent']=catcount['quantity']/(catcount['quantity'].sum())*100\n",
    "catcount=catcount.sort_values(by='quantity',ascending=False).reset_index()\n",
    "catcount"
   ]
  },
  {
   "cell_type": "code",
   "execution_count": null,
   "id": "5e44e872",
   "metadata": {},
   "outputs": [],
   "source": [
    "catcount['quantity'].sum()"
   ]
  },
  {
   "cell_type": "markdown",
   "id": "24bfa258",
   "metadata": {},
   "source": [
    "### исследуем количество заведений и мест в них, в зависимости от категории"
   ]
  },
  {
   "cell_type": "code",
   "execution_count": null,
   "id": "af9b7527",
   "metadata": {},
   "outputs": [],
   "source": [
    "with plt.style.context('seaborn'):\n",
    "    plt.bar(catcount['category'],catcount['quantity'])\n",
    "    plt.xticks(rotation=45)\n",
    "    plt.title('Количество заведений в зависимости от категории')\n",
    "    plt.ylabel('Количество заведений')\n",
    "    plt.xlabel('Категории заведений')\n",
    "    plt.show()\n"
   ]
  },
  {
   "cell_type": "code",
   "execution_count": null,
   "id": "4a503e4b",
   "metadata": {},
   "outputs": [],
   "source": [
    "with plt.style.context('seaborn'):\n",
    "    plt.bar(catcount['category'],catcount['percent'])\n",
    "    plt.xticks(rotation=45)\n",
    "    plt.title('Процент заведений в зависимости от категории')\n",
    "    plt.ylabel('Процент заведений данной категории, %')\n",
    "    plt.xlabel('Категории заведений')\n",
    "    plt.show()\n"
   ]
  },
  {
   "cell_type": "markdown",
   "id": "1b851e70",
   "metadata": {},
   "source": [
    "Самая популярная категория - кафе, что не удивительно, на втором месте находятся рестораны"
   ]
  },
  {
   "cell_type": "markdown",
   "id": "dab161c0",
   "metadata": {},
   "source": [
    "#### 3.2\n",
    "Исследуйте количество посадочных мест в местах по категориям: рестораны, кофейни, пиццерии, бары и так далее. Постройте \n",
    "визуализации. Проанализируйте результаты и сделайте выводы\n"
   ]
  },
  {
   "cell_type": "code",
   "execution_count": null,
   "id": "3657f146",
   "metadata": {},
   "outputs": [],
   "source": [
    "seatcount=data.pivot_table(index='category',values='seats',aggfunc=['mean','median'])\n",
    "seatcount.columns=['mean_seats','median_seats']\n",
    "seatcount=seatcount.sort_values(by='mean_seats',ascending=False).reset_index()\n",
    "seatcount"
   ]
  },
  {
   "cell_type": "markdown",
   "id": "9f3f7313",
   "metadata": {},
   "source": [
    "Таким образом, больше всего мест в барах и ресторанах"
   ]
  },
  {
   "cell_type": "code",
   "execution_count": null,
   "id": "93352114",
   "metadata": {},
   "outputs": [],
   "source": [
    "with plt.style.context('seaborn'):\n",
    "    plt.bar(seatcount['category'],seatcount['mean_seats'])\n",
    "    plt.xticks(rotation=45)\n",
    "    plt.title('Среднее количество мест в зависимости от категории')\n",
    "    plt.ylabel('среднее количество мест')\n",
    "    plt.xlabel('Категории заведений')\n",
    "    plt.show()"
   ]
  },
  {
   "cell_type": "code",
   "execution_count": null,
   "id": "14afda66",
   "metadata": {},
   "outputs": [],
   "source": [
    "seatcount=seatcount.sort_values(by='median_seats',ascending=False).reset_index()"
   ]
  },
  {
   "cell_type": "code",
   "execution_count": null,
   "id": "ecbc09ae",
   "metadata": {},
   "outputs": [],
   "source": [
    "with plt.style.context('seaborn'):\n",
    "    plt.bar(seatcount['category'],seatcount['median_seats'])\n",
    "    plt.xticks(rotation=45)\n",
    "    plt.title(' Медианное количество мест в зависимости от категории')\n",
    "    plt.ylabel('медианное количество мест')\n",
    "    plt.xlabel('Категории заведений')\n",
    "    plt.show()"
   ]
  },
  {
   "cell_type": "markdown",
   "id": "5940989a",
   "metadata": {},
   "source": [
    "В данном случае, лучше пользоваться медианным значением. Таким образом, больше всего мест в ресторанах и барах"
   ]
  },
  {
   "cell_type": "markdown",
   "id": "1d337c54",
   "metadata": {},
   "source": [
    "#### 3.3 Рассмотрите и изобразите соотношение сетевых и несетевых заведений в датасете. Каких заведений больше?"
   ]
  },
  {
   "cell_type": "code",
   "execution_count": null,
   "id": "1fc7fa8c",
   "metadata": {},
   "outputs": [],
   "source": [
    "data.head()"
   ]
  },
  {
   "cell_type": "code",
   "execution_count": null,
   "id": "dfbe3c51",
   "metadata": {},
   "outputs": [],
   "source": [
    "chain=data['chain'].value_counts()\n",
    "chain"
   ]
  },
  {
   "cell_type": "code",
   "execution_count": null,
   "id": "f2016b5e",
   "metadata": {},
   "outputs": [],
   "source": [
    "print(f'сетевых заведений: {chain[1]}')\n",
    "print(f'не сетевых заведений: {chain[0]}')"
   ]
  },
  {
   "cell_type": "code",
   "execution_count": null,
   "id": "560cabd0",
   "metadata": {},
   "outputs": [],
   "source": [
    "fig2=go.Figure(data=[go.Pie(labels=['сетевое','не сетевое'],values=[chain[1],chain[0]])])\n",
    "fig2.update_layout(title='Процентное соотношение сетевых и несетевых заведений ')\n",
    "fig2.show()"
   ]
  },
  {
   "cell_type": "markdown",
   "id": "05bebd4c",
   "metadata": {},
   "source": [
    "Таким образом, сетевых заведений заметно меньше"
   ]
  },
  {
   "cell_type": "markdown",
   "id": "358f9d22",
   "metadata": {},
   "source": [
    "##### 3.3.1 Какие категории заведений чаще являются сетевыми? Исследуйте данные и ответьте на вопрос графиком."
   ]
  },
  {
   "cell_type": "code",
   "execution_count": null,
   "id": "b0e2a346",
   "metadata": {},
   "outputs": [],
   "source": [
    "\n",
    "chaincat=data.pivot_table(index='category',columns='chain',values='name',aggfunc=['count'])\n",
    "chaincat.columns=['non-chain','chain']\n",
    "chaincat=chaincat.reset_index()\n",
    "chaincat"
   ]
  },
  {
   "cell_type": "code",
   "execution_count": null,
   "id": "0b201190",
   "metadata": {},
   "outputs": [],
   "source": []
  },
  {
   "cell_type": "code",
   "execution_count": null,
   "id": "91af901b",
   "metadata": {},
   "outputs": [],
   "source": [
    "chaincat['total']=(chaincat['chain']+chaincat['non-chain'])\n",
    "chaincat['percent']=(chaincat['chain']/chaincat['total'])*100\n",
    "chaincat=chaincat.sort_values(by='percent',ascending=False)"
   ]
  },
  {
   "cell_type": "code",
   "execution_count": null,
   "id": "dbf56e80",
   "metadata": {},
   "outputs": [],
   "source": [
    "display(chaincat)"
   ]
  },
  {
   "cell_type": "code",
   "execution_count": null,
   "id": "7331f510",
   "metadata": {},
   "outputs": [],
   "source": [
    "#процентное соотношение сетевых по категориям\n",
    "fig3=go.Figure(data=[go.Pie(labels=chaincat['category'],values=chaincat['percent'])])\n",
    "fig3.update_layout(title='Процентное соотношение сетевых заведений по категориям')\n",
    "fig3.show()"
   ]
  },
  {
   "cell_type": "markdown",
   "id": "b496b405",
   "metadata": {},
   "source": [
    "Больше всего сетевых среди булочных, пиццерий и кофеен. Это можно было предположить, зная крупные сетевые заведения "
   ]
  },
  {
   "cell_type": "code",
   "execution_count": null,
   "id": "37a0daeb",
   "metadata": {
    "scrolled": false
   },
   "outputs": [],
   "source": [
    "import plotly.express as px\n",
    "fig4=px.bar(chaincat,x='category',y='percent',color='total')\n",
    "fig4.update_layout(title='Процент сетевых по категориях'\n",
    "                  ,xaxis_title=' категории',yaxis_title='процент сетевых заведений')\n",
    "fig4.show()\n",
    "#,text=chaincat['ratio'].apply(lambda x:'{0:1.2f}%'.format(x))"
   ]
  },
  {
   "cell_type": "markdown",
   "id": "1b2abff0",
   "metadata": {},
   "source": [
    "#### 3.4\n",
    "Сгруппируйте данные по названиям заведений и найдите топ-15 популярных сетей в Москве. Под популярностью понимается \n",
    "количество заведений этой сети в регионе. Постройте подходящую для такой информации визуализацию. Знакомы ли вам эти сети? \n",
    "Есть ли какой-то признак, который их объединяет? К какой категории заведений\n",
    "они относятся"
   ]
  },
  {
   "cell_type": "code",
   "execution_count": null,
   "id": "93dfa846",
   "metadata": {},
   "outputs": [],
   "source": [
    "chainmax=data.pivot_table(index='name',values='chain',aggfunc='sum')# sum так как у сетевых chain=1\n",
    "chainmax.columns=['quantity']\n",
    "chainmax=chainmax.reset_index()\n",
    "chainmax=chainmax.sort_values(by='quantity',ascending=False)"
   ]
  },
  {
   "cell_type": "code",
   "execution_count": null,
   "id": "05b8de87",
   "metadata": {},
   "outputs": [],
   "source": []
  },
  {
   "cell_type": "code",
   "execution_count": null,
   "id": "17a7f435",
   "metadata": {},
   "outputs": [],
   "source": [
    "top15=chainmax.head(15)\n",
    "top15"
   ]
  },
  {
   "cell_type": "code",
   "execution_count": null,
   "id": "80091bd3",
   "metadata": {
    "scrolled": true
   },
   "outputs": [],
   "source": [
    "fig5=px.bar(top15,x='quantity',y='name',orientation='h')\n",
    "fig5.update_layout(title='Самые популярные сетевые заведения',xaxis_title='кол-во заведений популярной сети',yaxis_title='названия сети')\n",
    "fig5.show()"
   ]
  },
  {
   "cell_type": "markdown",
   "id": "6594bfaa",
   "metadata": {},
   "source": [
    "Практически все заведения знакомы, в основном это кофейни, пиццерии и булочные средней ценовой категории"
   ]
  },
  {
   "cell_type": "code",
   "execution_count": null,
   "id": "5785b92d",
   "metadata": {},
   "outputs": [],
   "source": [
    "chainmax1=data.pivot_table(index=['name','category'],values='chain',aggfunc='sum')# sum так как у сетевых chain=1\n",
    "chainmax1=chainmax1.reset_index()\n",
    "\n",
    "chainmax1.columns=['name','category','quantity']\n",
    "chainmax1=chainmax1.sort_values(by='quantity',ascending=False).head(15)\n",
    "display(chainmax1)"
   ]
  },
  {
   "cell_type": "code",
   "execution_count": null,
   "id": "b26b0720",
   "metadata": {},
   "outputs": [],
   "source": [
    "categorytop15=chainmax1.groupby('category')['quantity'].sum().reset_index().sort_values(by='quantity',ascending=False)\n",
    "categorytop15['percent']=100*categorytop15['quantity']/(categorytop15['quantity'].sum())\n",
    "display(categorytop15)"
   ]
  },
  {
   "cell_type": "code",
   "execution_count": null,
   "id": "dfbfaa5c",
   "metadata": {},
   "outputs": [],
   "source": [
    "# check\n",
    "x = data.copy()\n",
    "df_chain = x[x['chain'] == 1] \n",
    " \n",
    "(\n",
    "    df_chain\n",
    "    .groupby(['name', 'category']).agg(count_name=('name', 'count')).sort_values(by='count_name').tail(15)\n",
    "    .reset_index()\n",
    "    .groupby('category')['count_name'].sum()\n",
    "    .to_frame()\n",
    "    .assign(percent_total=lambda x: x / x.sum()).round(2)\n",
    "    .sort_values(by='percent_total')\n",
    ")"
   ]
  },
  {
   "cell_type": "code",
   "execution_count": null,
   "id": "0408544d",
   "metadata": {},
   "outputs": [],
   "source": [
    "with plt.style.context('seaborn'):\n",
    "    plt.bar(categorytop15['category'],categorytop15['percent'])\n",
    "    plt.xticks(rotation=45)\n",
    "    plt.title('% категорий популярных сетей')\n",
    "    plt.ylabel('доля')\n",
    "    plt.xlabel('Категории заведений')\n",
    "    plt.show()"
   ]
  },
  {
   "cell_type": "markdown",
   "id": "4b0a4dbc",
   "metadata": {},
   "source": [
    "Таким образом, среди самых популярных сетевых заведений больше всего кофеен и ресторанов"
   ]
  },
  {
   "cell_type": "markdown",
   "id": "5ac2ee12",
   "metadata": {},
   "source": [
    "### 3.5\n",
    "Какие административные районы Москвы присутствуют в датасете? Отобразите общее количество заведений и количество \n",
    "заведений каждой категории по районам. Попробуйте проиллюстрировать эту информацию одним графиком"
   ]
  },
  {
   "cell_type": "markdown",
   "id": "5ac2eddb",
   "metadata": {},
   "source": [
    "#### 3.5.1 Представлены следующие административные районы:"
   ]
  },
  {
   "cell_type": "code",
   "execution_count": null,
   "id": "5d2f232b",
   "metadata": {},
   "outputs": [],
   "source": [
    "data['district'].unique()"
   ]
  },
  {
   "cell_type": "code",
   "execution_count": null,
   "id": "f52ddb30",
   "metadata": {},
   "outputs": [],
   "source": [
    "pt1=data.pivot_table(index='district',columns='category',values='name',aggfunc='count')\n",
    "pt1"
   ]
  },
  {
   "cell_type": "code",
   "execution_count": null,
   "id": "1ca183cb",
   "metadata": {},
   "outputs": [],
   "source": [
    "pt2=data.pivot_table(index=['district','category'],values='name',aggfunc='count')\n",
    "pt2=pt2.sort_values(by='name',ascending=False).reset_index()\n",
    "display(pt2)"
   ]
  },
  {
   "cell_type": "markdown",
   "id": "9d9db852",
   "metadata": {},
   "source": [
    "#### 3.5.2 Категории заведений по округам"
   ]
  },
  {
   "cell_type": "code",
   "execution_count": null,
   "id": "86bd79e7",
   "metadata": {},
   "outputs": [],
   "source": [
    "fig5=px.bar(pt2,x='name',y='district',color='category',orientation='h')\n",
    "fig5.update_layout(title='Категории заведений по округам',xaxis_title='кол-во заведений',yaxis={'categoryorder':'total descending'},yaxis_title='округ')\n",
    "#,yaxis={'categoryorder':'total descending'},yaxis_title='округ'\n",
    "fig5.show()"
   ]
  },
  {
   "cell_type": "markdown",
   "id": "a94a14f1",
   "metadata": {},
   "source": [
    "Таким образом, лидером по количеству заведений является центральный округ, при этом процентное соотношение категорий имеет \n",
    "много общего для каждого района"
   ]
  },
  {
   "cell_type": "markdown",
   "id": "c0c418b9",
   "metadata": {},
   "source": [
    "### 3.6\n",
    "Визуализируйте распределение средних рейтингов по категориям заведений. \n",
    "Сильно ли различаются усреднённые рейтинги в разных типах общепита?"
   ]
  },
  {
   "cell_type": "code",
   "execution_count": null,
   "id": "eb7b52c3",
   "metadata": {},
   "outputs": [],
   "source": [
    "pt3=data.pivot_table(index='category',values='rating',aggfunc='mean')\n",
    "pt3=pt3.sort_values(by='rating',ascending=False).reset_index()\n",
    "pt3.columns=['category','mean_rating']\n",
    "\n",
    "\n",
    "display(pt3)"
   ]
  },
  {
   "cell_type": "markdown",
   "id": "6b6aa905",
   "metadata": {},
   "source": [
    "Средние рейтинги не сильно отличаются друг от друга в зависимости от категорий. Самый низкий рейтинг у заведений быстрого питания"
   ]
  },
  {
   "cell_type": "code",
   "execution_count": null,
   "id": "d0627bfb",
   "metadata": {},
   "outputs": [],
   "source": [
    "px.bar(pt3,x='category',y='mean_rating')\n",
    "\n",
    "#Средний рейтинг по категориям"
   ]
  },
  {
   "cell_type": "code",
   "execution_count": null,
   "id": "2b2d3383",
   "metadata": {},
   "outputs": [],
   "source": [
    "fg=px.bar(pt3,x='category',y='mean_rating')\n",
    "fg.update_layout(yaxis_range=[4,4.5])\n",
    "fg.update_layout(title='Средний рейтинг заведений',xaxis_title='категории',yaxis_title='средний рейтинг')\n",
    "fg.show()"
   ]
  },
  {
   "cell_type": "markdown",
   "id": "d3dcffd8",
   "metadata": {},
   "source": [
    "Таким образом, разница в рейтинге у различных категорий отличается не сильно. При этом выше всего средний рейтинг у баров"
   ]
  },
  {
   "cell_type": "markdown",
   "id": "e8de385b",
   "metadata": {},
   "source": [
    "### 3.7\n",
    "Постройте фоновую картограмму (хороплет) со средним рейтингом заведений каждого района.\n",
    "Границы районов Москвы, которые встречаются в датасете."
   ]
  },
  {
   "cell_type": "code",
   "execution_count": null,
   "id": "cf693c86",
   "metadata": {},
   "outputs": [],
   "source": [
    "\n",
    "import json\n",
    "\n",
    "\n",
    "try:\n",
    "    with open('/datasets/admin_level_geomap.geojson', 'r') as f:\n",
    "        geo_json = json.load(f)\n",
    "except:\n",
    "    with open(r\"C:\\Users\\Владислав\\Documents\\dat_an\\admin_level_geomap.geojson\") as f:\n",
    "        geo_json = json.load(f)\n",
    "\n",
    "\n",
    "print(json.dumps(geo_json, indent=2, ensure_ascii=False, sort_keys=True))"
   ]
  },
  {
   "cell_type": "code",
   "execution_count": null,
   "id": "04175ee9",
   "metadata": {},
   "outputs": [],
   "source": [
    "pt4=data.pivot_table(index='district',values='rating',aggfunc='mean')\n",
    "pt4=pt4.reset_index()\n",
    "pt4.columns=['district','rating']\n",
    "display(pt4)"
   ]
  },
  {
   "cell_type": "code",
   "execution_count": null,
   "id": "6cb35829",
   "metadata": {},
   "outputs": [],
   "source": [
    "# импортируем карту и хороплет\n",
    "from folium import Map, Choropleth\n",
    "\n",
    "# загружаем JSON-файл с границами округов Москвы\n",
    "#state_geo = r\"C:\\Users\\Владислав\\Documents\\dat_an\\admin_level_geomap.geojson\"#выдает ошибку\n",
    "state_geo = 'https://code.s3.yandex.net/data-analyst/admin_level_geomap.geojson'\n",
    "# moscow_lat - широта центра Москвы, moscow_lng - долгота центра Москвы\n",
    "moscow_lat, moscow_lng = 55.751244, 37.618423\n",
    "\n",
    "# создаём карту Москвы\n",
    "m = Map(location=[moscow_lat, moscow_lng], zoom_start=10, tiles='Cartodb Positron')\n",
    "\n",
    "# создаём хороплет с помощью конструктора Choropleth и добавляем его на карту\n",
    "Choropleth(\n",
    "    geo_data=state_geo,\n",
    "    data=pt4,\n",
    "    columns=['district', 'rating'],\n",
    "    key_on='feature.name',\n",
    "    fill_color='YlGn',\n",
    "    fill_opacity=0.6,\n",
    "    legend_name='Средний рейтинг заведений по районам',\n",
    ").add_to(m)\n",
    "\n",
    "# выводим карту\n",
    "m"
   ]
  },
  {
   "cell_type": "markdown",
   "id": "cc6dcdff",
   "metadata": {},
   "source": [
    "В заведениях центрального округа средний рейтинг самый высокий"
   ]
  },
  {
   "cell_type": "markdown",
   "id": "506c98fb",
   "metadata": {},
   "source": [
    "#### 3.8\n",
    "Отобразите все заведения датасета на карте с помощью кластеров средствами библиотеки folium"
   ]
  },
  {
   "cell_type": "code",
   "execution_count": null,
   "id": "eb3b8a44",
   "metadata": {
    "scrolled": true
   },
   "outputs": [],
   "source": [
    "# импортируем карту и маркер\n",
    "from folium import Map, Marker\n",
    "# импортируем кластер\n",
    "from folium.plugins import MarkerCluster\n",
    "\n",
    "# moscow_lat - широта центра Москвы, moscow_lng - долгота центра Москвы\n",
    "moscow_lat, moscow_lng = 55.751244, 37.618423\n",
    "\n",
    "# создаём карту Москвы\n",
    "m = Map(location=[moscow_lat, moscow_lng], zoom_start=10, tiles=\"Cartodb Positron\")\n",
    "# создаём пустой кластер, добавляем его на карту\n",
    "marker_cluster = MarkerCluster().add_to(m)\n",
    "\n",
    "# пишем функцию, которая принимает строку датафрейма,\n",
    "# создаёт маркер в текущей точке и добавляет его в кластер marker_cluster\n",
    "def create_clusters(row):\n",
    "    Marker(\n",
    "        [row['lat'], row['lng']],\n",
    "        popup=f\"{row['name']} {row['rating']}\",\n",
    "    ).add_to(marker_cluster)\n",
    "\n",
    "# применяем функцию create_clusters() к каждой строке датафрейма\n",
    "data.apply(create_clusters, axis=1)\n",
    "\n",
    "# выводим карту\n",
    "m"
   ]
  },
  {
   "cell_type": "markdown",
   "id": "40ca1edf",
   "metadata": {},
   "source": [
    "<div class=\"alert alert-info\">\n",
    "Таким образом, на карту были нанесены кластера, при приближении к которым можно увидеть отдельные метки. Кластеры также \n",
    "позволяют увидеть количество объектов в районах, а также, при приближении карты и их расположение, при этом\n",
    "для каждого объекта доступна информация о его названии и рейтинге. По результатам построения хороплета визуально заметна \n",
    "разница средних чеков по районам"
   ]
  },
  {
   "cell_type": "markdown",
   "id": "5c4bb47f",
   "metadata": {},
   "source": [
    "#### 3.9\n",
    "Найдите топ-15 улиц по количеству заведений. Постройте график распределения количества заведений и их категорий по этим улицам.\n",
    "Попробуйте проиллюстрировать эту информацию одним графиком."
   ]
  },
  {
   "cell_type": "code",
   "execution_count": null,
   "id": "5529c2eb",
   "metadata": {},
   "outputs": [],
   "source": [
    "pt5=data.pivot_table(index='street',values='name',aggfunc='count').rename(columns={'name':'name_count'})\n",
    "pt5=pt5.sort_values(by='name_count',ascending=False).reset_index().head(15)"
   ]
  },
  {
   "cell_type": "code",
   "execution_count": null,
   "id": "29324290",
   "metadata": {},
   "outputs": [],
   "source": [
    "\n",
    "display(pt5)"
   ]
  },
  {
   "cell_type": "code",
   "execution_count": null,
   "id": "ab90ac22",
   "metadata": {},
   "outputs": [],
   "source": [
    "pt6 = data.loc[data['street'].isin(pt5['street'])].pivot_table(index=['street', 'category'], values='name', aggfunc='count').reset_index()\n",
    "pt6=pt6.sort_values(by='name',ascending=False)                     \n",
    "display(pt6)                      \n"
   ]
  },
  {
   "cell_type": "code",
   "execution_count": null,
   "id": "a1c20f20",
   "metadata": {},
   "outputs": [],
   "source": [
    "\n",
    "#pt6=data.pivot_table(index=['street','category'],values='name',aggfunc='count').reset_index().sort_values(by='name',ascending=False)\n",
    "#pt6.columns=['street','category','quantity']\n",
    "#display(pt6.head(15))"
   ]
  },
  {
   "cell_type": "code",
   "execution_count": null,
   "id": "ac6b7b23",
   "metadata": {},
   "outputs": [],
   "source": [
    "fig7=px.bar(pt6,x='name',y='street',color='category',orientation='h')\n",
    "fig7.update_layout(title='Заведения на популярных улицах',xaxis_title='названия улиц',yaxis={'categoryorder':'total descending'},yaxis_title='кол-во заведений')\n",
    "#,yaxis={'categoryorder':'total descending'},yaxis_title='округ'\n",
    "fig7.show()"
   ]
  },
  {
   "cell_type": "markdown",
   "id": "ae9d9bf1",
   "metadata": {},
   "source": [
    "Таким образом, на популярных улицах в основном кафе и рестораны"
   ]
  },
  {
   "cell_type": "markdown",
   "id": "cd29e11f",
   "metadata": {},
   "source": [
    "#### 3.10\n",
    "Найдите улицы, на которых находится только один объект общепита. Что можно сказать об этих заведениях?"
   ]
  },
  {
   "cell_type": "code",
   "execution_count": null,
   "id": "11422fb2",
   "metadata": {},
   "outputs": [],
   "source": [
    "\n",
    "#onlyone=pt6.query('quantity==1')\n",
    "#display(onlyone)"
   ]
  },
  {
   "cell_type": "code",
   "execution_count": null,
   "id": "4d74645b",
   "metadata": {},
   "outputs": [],
   "source": [
    "#onlyone['category'].value_counts()"
   ]
  },
  {
   "cell_type": "code",
   "execution_count": null,
   "id": "148f1aef",
   "metadata": {},
   "outputs": [],
   "source": []
  },
  {
   "cell_type": "code",
   "execution_count": null,
   "id": "2654a3fb",
   "metadata": {},
   "outputs": [],
   "source": [
    "pt10=data.pivot_table(index=['district','street'],values='name',aggfunc='count')\n",
    "pt10=pt10.reset_index()\n",
    "pt10=pt10.query('name==1')\n",
    "pt10=pt10.pivot_table(index=['district'],values='name',aggfunc='count').reset_index()\n",
    "pt10.columns=['district','quantity']\n",
    "pt2new=pt2.pivot_table(index='district',values='name',aggfunc='sum').reset_index()\n",
    "pt10['ratio']=pt10['quantity']/(pt2new['name'])\n",
    "\n",
    "display(pt10)"
   ]
  },
  {
   "cell_type": "code",
   "execution_count": null,
   "id": "1aa851b7",
   "metadata": {},
   "outputs": [],
   "source": [
    "pt2new=pt2.pivot_table(index='district',values='name',aggfunc='sum').reset_index()\n",
    "pt2new['name']"
   ]
  },
  {
   "cell_type": "code",
   "execution_count": null,
   "id": "20740bf6",
   "metadata": {},
   "outputs": [],
   "source": [
    "m = Map(location=[moscow_lat, moscow_lng], zoom_start=10, tiles='Cartodb Positron')\n",
    "\n",
    "# создаём хороплет с помощью конструктора Choropleth и добавляем его на карту\n",
    "Choropleth(\n",
    "    geo_data=state_geo,\n",
    "    data=pt10,\n",
    "    columns=['district', 'ratio'],\n",
    "    key_on='feature.name',\n",
    "    fill_color='YlGn',\n",
    "    fill_opacity=0.6,\n",
    "    legend_name='Средний рейтинг заведений по районам',\n",
    ").add_to(m)\n",
    "\n",
    "# выводим карту\n",
    "m"
   ]
  },
  {
   "cell_type": "markdown",
   "id": "71c76c8e",
   "metadata": {},
   "source": [
    "<div class=\"alert alert-info\">\n",
    "Таким образом, в центральном округе больше всего (и в процентном соотношении) улиц с всего одним заведением, стоит тоже на них обратить внимание, возможно, \n",
    "рядом начали строить большой торговый центр или транспортный узел и данное место будет пользоваться бОльшим спросом"
   ]
  },
  {
   "cell_type": "markdown",
   "id": "247ba21f",
   "metadata": {},
   "source": [
    "#### 3.11\n",
    "Значения средних чеков заведений хранятся в столбце middle_avg_bill. Эти числа показывают примерную стоимость заказа в \n",
    "рублях, которая чаще всего выражена диапазоном. Посчитайте медиану этого столбца для каждого района. Используйте это \n",
    "значение в качестве ценового индикатора района. Постройте фоновую картограмму (хороплет) с полученными значениями для \n",
    "каждого района. Проанализируйте цены в центральном административном округе и других. Как удалённость от центра влияет на \n",
    "цены в заведениях?"
   ]
  },
  {
   "cell_type": "code",
   "execution_count": null,
   "id": "d7aea962",
   "metadata": {},
   "outputs": [],
   "source": [
    "data['middle_avg_bill']"
   ]
  },
  {
   "cell_type": "code",
   "execution_count": null,
   "id": "7eabcb97",
   "metadata": {},
   "outputs": [],
   "source": [
    "pt7=data.pivot_table(index='district',values='middle_avg_bill',aggfunc='median').reset_index()\n",
    "display(pt7)\n"
   ]
  },
  {
   "cell_type": "code",
   "execution_count": null,
   "id": "eb24dfc6",
   "metadata": {},
   "outputs": [],
   "source": [
    "# moscow_lat - широта центра Москвы, moscow_lng - долгота центра Москвы\n",
    "moscow_lat, moscow_lng = 55.751244, 37.618423\n",
    "\n",
    "# создаём карту Москвы\n",
    "m = Map(location=[moscow_lat, moscow_lng], zoom_start=10, tiles='Cartodb Positron')\n",
    "\n",
    "# создаём хороплет с помощью конструктора Choropleth и добавляем его на карту\n",
    "Choropleth(\n",
    "    geo_data=state_geo,\n",
    "    data=pt7,\n",
    "    columns=['district', 'middle_avg_bill'],\n",
    "    key_on='feature.name',\n",
    "    fill_color='YlGn',\n",
    "    fill_opacity=0.6,\n",
    "    legend_name='Значение среднего чека по округам',\n",
    ").add_to(m)\n",
    "\n",
    "# выводим карту\n",
    "m"
   ]
  },
  {
   "cell_type": "markdown",
   "id": "03812423",
   "metadata": {},
   "source": [
    "В центре, что и следовало ожидать, цены самые большие. При этом удаленность от центра не сильно влияет\n",
    "на ценовую категорию, влияет скорее сам округ и средняя стоимость жилья в нем"
   ]
  },
  {
   "cell_type": "markdown",
   "id": "148cbc65",
   "metadata": {},
   "source": [
    "### 4 Анализ рынка кофеен"
   ]
  },
  {
   "cell_type": "markdown",
   "id": "92773244",
   "metadata": {},
   "source": [
    "#### 4.1\n",
    "Сколько всего кофеен в датасете? В каких районах их больше всего, каковы особенности их расположения?"
   ]
  },
  {
   "cell_type": "code",
   "execution_count": null,
   "id": "18894b6a",
   "metadata": {},
   "outputs": [],
   "source": [
    "\n",
    "datacafe=data.query('category==\"кофейня\"')\n",
    "datacafe.head()"
   ]
  },
  {
   "cell_type": "code",
   "execution_count": null,
   "id": "2146e259",
   "metadata": {},
   "outputs": [],
   "source": [
    "data.loc[data['category']=='кофейня','name'].count()"
   ]
  },
  {
   "cell_type": "code",
   "execution_count": null,
   "id": "52157f75",
   "metadata": {},
   "outputs": [],
   "source": [
    "pt8=datacafe.pivot_table(index='district',values='name',aggfunc='count').sort_values(by='name',ascending=False).reset_index()\n",
    "display(pt8)"
   ]
  },
  {
   "cell_type": "markdown",
   "id": "6bcc2bc3",
   "metadata": {},
   "source": [
    "Всего 1404 кафейни и больше всего их  в центральном округе"
   ]
  },
  {
   "cell_type": "markdown",
   "id": "553170c6",
   "metadata": {},
   "source": [
    "#### 4.2\n",
    "Есть ли круглосуточные кофейни? построить график"
   ]
  },
  {
   "cell_type": "code",
   "execution_count": null,
   "id": "a2fbe9b8",
   "metadata": {},
   "outputs": [],
   "source": [
    "datacafe.loc[data['is_24/7']==True,'name'].count() "
   ]
  },
  {
   "cell_type": "code",
   "execution_count": null,
   "id": "76947cc7",
   "metadata": {},
   "outputs": [],
   "source": [
    "pt11=datacafe.pivot_table(index=['district','is_24/7'],values='name',aggfunc='count').sort_values(by='name',ascending=False).reset_index()\n",
    "#pt11.columns=['district','nonchain']\n",
    "#pt11['total']=pt8['name']\n",
    "display(pt11)"
   ]
  },
  {
   "cell_type": "code",
   "execution_count": null,
   "id": "593544f9",
   "metadata": {},
   "outputs": [],
   "source": [
    "fig10=px.bar(pt11,x='name',y='district',color='is_24/7',orientation='h')\n",
    "fig10.update_layout(title='Режим работы кофеен по округам',xaxis_title='кол-во кофеен',yaxis_title='округ')\n",
    "\n",
    "fig10.update_layout(legend_title_text='Круглосуточная работа')\n",
    "\n",
    "fig10.show()\n",
    "\n"
   ]
  },
  {
   "cell_type": "markdown",
   "id": "16b80f30",
   "metadata": {},
   "source": [
    "Круглосуточных кофеен очень мало, а где-то и совсем практически нет"
   ]
  },
  {
   "cell_type": "markdown",
   "id": "52de4c6b",
   "metadata": {},
   "source": [
    "#### 4.3\n",
    "Какие у кофеен рейтинги? Как они распределяются по районам?"
   ]
  },
  {
   "cell_type": "code",
   "execution_count": null,
   "id": "d5e3d5cd",
   "metadata": {},
   "outputs": [],
   "source": [
    "datacafe['rating'].describe()"
   ]
  },
  {
   "cell_type": "code",
   "execution_count": null,
   "id": "ebf4dd9c",
   "metadata": {},
   "outputs": [],
   "source": [
    "pt9=datacafe.pivot_table(index='district',values='rating',aggfunc=['mean','median']).reset_index()\n",
    "pt9.columns=['district','mean_rating','median_rating']\n",
    "display(pt9)"
   ]
  },
  {
   "cell_type": "code",
   "execution_count": null,
   "id": "d09ec6bd",
   "metadata": {},
   "outputs": [],
   "source": [
    "m2 = Map(location=[moscow_lat, moscow_lng], zoom_start=10, tiles='Cartodb Positron')\n",
    "\n",
    "# создаём хороплет с помощью конструктора Choropleth и добавляем его на карту\n",
    "Choropleth(\n",
    "    geo_data=state_geo,\n",
    "    data=pt9,\n",
    "    columns=['district', 'mean_rating'],\n",
    "    key_on='feature.name',\n",
    "    fill_color='YlGn',\n",
    "    fill_opacity=0.6,\n",
    "    legend_name='Значение среднего рейтинга по округам',\n",
    ").add_to(m2)\n",
    "\n",
    "# выводим карту\n",
    "m2"
   ]
  },
  {
   "cell_type": "markdown",
   "id": "521ec033",
   "metadata": {},
   "source": [
    "Медианный рейтинг практически везде одинаков, при этом по среднему рейтингу опережает всех центральный округ"
   ]
  },
  {
   "cell_type": "markdown",
   "id": "d1f32d9f",
   "metadata": {},
   "source": [
    "#### 4.4\n",
    "На какую стоимость чашки капучино стоит ориентироваться при открытии и почему?"
   ]
  },
  {
   "cell_type": "code",
   "execution_count": null,
   "id": "5104856f",
   "metadata": {},
   "outputs": [],
   "source": []
  },
  {
   "cell_type": "code",
   "execution_count": null,
   "id": "1064d2be",
   "metadata": {},
   "outputs": [],
   "source": [
    "datacafe['middle_coffee_cup'].median()"
   ]
  },
  {
   "cell_type": "code",
   "execution_count": null,
   "id": "637d9da6",
   "metadata": {},
   "outputs": [],
   "source": [
    "pt10=datacafe.pivot_table(index='district',values='middle_coffee_cup',aggfunc='median').reset_index().sort_values(by='middle_coffee_cup',ascending=False)\n",
    "display(pt10)"
   ]
  },
  {
   "cell_type": "code",
   "execution_count": null,
   "id": "d5427e59",
   "metadata": {},
   "outputs": [],
   "source": [
    "datacafe['middle_coffee_cup'].corr(datacafe['rating'])"
   ]
  },
  {
   "cell_type": "code",
   "execution_count": null,
   "id": "975944be",
   "metadata": {},
   "outputs": [],
   "source": [
    "datacafe.plot(x='rating',y='middle_coffee_cup',kind='scatter')"
   ]
  },
  {
   "cell_type": "markdown",
   "id": "7be976d2",
   "metadata": {},
   "source": [
    "#### 4.5 Проведем дополнительный анализ"
   ]
  },
  {
   "cell_type": "markdown",
   "id": "983253f9",
   "metadata": {},
   "source": [
    "Взаимосвязь между  рейтингом и средним счетом незначительная. Я думаю, для начала стоит ориентироваться \n",
    "на медианную стоимость в 170 рублей за чашку кофе"
   ]
  },
  {
   "cell_type": "code",
   "execution_count": null,
   "id": "2a0d3231",
   "metadata": {},
   "outputs": [],
   "source": [
    "datacafe['middle_avg_bill'].corr(datacafe['rating'])"
   ]
  },
  {
   "cell_type": "code",
   "execution_count": null,
   "id": "d34dbb25",
   "metadata": {},
   "outputs": [],
   "source": [
    "from sklearn.neighbors import KernelDensity\n",
    "kde=KernelDensity(kernel='gaussian',bandwidth=0.5).fit(np.array(data['rating']).reshape(1, -1))\n",
    "kde.get_params()"
   ]
  },
  {
   "cell_type": "code",
   "execution_count": null,
   "id": "fadc28b7",
   "metadata": {},
   "outputs": [],
   "source": [
    "from seaborn import kdeplot"
   ]
  },
  {
   "cell_type": "markdown",
   "id": "91ea5f2e",
   "metadata": {},
   "source": [
    "Визуализируем оценку плотности распределения рейтинга"
   ]
  },
  {
   "cell_type": "code",
   "execution_count": null,
   "id": "16ce8cfc",
   "metadata": {},
   "outputs": [],
   "source": [
    "my_kde=kdeplot(data['rating'])"
   ]
  },
  {
   "cell_type": "markdown",
   "id": "de75fa44",
   "metadata": {},
   "source": [
    "Попробуем понять, можно ли сказать, что рейтинг распределен нормально, с соответствующей выборочной оценкой\n",
    "мат.ожидания и дисперсии."
   ]
  },
  {
   "cell_type": "code",
   "execution_count": null,
   "id": "6d368c0b",
   "metadata": {},
   "outputs": [],
   "source": [
    "mu=data['rating'].mean()\n"
   ]
  },
  {
   "cell_type": "code",
   "execution_count": null,
   "id": "4a0bf416",
   "metadata": {},
   "outputs": [],
   "source": [
    "sigma=data['rating'].std()\n"
   ]
  },
  {
   "cell_type": "markdown",
   "id": "e1cb0cbc",
   "metadata": {},
   "source": [
    "Произведем Z-нормализацию"
   ]
  },
  {
   "cell_type": "code",
   "execution_count": null,
   "id": "5e7a55bb",
   "metadata": {},
   "outputs": [],
   "source": [
    "normeddata=(data['rating'].to_numpy()-mu)/sigma"
   ]
  },
  {
   "cell_type": "code",
   "execution_count": null,
   "id": "a2e9e7c7",
   "metadata": {},
   "outputs": [],
   "source": [
    "from scipy import stats"
   ]
  },
  {
   "cell_type": "markdown",
   "id": "d3632c38",
   "metadata": {},
   "source": [
    "Воспользуемся критерием согласия Колмогорова"
   ]
  },
  {
   "cell_type": "code",
   "execution_count": null,
   "id": "f1a03f13",
   "metadata": {},
   "outputs": [],
   "source": [
    "stats.kstest(normeddata,'norm')"
   ]
  },
  {
   "cell_type": "markdown",
   "id": "8ef849aa",
   "metadata": {},
   "source": [
    "Таким образом, нельзя сделать вывод о равенстве распределений"
   ]
  },
  {
   "cell_type": "code",
   "execution_count": null,
   "id": "ebeb4ad4",
   "metadata": {},
   "outputs": [],
   "source": [
    "plt.hist(normeddata,bins=20);\n",
    "plt.hist(stats.norm(loc=0,scale=1).rvs(size=8171),bins=20);\n",
    "plt.title('Сравнение нормального распределения с выборочными данными рейтинга')\n",
    "plt.ylabel('кол-во заведений')\n"
   ]
  },
  {
   "cell_type": "markdown",
   "id": "05ac8994",
   "metadata": {},
   "source": [
    "Для дальнейших оценок могут использоваться более сложные методы, а также оценка плотности, например KDE\n",
    "или с использованием различных полиномов и дальнейшего сравнения"
   ]
  },
  {
   "cell_type": "markdown",
   "id": "0d81bf88",
   "metadata": {},
   "source": [
    "Теперь попробуем понять, можно ли на основе данных сделать вывод о том, какой рейтинг получит кофейня\n",
    "после открытия. Поскольку рейтинг очень важен для пользователей, особенно на первом этапе, когда кофейня\n",
    "не получила еще известность и нет постоянных клиентов"
   ]
  },
  {
   "cell_type": "code",
   "execution_count": null,
   "id": "56e10f3c",
   "metadata": {},
   "outputs": [],
   "source": [
    "#middle_coffee_cup\n",
    "pt12=data.pivot_table(index='street',values='middle_coffee_cup',aggfunc='mean').reset_index().sort_values(by='middle_coffee_cup',ascending=False).head(5)\n",
    "display(pt12)"
   ]
  },
  {
   "cell_type": "code",
   "execution_count": null,
   "id": "c868608b",
   "metadata": {},
   "outputs": [],
   "source": [
    "from sklearn import tree\n",
    "from sklearn.tree import DecisionTreeClassifier"
   ]
  },
  {
   "cell_type": "code",
   "execution_count": null,
   "id": "5538900a",
   "metadata": {},
   "outputs": [],
   "source": [
    "datacafe.info()"
   ]
  },
  {
   "cell_type": "code",
   "execution_count": null,
   "id": "25e8578a",
   "metadata": {},
   "outputs": [],
   "source": [
    "datacafe['price'].unique()"
   ]
  },
  {
   "cell_type": "code",
   "execution_count": null,
   "id": "5c65e77a",
   "metadata": {},
   "outputs": [],
   "source": [
    "distunique=datacafe['district'].unique()\n",
    "distunique"
   ]
  },
  {
   "cell_type": "code",
   "execution_count": null,
   "id": "786efc2b",
   "metadata": {},
   "outputs": [],
   "source": [
    "def chain(datacafe):\n",
    "    if datacafe['chain']==True:\n",
    "        return 1\n",
    "    else:\n",
    "        return 0\n",
    "    \n",
    "def workinghourscafe(datacafe):\n",
    "    #hours=datacafe['hours']\n",
    "    if datacafe['hours']=='ежедневно, круглосуточно':\n",
    "        return 1\n",
    "    else:\n",
    "        return 0\n",
    "def distr(datacafe):\n",
    "    #hours=datacafe['hours']\n",
    "\n",
    "    pr=datacafe['district']\n",
    "    if pr==distunique[0]:\n",
    "        return 0\n",
    "    elif pr==distunique[1]:\n",
    "        return 1\n",
    "    elif pr==distunique[2]:\n",
    "        return 2\n",
    "    elif pr==distunique[3]:\n",
    "        return 3\n",
    "    elif pr==distunique[4]:\n",
    "        return 4\n",
    "    elif pr==distunique[5]:\n",
    "        return 5\n",
    "    elif pr==distunique[6]:\n",
    "        return 6\n",
    "    elif pr==distunique[7]:\n",
    "        return 7\n",
    "    else:\n",
    "        return 8\n",
    "   \n",
    "def pricecategory(datacafe):\n",
    "    pr=datacafe['price']\n",
    "    if pr=='низкие':\n",
    "        return 0\n",
    "    elif pr=='средние':\n",
    "        return 1\n",
    "    elif pr=='выше среднего':\n",
    "        return 2\n",
    "    elif pr=='высокие':\n",
    "        return 3\n"
   ]
  },
  {
   "cell_type": "code",
   "execution_count": null,
   "id": "1655c4ec",
   "metadata": {},
   "outputs": [],
   "source": [
    "\n",
    "newdc=datacafe.loc[:,['price','seats','rating']]\n",
    "\n",
    "\n",
    "newdc['chain']=datacafe.apply(chain,axis=1)\n",
    "newdc['24/7']=datacafe.apply(workinghourscafe,axis=1)\n",
    "newdc['price']=datacafe.apply(pricecategory,axis=1)\n",
    "newdc['district']=datacafe.apply(distr,axis=1)\n",
    "newdc=newdc.dropna()"
   ]
  },
  {
   "cell_type": "markdown",
   "id": "98ba6496",
   "metadata": {},
   "source": [
    "Таким образом, категориальные данные перевели в формат чисел"
   ]
  },
  {
   "cell_type": "code",
   "execution_count": null,
   "id": "5fcfe82a",
   "metadata": {},
   "outputs": [],
   "source": [
    "newdc.info()"
   ]
  },
  {
   "cell_type": "code",
   "execution_count": null,
   "id": "f7a08b2a",
   "metadata": {},
   "outputs": [],
   "source": [
    "newdc.head()"
   ]
  },
  {
   "cell_type": "code",
   "execution_count": null,
   "id": "29b3eaa1",
   "metadata": {},
   "outputs": [],
   "source": [
    "newdc=newdc.dropna()"
   ]
  },
  {
   "cell_type": "code",
   "execution_count": null,
   "id": "160048c7",
   "metadata": {},
   "outputs": [],
   "source": [
    "y=newdc['rating'].apply(round)\n",
    "#y"
   ]
  },
  {
   "cell_type": "code",
   "execution_count": null,
   "id": "a3949ff8",
   "metadata": {},
   "outputs": [],
   "source": [
    "X=newdc.loc[:,['price','seats','chain','24/7','district']]\n",
    "display(X)"
   ]
  },
  {
   "cell_type": "code",
   "execution_count": null,
   "id": "e2f7452a",
   "metadata": {},
   "outputs": [],
   "source": [
    "from sklearn.model_selection import GridSearchCV"
   ]
  },
  {
   "cell_type": "markdown",
   "id": "aacc5eaf",
   "metadata": {},
   "source": [
    "Произведем подбор лучших параметров, для простоты в качестве критерия оставим только энтропию Шеннона"
   ]
  },
  {
   "cell_type": "code",
   "execution_count": null,
   "id": "fec91cf7",
   "metadata": {},
   "outputs": [],
   "source": [
    "\n",
    "m=DecisionTreeClassifier()\n",
    "#parametrs = {'criterion': ['gini', 'entropy'], 'max_depth': range(3, 8), 'min_samples_split': range(2, 10), 'min_samples_leaf': range(1, 10)}\n",
    "parametrs = {'criterion': ['entropy'], 'max_depth': range(2, 8), 'min_samples_split': range(2, 10), \n",
    "             'min_samples_leaf': range(1, 10)}\n",
    "gscv=GridSearchCV(m,parametrs,cv=5,n_jobs=-1)\n",
    "gscv.fit(X,y)"
   ]
  },
  {
   "cell_type": "code",
   "execution_count": null,
   "id": "ed85db82",
   "metadata": {},
   "outputs": [],
   "source": [
    "gscv.best_params_"
   ]
  },
  {
   "cell_type": "markdown",
   "id": "77949efc",
   "metadata": {},
   "source": [
    "Визуализируем основные признаки, влияющие на классификацию"
   ]
  },
  {
   "cell_type": "code",
   "execution_count": null,
   "id": "400fcab5",
   "metadata": {},
   "outputs": [],
   "source": [
    "\n",
    "mm=DecisionTreeClassifier(criterion='entropy',max_depth=3,min_samples_leaf=1,min_samples_split=2)\n",
    "mm.fit(X, y)\n",
    "imp = pd.DataFrame(mm.feature_importances_, index=X.columns, columns=['importance'])\n",
    "imp.sort_values('importance').plot(kind='barh', figsize=(12, 8))\n",
    "plt.title('Основные признаки')\n",
    "plt.ylabel('названия столбцов')\n",
    "plt.xlabel('важность')\n",
    "plt.show()"
   ]
  },
  {
   "cell_type": "code",
   "execution_count": null,
   "id": "33c74acc",
   "metadata": {},
   "outputs": [],
   "source": [
    "newdc['district'].unique()"
   ]
  },
  {
   "cell_type": "code",
   "execution_count": null,
   "id": "a512bede",
   "metadata": {},
   "outputs": [],
   "source": [
    "newdc['rating'].apply(round).value_counts()# посмотрим, что изначально находится в value и на какой позиции, и как это дальше \n",
    "#разбивается\n",
    "#value=[3rating,4rating,5rating]"
   ]
  },
  {
   "cell_type": "code",
   "execution_count": null,
   "id": "eda0df06",
   "metadata": {},
   "outputs": [],
   "source": [
    "X;"
   ]
  },
  {
   "cell_type": "markdown",
   "id": "08bd55fa",
   "metadata": {},
   "source": [
    "Построим дерево решений"
   ]
  },
  {
   "cell_type": "code",
   "execution_count": null,
   "id": "3b9e6826",
   "metadata": {},
   "outputs": [],
   "source": [
    "tree.plot_tree(mm)"
   ]
  },
  {
   "cell_type": "markdown",
   "id": "cb0bfb5b",
   "metadata": {},
   "source": [
    "Не сетевая кофейня со средними ценами, и работающая круглосуточно, привлечет скорее всего много пользователей\n",
    "и получит высокий рейтинг"
   ]
  },
  {
   "cell_type": "code",
   "execution_count": null,
   "id": "3b8386ae",
   "metadata": {},
   "outputs": [],
   "source": [
    "print('предполагаемый рейтинг: ',mm.predict(np.array([1,4,0,1,3]).reshape(1,-1))[0])\n",
    "#mm.predict(np.array([1,4,0,1,3]).reshape(1,-1))[0]#несетевая мало мест недорогая круглосуточно"
   ]
  },
  {
   "cell_type": "markdown",
   "id": "f09d348a",
   "metadata": {},
   "source": [
    "Сетевая кофейня с высокими ценами, работающая только в определенное время, получит меньше рейтинг и \n",
    "будет не так популярна"
   ]
  },
  {
   "cell_type": "code",
   "execution_count": null,
   "id": "37984bdf",
   "metadata": {},
   "outputs": [],
   "source": [
    "print('предполагаемый рейтинг: ',mm.predict(np.array([3,4,1,0,3]).reshape(1,-1))[0])#дорогая сетевая"
   ]
  },
  {
   "cell_type": "markdown",
   "id": "fd73fe0c",
   "metadata": {},
   "source": [
    "Однозначный вывод сложно сделать ввиду небольшого количества данных. Для дальнейшего анализа аналитик\n",
    "может по-другому подобрать признаки, для получения более репрезентативной выборки.\n",
    "При этом стоит для начала решить, будет ли кофейня сетевой или нет, внимательно подойти к выбору\n",
    "площади заведения и району расположения. Индивидуальность заведения обычно увеличивает его престиж, \n",
    "при этом сетевые кафе с высокими ценами могут отпугнуть посетителей."
   ]
  },
  {
   "cell_type": "code",
   "execution_count": null,
   "id": "78f9cb5b",
   "metadata": {},
   "outputs": [],
   "source": [
    "from sklearn.manifold import TSNE"
   ]
  },
  {
   "cell_type": "markdown",
   "id": "e1a1f5f8",
   "metadata": {},
   "source": [
    "### блок обновления библиотек"
   ]
  },
  {
   "cell_type": "code",
   "execution_count": null,
   "id": "553acf7b",
   "metadata": {},
   "outputs": [],
   "source": [
    "# pip install numpy --upgrade"
   ]
  },
  {
   "cell_type": "code",
   "execution_count": null,
   "id": "7ee14f79",
   "metadata": {},
   "outputs": [],
   "source": [
    "# pip install scikit-learn --upgrade"
   ]
  },
  {
   "cell_type": "code",
   "execution_count": null,
   "id": "38b9d83b",
   "metadata": {},
   "outputs": [],
   "source": [
    "import numpy as np"
   ]
  },
  {
   "cell_type": "code",
   "execution_count": null,
   "id": "407bc706",
   "metadata": {},
   "outputs": [],
   "source": [
    "# import numpy\n",
    "# print(numpy.__version__)"
   ]
  },
  {
   "cell_type": "code",
   "execution_count": null,
   "id": "316b2870",
   "metadata": {},
   "outputs": [],
   "source": [
    "# import sklearn\n",
    "# print(sklearn.__version__)"
   ]
  },
  {
   "cell_type": "code",
   "execution_count": null,
   "id": "ffef5470",
   "metadata": {},
   "outputs": [],
   "source": [
    "XX=TSNE(n_components=2,learning_rate='auto',init='random').fit_transform(newdc)"
   ]
  },
  {
   "cell_type": "markdown",
   "id": "6492e9f9",
   "metadata": {},
   "source": [
    "Воспользуемся методом понижения размерности tSNE, основанным на расстоянии Кульбака-Лейблера, для дальнейшей визуализации, чтобы понять  разделяется ли\n",
    "данная выборка на каие-то группы явно или последующая кластеризация не является тривиальной задачей"
   ]
  },
  {
   "cell_type": "code",
   "execution_count": null,
   "id": "7d25124f",
   "metadata": {},
   "outputs": [],
   "source": [
    "plt.scatter(XX[:,0],XX[:,1])"
   ]
  },
  {
   "cell_type": "markdown",
   "id": "de8f09b5",
   "metadata": {},
   "source": [
    "Четкие кластеры сложно выделить на первый взгляд"
   ]
  },
  {
   "cell_type": "markdown",
   "id": "ceae8577",
   "metadata": {},
   "source": [
    "### 5 Заключение и общий вывод"
   ]
  },
  {
   "cell_type": "markdown",
   "id": "9400f78f",
   "metadata": {},
   "source": [
    "**Заключение**\n",
    "В рамках работы был проанализирован рынок общественного питания Москвы. В результате анализа \n",
    "можно сделать следующие выводы:\n",
    "    1) Самые популярные заведения - кафе и рестораны;\\\n",
    "    2) больше всего мест в барах и ресторанах;\\\n",
    "    3) сетевые заведения представлены реже, чем не сетевые, при этом среди сетевых обычно пиццерии и булочные;\\\n",
    "    4) больше всего заведений, что ожидаемо, находится в центральном округу, при этом в каждом округу;\\\n",
    "    самые популярные заведения - кофейни и рестораны;\\\n",
    "    5) средние рейтинги не сильно отличаются по категориям, при этом рейтинги и средний чек зависят \n",
    "    от района."
   ]
  },
  {
   "cell_type": "markdown",
   "id": "60e3a334",
   "metadata": {},
   "source": [
    "В рамках анализа кофеен можно сделать следующие выводы:\\\n",
    "    1) Всего представлено 1404 кофейни, придется столкнуться с большой конкуренцией;\\\n",
    "    2) самая высокая конкуренция в центральном и северном округах;\\\n",
    "    3) круглосуточных кофеен очень мало;\\\n",
    "    4) самый высокий рейтинг в среднем в центральном округе;\n",
    "    5) Сложно сделать однозначные выводы, требуется дополнительная информация о доходах кофеен, а ценах\n",
    "    аренды помещений, информация о закрывшихся кофейнях в связи с убыточностью. "
   ]
  },
  {
   "cell_type": "markdown",
   "id": "b3c56be3",
   "metadata": {},
   "source": [
    "При открытии кофейни первым делом следует определить: есть ли планы делать ее сетевой, выбрать формат,\n",
    "    вместимость и район.\n",
    "    Я бы предложил сделать круглосуточную кофейню со среднем ценовым диапазоном и расположить ее \n",
    "    в центре если нет страха перед конкуренцией, либо в одном из не самых популярных районов, тогда\n",
    "    ввиду своей доступности, ценам и режиму работы, кофейня будет пользоваться спросом, скорее всего \n",
    "    получит высокий рейтинг и будет приносить прибыль"
   ]
  },
  {
   "cell_type": "markdown",
   "id": "b0a5fa5b",
   "metadata": {},
   "source": [
    "В среднем, дороже всего кофе стоит на следующих улицах\n",
    " (большая семёновская улица,большая никитская улица,3-я фрунзенская улица,большая сухаревская площадь,богословский переулок), при этом, ввиду \n",
    "небольшого количества даных по среднему значению не всегда стоит ориентироваться в данном случае\n"
   ]
  },
  {
   "cell_type": "markdown",
   "id": "34c76f25",
   "metadata": {},
   "source": [
    "\n",
    "**Ссылка на презентацию (исправленная)** \n",
    "https://cloud.mail.ru/public/zkX5/1w9y4hKYh"
   ]
  },
  {
   "cell_type": "code",
   "execution_count": null,
   "id": "eb47e09c",
   "metadata": {},
   "outputs": [],
   "source": []
  }
 ],
 "metadata": {
  "ExecuteTimeLog": [
   {
    "duration": 3123,
    "start_time": "2023-12-26T10:26:02.864Z"
   },
   {
    "duration": 3,
    "start_time": "2023-12-26T10:26:09.164Z"
   },
   {
    "duration": 787,
    "start_time": "2023-12-26T10:26:13.328Z"
   },
   {
    "duration": 3,
    "start_time": "2023-12-26T10:26:14.117Z"
   },
   {
    "duration": 506,
    "start_time": "2023-12-26T10:26:14.121Z"
   },
   {
    "duration": 3,
    "start_time": "2023-12-26T10:26:14.629Z"
   },
   {
    "duration": 287,
    "start_time": "2023-12-26T10:26:14.633Z"
   },
   {
    "duration": 17,
    "start_time": "2023-12-26T10:26:14.922Z"
   },
   {
    "duration": 46,
    "start_time": "2023-12-26T10:26:14.941Z"
   },
   {
    "duration": 888,
    "start_time": "2023-12-26T10:26:14.989Z"
   },
   {
    "duration": 14,
    "start_time": "2023-12-26T10:26:15.878Z"
   },
   {
    "duration": 22,
    "start_time": "2023-12-26T10:26:15.893Z"
   },
   {
    "duration": 16,
    "start_time": "2023-12-26T10:26:15.917Z"
   },
   {
    "duration": 15,
    "start_time": "2023-12-26T10:26:15.935Z"
   },
   {
    "duration": 10,
    "start_time": "2023-12-26T10:26:15.951Z"
   },
   {
    "duration": 15,
    "start_time": "2023-12-26T10:26:15.965Z"
   },
   {
    "duration": 8,
    "start_time": "2023-12-26T10:26:15.981Z"
   },
   {
    "duration": 27,
    "start_time": "2023-12-26T10:26:15.990Z"
   },
   {
    "duration": 4,
    "start_time": "2023-12-26T10:26:16.018Z"
   },
   {
    "duration": 127,
    "start_time": "2023-12-26T10:26:16.023Z"
   },
   {
    "duration": 4,
    "start_time": "2023-12-26T10:26:16.152Z"
   },
   {
    "duration": 15,
    "start_time": "2023-12-26T10:26:16.157Z"
   },
   {
    "duration": 165,
    "start_time": "2023-12-26T10:26:16.173Z"
   },
   {
    "duration": 4,
    "start_time": "2023-12-26T10:26:16.340Z"
   },
   {
    "duration": 178,
    "start_time": "2023-12-26T10:26:16.345Z"
   },
   {
    "duration": 20,
    "start_time": "2023-12-26T10:26:16.524Z"
   },
   {
    "duration": 234,
    "start_time": "2023-12-26T10:26:16.546Z"
   },
   {
    "duration": 167,
    "start_time": "2023-12-26T10:26:16.782Z"
   },
   {
    "duration": 24,
    "start_time": "2023-12-26T10:26:16.950Z"
   },
   {
    "duration": 7,
    "start_time": "2023-12-26T10:26:16.976Z"
   },
   {
    "duration": 5,
    "start_time": "2023-12-26T10:26:16.985Z"
   },
   {
    "duration": 31,
    "start_time": "2023-12-26T10:26:16.991Z"
   },
   {
    "duration": 18,
    "start_time": "2023-12-26T10:26:17.024Z"
   },
   {
    "duration": 5,
    "start_time": "2023-12-26T10:26:17.044Z"
   },
   {
    "duration": 9,
    "start_time": "2023-12-26T10:26:17.050Z"
   },
   {
    "duration": 16,
    "start_time": "2023-12-26T10:26:17.061Z"
   },
   {
    "duration": 395,
    "start_time": "2023-12-26T10:26:17.079Z"
   },
   {
    "duration": 17,
    "start_time": "2023-12-26T10:26:17.475Z"
   },
   {
    "duration": 7,
    "start_time": "2023-12-26T10:26:17.493Z"
   },
   {
    "duration": 47,
    "start_time": "2023-12-26T10:26:17.514Z"
   },
   {
    "duration": 5,
    "start_time": "2023-12-26T10:26:17.562Z"
   },
   {
    "duration": 24,
    "start_time": "2023-12-26T10:26:17.568Z"
   },
   {
    "duration": 18,
    "start_time": "2023-12-26T10:26:17.616Z"
   },
   {
    "duration": 90,
    "start_time": "2023-12-26T10:26:17.636Z"
   },
   {
    "duration": 13,
    "start_time": "2023-12-26T10:26:17.727Z"
   },
   {
    "duration": 41,
    "start_time": "2023-12-26T10:26:17.742Z"
   },
   {
    "duration": 188,
    "start_time": "2023-12-26T10:26:17.784Z"
   },
   {
    "duration": 16,
    "start_time": "2023-12-26T10:26:17.973Z"
   },
   {
    "duration": 493,
    "start_time": "2023-12-26T10:26:17.990Z"
   },
   {
    "duration": 9542,
    "start_time": "2023-12-26T10:26:18.485Z"
   },
   {
    "duration": 18,
    "start_time": "2023-12-26T10:26:28.029Z"
   },
   {
    "duration": 8,
    "start_time": "2023-12-26T10:26:28.049Z"
   },
   {
    "duration": 74,
    "start_time": "2023-12-26T10:26:28.058Z"
   },
   {
    "duration": 101,
    "start_time": "2023-12-26T10:26:28.134Z"
   },
   {
    "duration": 18,
    "start_time": "2023-12-26T10:26:28.237Z"
   },
   {
    "duration": 64,
    "start_time": "2023-12-26T10:26:28.257Z"
   },
   {
    "duration": 21,
    "start_time": "2023-12-26T10:26:28.322Z"
   },
   {
    "duration": 71,
    "start_time": "2023-12-26T10:26:28.345Z"
   },
   {
    "duration": 146,
    "start_time": "2023-12-26T10:26:28.418Z"
   },
   {
    "duration": 2,
    "start_time": "2023-12-26T10:26:28.565Z"
   },
   {
    "duration": 46,
    "start_time": "2023-12-26T10:26:28.569Z"
   },
   {
    "duration": 7,
    "start_time": "2023-12-26T10:26:28.617Z"
   },
   {
    "duration": 22,
    "start_time": "2023-12-26T10:26:28.626Z"
   },
   {
    "duration": 22,
    "start_time": "2023-12-26T10:26:28.649Z"
   },
   {
    "duration": 31,
    "start_time": "2023-12-26T10:26:28.672Z"
   },
   {
    "duration": 47,
    "start_time": "2023-12-26T10:26:28.705Z"
   },
   {
    "duration": 29,
    "start_time": "2023-12-26T10:26:28.753Z"
   },
   {
    "duration": 45,
    "start_time": "2023-12-26T10:26:28.784Z"
   },
   {
    "duration": 308,
    "start_time": "2023-12-26T10:26:28.831Z"
   },
   {
    "duration": 4,
    "start_time": "2023-12-26T10:26:29.141Z"
   },
   {
    "duration": 37,
    "start_time": "2023-12-26T10:26:29.146Z"
   },
   {
    "duration": 24,
    "start_time": "2023-12-26T10:26:29.184Z"
   },
   {
    "duration": 178,
    "start_time": "2023-12-26T10:26:29.209Z"
   },
   {
    "duration": 5,
    "start_time": "2023-12-26T10:26:29.389Z"
   },
   {
    "duration": 24,
    "start_time": "2023-12-26T10:26:29.395Z"
   },
   {
    "duration": 303,
    "start_time": "2023-12-26T10:26:29.421Z"
   },
   {
    "duration": 2,
    "start_time": "2023-12-26T10:26:29.725Z"
   },
   {
    "duration": 180,
    "start_time": "2023-12-26T10:26:29.729Z"
   },
   {
    "duration": 4,
    "start_time": "2023-12-26T10:26:29.911Z"
   },
   {
    "duration": 32,
    "start_time": "2023-12-26T10:26:29.917Z"
   },
   {
    "duration": 18,
    "start_time": "2023-12-26T10:26:29.951Z"
   },
   {
    "duration": 16,
    "start_time": "2023-12-26T10:26:29.970Z"
   },
   {
    "duration": 25,
    "start_time": "2023-12-26T10:26:29.987Z"
   },
   {
    "duration": 179,
    "start_time": "2023-12-26T10:26:30.014Z"
   },
   {
    "duration": 9,
    "start_time": "2023-12-26T10:26:30.194Z"
   },
   {
    "duration": 19,
    "start_time": "2023-12-26T10:26:30.204Z"
   },
   {
    "duration": 9,
    "start_time": "2023-12-26T10:26:30.225Z"
   },
   {
    "duration": 41,
    "start_time": "2023-12-26T10:26:30.235Z"
   },
   {
    "duration": 49,
    "start_time": "2023-12-26T10:26:30.277Z"
   },
   {
    "duration": 114,
    "start_time": "2023-12-26T10:26:30.328Z"
   },
   {
    "duration": 10,
    "start_time": "2023-12-26T10:26:30.444Z"
   },
   {
    "duration": 28,
    "start_time": "2023-12-26T10:26:30.455Z"
   },
   {
    "duration": 39,
    "start_time": "2023-12-26T10:26:30.485Z"
   },
   {
    "duration": 55,
    "start_time": "2023-12-26T10:26:30.526Z"
   },
   {
    "duration": 39,
    "start_time": "2023-12-26T10:26:30.583Z"
   },
   {
    "duration": 31,
    "start_time": "2023-12-26T10:26:30.624Z"
   },
   {
    "duration": 8355,
    "start_time": "2023-12-26T10:26:30.657Z"
   },
   {
    "duration": 4,
    "start_time": "2023-12-26T10:26:39.015Z"
   },
   {
    "duration": 156,
    "start_time": "2023-12-26T10:26:39.020Z"
   },
   {
    "duration": 5,
    "start_time": "2023-12-26T10:26:39.178Z"
   },
   {
    "duration": 4,
    "start_time": "2023-12-26T10:26:39.185Z"
   },
   {
    "duration": 410,
    "start_time": "2023-12-26T10:26:39.190Z"
   },
   {
    "duration": 4,
    "start_time": "2023-12-26T10:26:39.602Z"
   },
   {
    "duration": 6,
    "start_time": "2023-12-26T10:26:39.615Z"
   },
   {
    "duration": 10,
    "start_time": "2023-12-26T10:26:39.623Z"
   },
   {
    "duration": 231,
    "start_time": "2023-12-26T10:26:39.634Z"
   },
   {
    "duration": 0,
    "start_time": "2023-12-26T10:26:39.867Z"
   },
   {
    "duration": 12,
    "start_time": "2023-12-26T10:27:14.045Z"
   },
   {
    "duration": 15,
    "start_time": "2023-12-26T10:27:42.475Z"
   },
   {
    "duration": 11,
    "start_time": "2023-12-26T10:27:52.599Z"
   },
   {
    "duration": 13,
    "start_time": "2023-12-26T10:28:09.447Z"
   },
   {
    "duration": 4,
    "start_time": "2023-12-26T10:30:03.732Z"
   },
   {
    "duration": 37,
    "start_time": "2023-12-26T10:30:04.453Z"
   },
   {
    "duration": 60,
    "start_time": "2023-12-26T11:04:58.662Z"
   },
   {
    "duration": 6049,
    "start_time": "2023-12-26T11:05:11.326Z"
   },
   {
    "duration": 3,
    "start_time": "2023-12-26T11:05:21.115Z"
   },
   {
    "duration": 3,
    "start_time": "2023-12-26T11:05:24.706Z"
   },
   {
    "duration": 5,
    "start_time": "2023-12-26T11:05:25.665Z"
   },
   {
    "duration": 47,
    "start_time": "2023-12-26T11:05:26.531Z"
   },
   {
    "duration": 11,
    "start_time": "2023-12-26T11:06:14.846Z"
   },
   {
    "duration": 3,
    "start_time": "2023-12-26T11:06:33.181Z"
   },
   {
    "duration": 50,
    "start_time": "2023-12-26T11:08:23.766Z"
   },
   {
    "duration": 38,
    "start_time": "2023-12-26T11:08:29.770Z"
   },
   {
    "duration": 54,
    "start_time": "2023-12-26T11:08:53.137Z"
   },
   {
    "duration": 51,
    "start_time": "2023-12-26T11:10:11.286Z"
   },
   {
    "duration": 49,
    "start_time": "2023-12-26T11:10:17.668Z"
   },
   {
    "duration": 3,
    "start_time": "2023-12-26T11:10:26.940Z"
   },
   {
    "duration": 2836,
    "start_time": "2023-12-26T11:10:49.000Z"
   },
   {
    "duration": 7621,
    "start_time": "2023-12-26T11:11:18.903Z"
   },
   {
    "duration": 2,
    "start_time": "2023-12-26T11:11:36.441Z"
   },
   {
    "duration": 6634,
    "start_time": "2023-12-26T11:11:38.175Z"
   },
   {
    "duration": 2,
    "start_time": "2023-12-26T11:12:03.625Z"
   },
   {
    "duration": 4,
    "start_time": "2023-12-26T11:12:07.817Z"
   },
   {
    "duration": 72,
    "start_time": "2023-12-26T11:12:14.978Z"
   },
   {
    "duration": 3,
    "start_time": "2023-12-26T11:12:18.249Z"
   },
   {
    "duration": 3,
    "start_time": "2023-12-26T11:12:37.564Z"
   },
   {
    "duration": 3,
    "start_time": "2023-12-26T11:12:44.364Z"
   },
   {
    "duration": 3,
    "start_time": "2023-12-26T11:13:00.893Z"
   },
   {
    "duration": 4,
    "start_time": "2023-12-26T11:13:02.275Z"
   },
   {
    "duration": 4,
    "start_time": "2023-12-26T11:13:03.596Z"
   },
   {
    "duration": 2,
    "start_time": "2023-12-26T11:13:12.693Z"
   },
   {
    "duration": 3,
    "start_time": "2023-12-26T11:13:14.171Z"
   },
   {
    "duration": 24,
    "start_time": "2023-12-26T11:13:19.116Z"
   },
   {
    "duration": 17,
    "start_time": "2023-12-26T11:13:26.717Z"
   },
   {
    "duration": 639,
    "start_time": "2023-12-26T11:13:35.709Z"
   },
   {
    "duration": 2,
    "start_time": "2023-12-26T11:13:36.350Z"
   },
   {
    "duration": 519,
    "start_time": "2023-12-26T11:13:36.353Z"
   },
   {
    "duration": 3,
    "start_time": "2023-12-26T11:13:36.874Z"
   },
   {
    "duration": 98,
    "start_time": "2023-12-26T11:13:36.878Z"
   },
   {
    "duration": 19,
    "start_time": "2023-12-26T11:13:36.977Z"
   },
   {
    "duration": 13,
    "start_time": "2023-12-26T11:13:36.998Z"
   },
   {
    "duration": 758,
    "start_time": "2023-12-26T11:13:37.013Z"
   },
   {
    "duration": 14,
    "start_time": "2023-12-26T11:13:37.773Z"
   },
   {
    "duration": 31,
    "start_time": "2023-12-26T11:13:37.789Z"
   },
   {
    "duration": 36,
    "start_time": "2023-12-26T11:13:37.821Z"
   },
   {
    "duration": 17,
    "start_time": "2023-12-26T11:13:37.859Z"
   },
   {
    "duration": 9,
    "start_time": "2023-12-26T11:13:37.877Z"
   },
   {
    "duration": 14,
    "start_time": "2023-12-26T11:13:37.888Z"
   },
   {
    "duration": 6,
    "start_time": "2023-12-26T11:13:37.903Z"
   },
   {
    "duration": 9,
    "start_time": "2023-12-26T11:13:37.910Z"
   },
   {
    "duration": 4,
    "start_time": "2023-12-26T11:13:37.920Z"
   },
   {
    "duration": 75,
    "start_time": "2023-12-26T11:13:37.925Z"
   },
   {
    "duration": 15,
    "start_time": "2023-12-26T11:13:38.001Z"
   },
   {
    "duration": 13,
    "start_time": "2023-12-26T11:13:38.017Z"
   },
   {
    "duration": 151,
    "start_time": "2023-12-26T11:13:38.032Z"
   },
   {
    "duration": 4,
    "start_time": "2023-12-26T11:13:38.184Z"
   },
   {
    "duration": 163,
    "start_time": "2023-12-26T11:13:38.189Z"
   },
   {
    "duration": 28,
    "start_time": "2023-12-26T11:13:38.354Z"
   },
   {
    "duration": 226,
    "start_time": "2023-12-26T11:13:38.384Z"
   },
   {
    "duration": 162,
    "start_time": "2023-12-26T11:13:38.614Z"
   },
   {
    "duration": 20,
    "start_time": "2023-12-26T11:13:38.778Z"
   },
   {
    "duration": 7,
    "start_time": "2023-12-26T11:13:38.817Z"
   },
   {
    "duration": 10,
    "start_time": "2023-12-26T11:13:38.825Z"
   },
   {
    "duration": 9,
    "start_time": "2023-12-26T11:13:38.837Z"
   },
   {
    "duration": 20,
    "start_time": "2023-12-26T11:13:38.848Z"
   },
   {
    "duration": 5,
    "start_time": "2023-12-26T11:13:38.870Z"
   },
   {
    "duration": 14,
    "start_time": "2023-12-26T11:13:38.876Z"
   },
   {
    "duration": 9,
    "start_time": "2023-12-26T11:13:38.915Z"
   },
   {
    "duration": 366,
    "start_time": "2023-12-26T11:13:38.926Z"
   },
   {
    "duration": 26,
    "start_time": "2023-12-26T11:13:39.293Z"
   },
   {
    "duration": 7,
    "start_time": "2023-12-26T11:13:39.320Z"
   },
   {
    "duration": 45,
    "start_time": "2023-12-26T11:13:39.329Z"
   },
   {
    "duration": 5,
    "start_time": "2023-12-26T11:13:39.376Z"
   },
   {
    "duration": 48,
    "start_time": "2023-12-26T11:13:39.383Z"
   },
   {
    "duration": 20,
    "start_time": "2023-12-26T11:13:39.433Z"
   },
   {
    "duration": 91,
    "start_time": "2023-12-26T11:13:39.454Z"
   },
   {
    "duration": 16,
    "start_time": "2023-12-26T11:13:39.547Z"
   },
   {
    "duration": 68,
    "start_time": "2023-12-26T11:13:39.564Z"
   },
   {
    "duration": 106,
    "start_time": "2023-12-26T11:13:39.633Z"
   },
   {
    "duration": 14,
    "start_time": "2023-12-26T11:13:39.741Z"
   },
   {
    "duration": 456,
    "start_time": "2023-12-26T11:13:39.757Z"
   },
   {
    "duration": 9382,
    "start_time": "2023-12-26T11:13:40.215Z"
   },
   {
    "duration": 26,
    "start_time": "2023-12-26T11:13:49.600Z"
   },
   {
    "duration": 7,
    "start_time": "2023-12-26T11:13:49.628Z"
   },
   {
    "duration": 23,
    "start_time": "2023-12-26T11:13:49.637Z"
   },
   {
    "duration": 156,
    "start_time": "2023-12-26T11:13:49.662Z"
   },
   {
    "duration": 13,
    "start_time": "2023-12-26T11:13:49.819Z"
   },
   {
    "duration": 12,
    "start_time": "2023-12-26T11:13:49.833Z"
   },
   {
    "duration": 7,
    "start_time": "2023-12-26T11:13:49.847Z"
   },
   {
    "duration": 69,
    "start_time": "2023-12-26T11:13:49.856Z"
   },
   {
    "duration": 143,
    "start_time": "2023-12-26T11:13:49.926Z"
   },
   {
    "duration": 3,
    "start_time": "2023-12-26T11:13:50.070Z"
   },
   {
    "duration": 27,
    "start_time": "2023-12-26T11:13:50.074Z"
   },
   {
    "duration": 17,
    "start_time": "2023-12-26T11:13:50.102Z"
   },
   {
    "duration": 20,
    "start_time": "2023-12-26T11:13:50.121Z"
   },
   {
    "duration": 15,
    "start_time": "2023-12-26T11:13:50.142Z"
   },
   {
    "duration": 17,
    "start_time": "2023-12-26T11:13:50.158Z"
   },
   {
    "duration": 69,
    "start_time": "2023-12-26T11:13:50.176Z"
   },
   {
    "duration": 8,
    "start_time": "2023-12-26T11:13:50.248Z"
   },
   {
    "duration": 26,
    "start_time": "2023-12-26T11:13:50.258Z"
   },
   {
    "duration": 143,
    "start_time": "2023-12-26T11:13:50.286Z"
   },
   {
    "duration": 5,
    "start_time": "2023-12-26T11:13:50.431Z"
   },
   {
    "duration": 23,
    "start_time": "2023-12-26T11:13:50.437Z"
   },
   {
    "duration": 13,
    "start_time": "2023-12-26T11:13:50.461Z"
   },
   {
    "duration": 344,
    "start_time": "2023-12-26T11:13:50.476Z"
   },
   {
    "duration": 5,
    "start_time": "2023-12-26T11:13:50.821Z"
   },
   {
    "duration": 16,
    "start_time": "2023-12-26T11:13:50.828Z"
   },
   {
    "duration": 139,
    "start_time": "2023-12-26T11:13:50.846Z"
   },
   {
    "duration": 3,
    "start_time": "2023-12-26T11:13:50.987Z"
   },
   {
    "duration": 175,
    "start_time": "2023-12-26T11:13:50.991Z"
   },
   {
    "duration": 3,
    "start_time": "2023-12-26T11:13:51.168Z"
   },
   {
    "duration": 10,
    "start_time": "2023-12-26T11:13:51.173Z"
   },
   {
    "duration": 5,
    "start_time": "2023-12-26T11:13:51.184Z"
   },
   {
    "duration": 5,
    "start_time": "2023-12-26T11:13:51.190Z"
   },
   {
    "duration": 23,
    "start_time": "2023-12-26T11:13:51.196Z"
   },
   {
    "duration": 167,
    "start_time": "2023-12-26T11:13:51.224Z"
   },
   {
    "duration": 14,
    "start_time": "2023-12-26T11:13:51.392Z"
   },
   {
    "duration": 21,
    "start_time": "2023-12-26T11:13:51.414Z"
   },
   {
    "duration": 24,
    "start_time": "2023-12-26T11:13:51.436Z"
   },
   {
    "duration": 9,
    "start_time": "2023-12-26T11:13:51.462Z"
   },
   {
    "duration": 40,
    "start_time": "2023-12-26T11:13:51.472Z"
   },
   {
    "duration": 71,
    "start_time": "2023-12-26T11:13:51.514Z"
   },
   {
    "duration": 10,
    "start_time": "2023-12-26T11:13:51.586Z"
   },
   {
    "duration": 21,
    "start_time": "2023-12-26T11:13:51.597Z"
   },
   {
    "duration": 13,
    "start_time": "2023-12-26T11:13:51.620Z"
   },
   {
    "duration": 10,
    "start_time": "2023-12-26T11:13:51.634Z"
   },
   {
    "duration": 15,
    "start_time": "2023-12-26T11:13:51.645Z"
   },
   {
    "duration": 10,
    "start_time": "2023-12-26T11:13:51.662Z"
   },
   {
    "duration": 9968,
    "start_time": "2023-12-26T11:13:51.674Z"
   },
   {
    "duration": 4,
    "start_time": "2023-12-26T11:14:01.644Z"
   },
   {
    "duration": 222,
    "start_time": "2023-12-26T11:14:01.650Z"
   },
   {
    "duration": 7,
    "start_time": "2023-12-26T11:14:01.874Z"
   },
   {
    "duration": 23,
    "start_time": "2023-12-26T11:14:01.883Z"
   },
   {
    "duration": 421,
    "start_time": "2023-12-26T11:14:01.908Z"
   },
   {
    "duration": 4,
    "start_time": "2023-12-26T11:14:02.331Z"
   },
   {
    "duration": 39,
    "start_time": "2023-12-26T11:14:02.337Z"
   },
   {
    "duration": 20,
    "start_time": "2023-12-26T11:14:02.378Z"
   },
   {
    "duration": 11,
    "start_time": "2023-12-26T11:14:02.399Z"
   },
   {
    "duration": 17,
    "start_time": "2023-12-26T11:14:02.412Z"
   },
   {
    "duration": 19,
    "start_time": "2023-12-26T11:14:02.431Z"
   },
   {
    "duration": 6,
    "start_time": "2023-12-26T11:14:02.452Z"
   },
   {
    "duration": 7,
    "start_time": "2023-12-26T11:14:02.459Z"
   },
   {
    "duration": 3,
    "start_time": "2023-12-26T11:14:02.468Z"
   },
   {
    "duration": 13,
    "start_time": "2023-12-26T11:14:02.473Z"
   },
   {
    "duration": 1359,
    "start_time": "2023-12-26T11:14:02.488Z"
   },
   {
    "duration": 126,
    "start_time": "2023-12-26T11:14:03.849Z"
   },
   {
    "duration": 656,
    "start_time": "2023-12-26T11:19:26.500Z"
   },
   {
    "duration": 2,
    "start_time": "2023-12-26T11:19:27.158Z"
   },
   {
    "duration": 572,
    "start_time": "2023-12-26T11:19:27.161Z"
   },
   {
    "duration": 2,
    "start_time": "2023-12-26T11:19:27.735Z"
   },
   {
    "duration": 112,
    "start_time": "2023-12-26T11:19:27.739Z"
   },
   {
    "duration": 19,
    "start_time": "2023-12-26T11:19:27.853Z"
   },
   {
    "duration": 18,
    "start_time": "2023-12-26T11:19:27.873Z"
   },
   {
    "duration": 781,
    "start_time": "2023-12-26T11:19:27.893Z"
   },
   {
    "duration": 14,
    "start_time": "2023-12-26T11:19:28.676Z"
   },
   {
    "duration": 21,
    "start_time": "2023-12-26T11:19:28.693Z"
   },
   {
    "duration": 39,
    "start_time": "2023-12-26T11:19:28.715Z"
   },
   {
    "duration": 21,
    "start_time": "2023-12-26T11:19:28.756Z"
   },
   {
    "duration": 39,
    "start_time": "2023-12-26T11:19:28.779Z"
   },
   {
    "duration": 20,
    "start_time": "2023-12-26T11:19:28.820Z"
   },
   {
    "duration": 30,
    "start_time": "2023-12-26T11:19:28.842Z"
   },
   {
    "duration": 43,
    "start_time": "2023-12-26T11:19:28.874Z"
   },
   {
    "duration": 15,
    "start_time": "2023-12-26T11:19:28.918Z"
   },
   {
    "duration": 25,
    "start_time": "2023-12-26T11:19:28.934Z"
   },
   {
    "duration": 36,
    "start_time": "2023-12-26T11:19:28.961Z"
   },
   {
    "duration": 93,
    "start_time": "2023-12-26T11:19:28.999Z"
   },
   {
    "duration": 5,
    "start_time": "2023-12-26T11:19:29.094Z"
   },
   {
    "duration": 37,
    "start_time": "2023-12-26T11:19:29.100Z"
   },
   {
    "duration": 166,
    "start_time": "2023-12-26T11:19:29.139Z"
   },
   {
    "duration": 3,
    "start_time": "2023-12-26T11:19:29.307Z"
   },
   {
    "duration": 159,
    "start_time": "2023-12-26T11:19:29.314Z"
   },
   {
    "duration": 22,
    "start_time": "2023-12-26T11:19:29.474Z"
   },
   {
    "duration": 215,
    "start_time": "2023-12-26T11:19:29.515Z"
   },
   {
    "duration": 153,
    "start_time": "2023-12-26T11:19:29.734Z"
   },
   {
    "duration": 16,
    "start_time": "2023-12-26T11:19:29.889Z"
   },
   {
    "duration": 10,
    "start_time": "2023-12-26T11:19:29.915Z"
   },
   {
    "duration": 19,
    "start_time": "2023-12-26T11:19:29.926Z"
   },
   {
    "duration": 40,
    "start_time": "2023-12-26T11:19:29.946Z"
   },
   {
    "duration": 48,
    "start_time": "2023-12-26T11:19:29.987Z"
   },
   {
    "duration": 35,
    "start_time": "2023-12-26T11:19:30.037Z"
   },
   {
    "duration": 41,
    "start_time": "2023-12-26T11:19:30.073Z"
   },
   {
    "duration": 39,
    "start_time": "2023-12-26T11:19:30.116Z"
   },
   {
    "duration": 396,
    "start_time": "2023-12-26T11:19:30.157Z"
   },
   {
    "duration": 19,
    "start_time": "2023-12-26T11:19:30.555Z"
   },
   {
    "duration": 45,
    "start_time": "2023-12-26T11:19:30.575Z"
   },
   {
    "duration": 102,
    "start_time": "2023-12-26T11:19:30.622Z"
   },
   {
    "duration": 62,
    "start_time": "2023-12-26T11:19:30.726Z"
   },
   {
    "duration": 68,
    "start_time": "2023-12-26T11:19:30.790Z"
   },
   {
    "duration": 54,
    "start_time": "2023-12-26T11:19:30.860Z"
   },
   {
    "duration": 135,
    "start_time": "2023-12-26T11:19:30.916Z"
   },
   {
    "duration": 16,
    "start_time": "2023-12-26T11:19:31.055Z"
   },
   {
    "duration": 69,
    "start_time": "2023-12-26T11:19:31.073Z"
   },
   {
    "duration": 130,
    "start_time": "2023-12-26T11:19:31.143Z"
   },
   {
    "duration": 16,
    "start_time": "2023-12-26T11:19:31.275Z"
   },
   {
    "duration": 573,
    "start_time": "2023-12-26T11:19:31.315Z"
   },
   {
    "duration": 9293,
    "start_time": "2023-12-26T11:19:31.889Z"
   },
   {
    "duration": 34,
    "start_time": "2023-12-26T11:19:41.184Z"
   },
   {
    "duration": 7,
    "start_time": "2023-12-26T11:19:41.220Z"
   },
   {
    "duration": 28,
    "start_time": "2023-12-26T11:19:41.228Z"
   },
   {
    "duration": 99,
    "start_time": "2023-12-26T11:19:41.257Z"
   },
   {
    "duration": 66,
    "start_time": "2023-12-26T11:19:41.358Z"
   },
   {
    "duration": 5,
    "start_time": "2023-12-26T11:19:41.425Z"
   },
   {
    "duration": 20,
    "start_time": "2023-12-26T11:19:41.432Z"
   },
   {
    "duration": 67,
    "start_time": "2023-12-26T11:19:41.454Z"
   },
   {
    "duration": 144,
    "start_time": "2023-12-26T11:19:41.522Z"
   },
   {
    "duration": 2,
    "start_time": "2023-12-26T11:19:41.668Z"
   },
   {
    "duration": 40,
    "start_time": "2023-12-26T11:19:41.671Z"
   },
   {
    "duration": 8,
    "start_time": "2023-12-26T11:19:41.712Z"
   },
   {
    "duration": 32,
    "start_time": "2023-12-26T11:19:41.721Z"
   },
   {
    "duration": 7,
    "start_time": "2023-12-26T11:19:41.755Z"
   },
   {
    "duration": 51,
    "start_time": "2023-12-26T11:19:41.763Z"
   },
   {
    "duration": 104,
    "start_time": "2023-12-26T11:19:41.816Z"
   },
   {
    "duration": 36,
    "start_time": "2023-12-26T11:19:41.922Z"
   },
   {
    "duration": 28,
    "start_time": "2023-12-26T11:19:41.960Z"
   },
   {
    "duration": 141,
    "start_time": "2023-12-26T11:19:41.989Z"
   },
   {
    "duration": 5,
    "start_time": "2023-12-26T11:19:42.131Z"
   },
   {
    "duration": 23,
    "start_time": "2023-12-26T11:19:42.137Z"
   },
   {
    "duration": 5,
    "start_time": "2023-12-26T11:19:42.161Z"
   },
   {
    "duration": 178,
    "start_time": "2023-12-26T11:19:42.168Z"
   },
   {
    "duration": 5,
    "start_time": "2023-12-26T11:19:42.348Z"
   },
   {
    "duration": 15,
    "start_time": "2023-12-26T11:19:42.354Z"
   },
   {
    "duration": 304,
    "start_time": "2023-12-26T11:19:42.370Z"
   },
   {
    "duration": 2,
    "start_time": "2023-12-26T11:19:42.676Z"
   },
   {
    "duration": 147,
    "start_time": "2023-12-26T11:19:42.679Z"
   },
   {
    "duration": 2,
    "start_time": "2023-12-26T11:19:42.828Z"
   },
   {
    "duration": 5,
    "start_time": "2023-12-26T11:19:42.832Z"
   },
   {
    "duration": 14,
    "start_time": "2023-12-26T11:19:42.838Z"
   },
   {
    "duration": 4,
    "start_time": "2023-12-26T11:19:42.858Z"
   },
   {
    "duration": 17,
    "start_time": "2023-12-26T11:19:42.864Z"
   },
   {
    "duration": 157,
    "start_time": "2023-12-26T11:19:42.882Z"
   },
   {
    "duration": 8,
    "start_time": "2023-12-26T11:19:43.041Z"
   },
   {
    "duration": 13,
    "start_time": "2023-12-26T11:19:43.051Z"
   },
   {
    "duration": 4,
    "start_time": "2023-12-26T11:19:43.066Z"
   },
   {
    "duration": 4,
    "start_time": "2023-12-26T11:19:43.072Z"
   },
   {
    "duration": 37,
    "start_time": "2023-12-26T11:19:43.078Z"
   },
   {
    "duration": 55,
    "start_time": "2023-12-26T11:19:43.117Z"
   },
   {
    "duration": 9,
    "start_time": "2023-12-26T11:19:43.174Z"
   },
   {
    "duration": 12,
    "start_time": "2023-12-26T11:19:43.185Z"
   },
   {
    "duration": 20,
    "start_time": "2023-12-26T11:19:43.198Z"
   },
   {
    "duration": 8,
    "start_time": "2023-12-26T11:19:43.220Z"
   },
   {
    "duration": 16,
    "start_time": "2023-12-26T11:19:43.229Z"
   },
   {
    "duration": 2,
    "start_time": "2023-12-26T11:19:43.247Z"
   },
   {
    "duration": 9788,
    "start_time": "2023-12-26T11:19:43.251Z"
   },
   {
    "duration": 5,
    "start_time": "2023-12-26T11:19:53.040Z"
   },
   {
    "duration": 157,
    "start_time": "2023-12-26T11:19:53.046Z"
   },
   {
    "duration": 12,
    "start_time": "2023-12-26T11:19:53.205Z"
   },
   {
    "duration": 13,
    "start_time": "2023-12-26T11:19:53.218Z"
   },
   {
    "duration": 415,
    "start_time": "2023-12-26T11:19:53.233Z"
   },
   {
    "duration": 4,
    "start_time": "2023-12-26T11:19:53.649Z"
   },
   {
    "duration": 7,
    "start_time": "2023-12-26T11:19:53.654Z"
   },
   {
    "duration": 12,
    "start_time": "2023-12-26T11:19:53.662Z"
   },
   {
    "duration": 2,
    "start_time": "2023-12-26T11:19:53.675Z"
   },
   {
    "duration": 8,
    "start_time": "2023-12-26T11:19:53.678Z"
   },
   {
    "duration": 10,
    "start_time": "2023-12-26T11:19:53.688Z"
   },
   {
    "duration": 6,
    "start_time": "2023-12-26T11:19:53.699Z"
   },
   {
    "duration": 3,
    "start_time": "2023-12-26T11:19:53.715Z"
   },
   {
    "duration": 7,
    "start_time": "2023-12-26T11:19:53.719Z"
   },
   {
    "duration": 13,
    "start_time": "2023-12-26T11:19:53.727Z"
   },
   {
    "duration": 1309,
    "start_time": "2023-12-26T11:19:53.741Z"
   },
   {
    "duration": 125,
    "start_time": "2023-12-26T11:19:55.052Z"
   },
   {
    "duration": 10,
    "start_time": "2023-12-26T11:22:46.762Z"
   },
   {
    "duration": 26,
    "start_time": "2023-12-26T11:22:49.953Z"
   },
   {
    "duration": 147,
    "start_time": "2023-12-26T11:40:22.615Z"
   },
   {
    "duration": 2,
    "start_time": "2023-12-26T11:45:47.289Z"
   },
   {
    "duration": 627,
    "start_time": "2023-12-26T11:56:36.874Z"
   },
   {
    "duration": 3,
    "start_time": "2023-12-26T11:56:37.503Z"
   },
   {
    "duration": 500,
    "start_time": "2023-12-26T11:56:37.515Z"
   },
   {
    "duration": 3,
    "start_time": "2023-12-26T11:56:38.017Z"
   },
   {
    "duration": 107,
    "start_time": "2023-12-26T11:56:38.021Z"
   },
   {
    "duration": 18,
    "start_time": "2023-12-26T11:56:38.130Z"
   },
   {
    "duration": 14,
    "start_time": "2023-12-26T11:56:38.150Z"
   },
   {
    "duration": 804,
    "start_time": "2023-12-26T11:56:38.165Z"
   },
   {
    "duration": 15,
    "start_time": "2023-12-26T11:56:38.970Z"
   },
   {
    "duration": 5,
    "start_time": "2023-12-26T11:56:38.988Z"
   },
   {
    "duration": 24,
    "start_time": "2023-12-26T11:56:38.994Z"
   },
   {
    "duration": 3,
    "start_time": "2023-12-26T11:56:39.020Z"
   },
   {
    "duration": 11,
    "start_time": "2023-12-26T11:56:39.025Z"
   },
   {
    "duration": 5,
    "start_time": "2023-12-26T11:56:39.037Z"
   },
   {
    "duration": 11,
    "start_time": "2023-12-26T11:56:39.044Z"
   },
   {
    "duration": 14,
    "start_time": "2023-12-26T11:56:39.056Z"
   },
   {
    "duration": 5,
    "start_time": "2023-12-26T11:56:39.071Z"
   },
   {
    "duration": 43,
    "start_time": "2023-12-26T11:56:39.078Z"
   },
   {
    "duration": 9,
    "start_time": "2023-12-26T11:56:39.123Z"
   },
   {
    "duration": 94,
    "start_time": "2023-12-26T11:56:39.134Z"
   },
   {
    "duration": 4,
    "start_time": "2023-12-26T11:56:39.230Z"
   },
   {
    "duration": 17,
    "start_time": "2023-12-26T11:56:39.236Z"
   },
   {
    "duration": 155,
    "start_time": "2023-12-26T11:56:39.254Z"
   },
   {
    "duration": 4,
    "start_time": "2023-12-26T11:56:39.414Z"
   },
   {
    "duration": 157,
    "start_time": "2023-12-26T11:56:39.419Z"
   },
   {
    "duration": 45,
    "start_time": "2023-12-26T11:56:39.578Z"
   },
   {
    "duration": 270,
    "start_time": "2023-12-26T11:56:39.625Z"
   },
   {
    "duration": 154,
    "start_time": "2023-12-26T11:56:39.899Z"
   },
   {
    "duration": 16,
    "start_time": "2023-12-26T11:56:40.055Z"
   },
   {
    "duration": 6,
    "start_time": "2023-12-26T11:56:40.072Z"
   },
   {
    "duration": 8,
    "start_time": "2023-12-26T11:56:40.079Z"
   },
   {
    "duration": 30,
    "start_time": "2023-12-26T11:56:40.088Z"
   },
   {
    "duration": 19,
    "start_time": "2023-12-26T11:56:40.119Z"
   },
   {
    "duration": 4,
    "start_time": "2023-12-26T11:56:40.139Z"
   },
   {
    "duration": 21,
    "start_time": "2023-12-26T11:56:40.145Z"
   },
   {
    "duration": 11,
    "start_time": "2023-12-26T11:56:40.167Z"
   },
   {
    "duration": 381,
    "start_time": "2023-12-26T11:56:40.179Z"
   },
   {
    "duration": 18,
    "start_time": "2023-12-26T11:56:40.562Z"
   },
   {
    "duration": 12,
    "start_time": "2023-12-26T11:56:40.581Z"
   },
   {
    "duration": 53,
    "start_time": "2023-12-26T11:56:40.595Z"
   },
   {
    "duration": 7,
    "start_time": "2023-12-26T11:56:40.649Z"
   },
   {
    "duration": 22,
    "start_time": "2023-12-26T11:56:40.657Z"
   },
   {
    "duration": 40,
    "start_time": "2023-12-26T11:56:40.680Z"
   },
   {
    "duration": 71,
    "start_time": "2023-12-26T11:56:40.722Z"
   },
   {
    "duration": 31,
    "start_time": "2023-12-26T11:56:40.795Z"
   },
   {
    "duration": 47,
    "start_time": "2023-12-26T11:56:40.828Z"
   },
   {
    "duration": 116,
    "start_time": "2023-12-26T11:56:40.877Z"
   },
   {
    "duration": 26,
    "start_time": "2023-12-26T11:56:40.995Z"
   },
   {
    "duration": 503,
    "start_time": "2023-12-26T11:56:41.023Z"
   },
   {
    "duration": 9364,
    "start_time": "2023-12-26T11:56:41.527Z"
   },
   {
    "duration": 27,
    "start_time": "2023-12-26T11:56:50.893Z"
   },
   {
    "duration": 7,
    "start_time": "2023-12-26T11:56:50.921Z"
   },
   {
    "duration": 35,
    "start_time": "2023-12-26T11:56:50.930Z"
   },
   {
    "duration": 158,
    "start_time": "2023-12-26T11:56:50.967Z"
   },
   {
    "duration": 13,
    "start_time": "2023-12-26T11:56:51.127Z"
   },
   {
    "duration": 16,
    "start_time": "2023-12-26T11:56:51.141Z"
   },
   {
    "duration": 60,
    "start_time": "2023-12-26T11:56:51.159Z"
   },
   {
    "duration": 26,
    "start_time": "2023-12-26T11:56:51.220Z"
   },
   {
    "duration": 142,
    "start_time": "2023-12-26T11:56:51.248Z"
   },
   {
    "duration": 2,
    "start_time": "2023-12-26T11:56:51.393Z"
   },
   {
    "duration": 32,
    "start_time": "2023-12-26T11:56:51.396Z"
   },
   {
    "duration": 5,
    "start_time": "2023-12-26T11:56:51.429Z"
   },
   {
    "duration": 12,
    "start_time": "2023-12-26T11:56:51.436Z"
   },
   {
    "duration": 5,
    "start_time": "2023-12-26T11:56:51.449Z"
   },
   {
    "duration": 14,
    "start_time": "2023-12-26T11:56:51.456Z"
   },
   {
    "duration": 88,
    "start_time": "2023-12-26T11:56:51.472Z"
   },
   {
    "duration": 8,
    "start_time": "2023-12-26T11:56:51.561Z"
   },
   {
    "duration": 58,
    "start_time": "2023-12-26T11:56:51.571Z"
   },
   {
    "duration": 147,
    "start_time": "2023-12-26T11:56:51.631Z"
   },
   {
    "duration": 5,
    "start_time": "2023-12-26T11:56:51.779Z"
   },
   {
    "duration": 29,
    "start_time": "2023-12-26T11:56:51.786Z"
   },
   {
    "duration": 10,
    "start_time": "2023-12-26T11:56:51.817Z"
   },
   {
    "duration": 173,
    "start_time": "2023-12-26T11:56:51.828Z"
   },
   {
    "duration": 5,
    "start_time": "2023-12-26T11:56:52.003Z"
   },
   {
    "duration": 24,
    "start_time": "2023-12-26T11:56:52.009Z"
   },
   {
    "duration": 286,
    "start_time": "2023-12-26T11:56:52.034Z"
   },
   {
    "duration": 2,
    "start_time": "2023-12-26T11:56:52.322Z"
   },
   {
    "duration": 172,
    "start_time": "2023-12-26T11:56:52.325Z"
   },
   {
    "duration": 2,
    "start_time": "2023-12-26T11:56:52.499Z"
   },
   {
    "duration": 24,
    "start_time": "2023-12-26T11:56:52.503Z"
   },
   {
    "duration": 31,
    "start_time": "2023-12-26T11:56:52.529Z"
   },
   {
    "duration": 6,
    "start_time": "2023-12-26T11:56:52.566Z"
   },
   {
    "duration": 21,
    "start_time": "2023-12-26T11:56:52.573Z"
   },
   {
    "duration": 142,
    "start_time": "2023-12-26T11:56:52.596Z"
   },
   {
    "duration": 8,
    "start_time": "2023-12-26T11:56:52.740Z"
   },
   {
    "duration": 31,
    "start_time": "2023-12-26T11:56:52.749Z"
   },
   {
    "duration": 5,
    "start_time": "2023-12-26T11:56:52.782Z"
   },
   {
    "duration": 33,
    "start_time": "2023-12-26T11:56:52.788Z"
   },
   {
    "duration": 5,
    "start_time": "2023-12-26T11:56:52.823Z"
   },
   {
    "duration": 75,
    "start_time": "2023-12-26T11:56:52.830Z"
   },
   {
    "duration": 11,
    "start_time": "2023-12-26T11:56:52.907Z"
   },
   {
    "duration": 26,
    "start_time": "2023-12-26T11:56:52.920Z"
   },
   {
    "duration": 38,
    "start_time": "2023-12-26T11:56:52.947Z"
   },
   {
    "duration": 36,
    "start_time": "2023-12-26T11:56:52.987Z"
   },
   {
    "duration": 38,
    "start_time": "2023-12-26T11:56:53.024Z"
   },
   {
    "duration": 18,
    "start_time": "2023-12-26T11:56:53.064Z"
   },
   {
    "duration": 10001,
    "start_time": "2023-12-26T11:56:53.084Z"
   },
   {
    "duration": 6,
    "start_time": "2023-12-26T11:57:03.086Z"
   },
   {
    "duration": 160,
    "start_time": "2023-12-26T11:57:03.093Z"
   },
   {
    "duration": 6,
    "start_time": "2023-12-26T11:57:03.254Z"
   },
   {
    "duration": 51,
    "start_time": "2023-12-26T11:57:03.262Z"
   },
   {
    "duration": 410,
    "start_time": "2023-12-26T11:57:03.315Z"
   },
   {
    "duration": 4,
    "start_time": "2023-12-26T11:57:03.727Z"
   },
   {
    "duration": 18,
    "start_time": "2023-12-26T11:57:03.733Z"
   },
   {
    "duration": 22,
    "start_time": "2023-12-26T11:57:03.752Z"
   },
   {
    "duration": 8,
    "start_time": "2023-12-26T11:57:03.776Z"
   },
   {
    "duration": 14,
    "start_time": "2023-12-26T11:57:03.786Z"
   },
   {
    "duration": 20,
    "start_time": "2023-12-26T11:57:03.802Z"
   },
   {
    "duration": 22,
    "start_time": "2023-12-26T11:57:03.824Z"
   },
   {
    "duration": 8,
    "start_time": "2023-12-26T11:57:03.848Z"
   },
   {
    "duration": 1310,
    "start_time": "2023-12-26T11:57:03.857Z"
   },
   {
    "duration": 123,
    "start_time": "2023-12-26T11:57:05.169Z"
   },
   {
    "duration": 640,
    "start_time": "2023-12-26T12:01:20.822Z"
   },
   {
    "duration": 2,
    "start_time": "2023-12-26T12:01:21.464Z"
   },
   {
    "duration": 553,
    "start_time": "2023-12-26T12:01:21.468Z"
   },
   {
    "duration": 2,
    "start_time": "2023-12-26T12:01:22.023Z"
   },
   {
    "duration": 99,
    "start_time": "2023-12-26T12:01:22.027Z"
   },
   {
    "duration": 20,
    "start_time": "2023-12-26T12:01:22.127Z"
   },
   {
    "duration": 22,
    "start_time": "2023-12-26T12:01:22.148Z"
   },
   {
    "duration": 908,
    "start_time": "2023-12-26T12:01:22.171Z"
   },
   {
    "duration": 15,
    "start_time": "2023-12-26T12:01:23.081Z"
   },
   {
    "duration": 33,
    "start_time": "2023-12-26T12:01:23.098Z"
   },
   {
    "duration": 25,
    "start_time": "2023-12-26T12:01:23.132Z"
   },
   {
    "duration": 21,
    "start_time": "2023-12-26T12:01:23.159Z"
   },
   {
    "duration": 27,
    "start_time": "2023-12-26T12:01:23.181Z"
   },
   {
    "duration": 72,
    "start_time": "2023-12-26T12:01:23.211Z"
   },
   {
    "duration": 35,
    "start_time": "2023-12-26T12:01:23.284Z"
   },
   {
    "duration": 28,
    "start_time": "2023-12-26T12:01:23.321Z"
   },
   {
    "duration": 10,
    "start_time": "2023-12-26T12:01:23.351Z"
   },
   {
    "duration": 25,
    "start_time": "2023-12-26T12:01:23.362Z"
   },
   {
    "duration": 46,
    "start_time": "2023-12-26T12:01:23.388Z"
   },
   {
    "duration": 120,
    "start_time": "2023-12-26T12:01:23.436Z"
   },
   {
    "duration": 4,
    "start_time": "2023-12-26T12:01:23.557Z"
   },
   {
    "duration": 20,
    "start_time": "2023-12-26T12:01:23.563Z"
   },
   {
    "duration": 156,
    "start_time": "2023-12-26T12:01:23.584Z"
   },
   {
    "duration": 4,
    "start_time": "2023-12-26T12:01:23.742Z"
   },
   {
    "duration": 147,
    "start_time": "2023-12-26T12:01:23.748Z"
   },
   {
    "duration": 35,
    "start_time": "2023-12-26T12:01:23.897Z"
   },
   {
    "duration": 313,
    "start_time": "2023-12-26T12:01:23.933Z"
   },
   {
    "duration": 150,
    "start_time": "2023-12-26T12:01:24.248Z"
   },
   {
    "duration": 19,
    "start_time": "2023-12-26T12:01:24.400Z"
   },
   {
    "duration": 6,
    "start_time": "2023-12-26T12:01:24.420Z"
   },
   {
    "duration": 21,
    "start_time": "2023-12-26T12:01:24.428Z"
   },
   {
    "duration": 11,
    "start_time": "2023-12-26T12:01:24.450Z"
   },
   {
    "duration": 20,
    "start_time": "2023-12-26T12:01:24.463Z"
   },
   {
    "duration": 4,
    "start_time": "2023-12-26T12:01:24.485Z"
   },
   {
    "duration": 98,
    "start_time": "2023-12-26T12:01:24.515Z"
   },
   {
    "duration": 10,
    "start_time": "2023-12-26T12:01:24.615Z"
   },
   {
    "duration": 389,
    "start_time": "2023-12-26T12:01:24.626Z"
   },
   {
    "duration": 15,
    "start_time": "2023-12-26T12:01:25.017Z"
   },
   {
    "duration": 18,
    "start_time": "2023-12-26T12:01:25.034Z"
   },
   {
    "duration": 62,
    "start_time": "2023-12-26T12:01:25.053Z"
   },
   {
    "duration": 4,
    "start_time": "2023-12-26T12:01:25.121Z"
   },
   {
    "duration": 25,
    "start_time": "2023-12-26T12:01:25.127Z"
   },
   {
    "duration": 18,
    "start_time": "2023-12-26T12:01:25.153Z"
   },
   {
    "duration": 103,
    "start_time": "2023-12-26T12:01:25.172Z"
   },
   {
    "duration": 16,
    "start_time": "2023-12-26T12:01:25.276Z"
   },
   {
    "duration": 47,
    "start_time": "2023-12-26T12:01:25.316Z"
   },
   {
    "duration": 112,
    "start_time": "2023-12-26T12:01:25.365Z"
   },
   {
    "duration": 41,
    "start_time": "2023-12-26T12:01:25.479Z"
   },
   {
    "duration": 494,
    "start_time": "2023-12-26T12:01:25.522Z"
   },
   {
    "duration": 9475,
    "start_time": "2023-12-26T12:01:26.017Z"
   },
   {
    "duration": 34,
    "start_time": "2023-12-26T12:01:35.494Z"
   },
   {
    "duration": 16,
    "start_time": "2023-12-26T12:01:35.529Z"
   },
   {
    "duration": 77,
    "start_time": "2023-12-26T12:01:35.547Z"
   },
   {
    "duration": 116,
    "start_time": "2023-12-26T12:01:35.626Z"
   },
   {
    "duration": 13,
    "start_time": "2023-12-26T12:01:35.744Z"
   },
   {
    "duration": 61,
    "start_time": "2023-12-26T12:01:35.758Z"
   },
   {
    "duration": 7,
    "start_time": "2023-12-26T12:01:35.820Z"
   },
   {
    "duration": 20,
    "start_time": "2023-12-26T12:01:35.829Z"
   },
   {
    "duration": 224,
    "start_time": "2023-12-26T12:01:35.851Z"
   },
   {
    "duration": 3,
    "start_time": "2023-12-26T12:01:36.076Z"
   },
   {
    "duration": 60,
    "start_time": "2023-12-26T12:01:36.080Z"
   },
   {
    "duration": 6,
    "start_time": "2023-12-26T12:01:36.141Z"
   },
   {
    "duration": 16,
    "start_time": "2023-12-26T12:01:36.149Z"
   },
   {
    "duration": 50,
    "start_time": "2023-12-26T12:01:36.167Z"
   },
   {
    "duration": 23,
    "start_time": "2023-12-26T12:01:36.219Z"
   },
   {
    "duration": 49,
    "start_time": "2023-12-26T12:01:36.244Z"
   },
   {
    "duration": 29,
    "start_time": "2023-12-26T12:01:36.295Z"
   },
   {
    "duration": 25,
    "start_time": "2023-12-26T12:01:36.326Z"
   },
   {
    "duration": 305,
    "start_time": "2023-12-26T12:01:36.353Z"
   },
   {
    "duration": 5,
    "start_time": "2023-12-26T12:01:36.659Z"
   },
   {
    "duration": 20,
    "start_time": "2023-12-26T12:01:36.665Z"
   },
   {
    "duration": 33,
    "start_time": "2023-12-26T12:01:36.686Z"
   },
   {
    "duration": 164,
    "start_time": "2023-12-26T12:01:36.720Z"
   },
   {
    "duration": 5,
    "start_time": "2023-12-26T12:01:36.885Z"
   },
   {
    "duration": 10,
    "start_time": "2023-12-26T12:01:36.892Z"
   },
   {
    "duration": 114,
    "start_time": "2023-12-26T12:01:36.903Z"
   },
   {
    "duration": 3,
    "start_time": "2023-12-26T12:01:37.018Z"
   },
   {
    "duration": 165,
    "start_time": "2023-12-26T12:01:37.022Z"
   },
   {
    "duration": 3,
    "start_time": "2023-12-26T12:01:37.188Z"
   },
   {
    "duration": 16,
    "start_time": "2023-12-26T12:01:37.192Z"
   },
   {
    "duration": 6,
    "start_time": "2023-12-26T12:01:37.209Z"
   },
   {
    "duration": 2,
    "start_time": "2023-12-26T12:01:37.216Z"
   },
   {
    "duration": 18,
    "start_time": "2023-12-26T12:01:37.220Z"
   },
   {
    "duration": 160,
    "start_time": "2023-12-26T12:01:37.239Z"
   },
   {
    "duration": 15,
    "start_time": "2023-12-26T12:01:37.401Z"
   },
   {
    "duration": 21,
    "start_time": "2023-12-26T12:01:37.418Z"
   },
   {
    "duration": 31,
    "start_time": "2023-12-26T12:01:37.440Z"
   },
   {
    "duration": 24,
    "start_time": "2023-12-26T12:01:37.472Z"
   },
   {
    "duration": 22,
    "start_time": "2023-12-26T12:01:37.498Z"
   },
   {
    "duration": 57,
    "start_time": "2023-12-26T12:01:37.521Z"
   },
   {
    "duration": 10,
    "start_time": "2023-12-26T12:01:37.579Z"
   },
   {
    "duration": 21,
    "start_time": "2023-12-26T12:01:37.590Z"
   },
   {
    "duration": 8,
    "start_time": "2023-12-26T12:01:37.613Z"
   },
   {
    "duration": 33,
    "start_time": "2023-12-26T12:01:37.622Z"
   },
   {
    "duration": 25,
    "start_time": "2023-12-26T12:01:37.657Z"
   },
   {
    "duration": 12,
    "start_time": "2023-12-26T12:01:37.684Z"
   },
   {
    "duration": 9730,
    "start_time": "2023-12-26T12:01:37.697Z"
   },
   {
    "duration": 3,
    "start_time": "2023-12-26T12:01:47.429Z"
   },
   {
    "duration": 159,
    "start_time": "2023-12-26T12:01:47.433Z"
   },
   {
    "duration": 6,
    "start_time": "2023-12-26T12:01:47.593Z"
   },
   {
    "duration": 28,
    "start_time": "2023-12-26T12:01:47.600Z"
   },
   {
    "duration": 413,
    "start_time": "2023-12-26T12:01:47.630Z"
   },
   {
    "duration": 4,
    "start_time": "2023-12-26T12:01:48.045Z"
   },
   {
    "duration": 7,
    "start_time": "2023-12-26T12:01:48.050Z"
   },
   {
    "duration": 9,
    "start_time": "2023-12-26T12:01:48.058Z"
   },
   {
    "duration": 3,
    "start_time": "2023-12-26T12:01:48.068Z"
   },
   {
    "duration": 4,
    "start_time": "2023-12-26T12:01:48.073Z"
   },
   {
    "duration": 37,
    "start_time": "2023-12-26T12:01:48.079Z"
   },
   {
    "duration": 4,
    "start_time": "2023-12-26T12:01:48.118Z"
   },
   {
    "duration": 5,
    "start_time": "2023-12-26T12:01:48.124Z"
   },
   {
    "duration": 1360,
    "start_time": "2023-12-26T12:01:48.130Z"
   },
   {
    "duration": 132,
    "start_time": "2023-12-26T12:01:49.492Z"
   },
   {
    "duration": 4,
    "start_time": "2023-12-26T12:10:35.025Z"
   },
   {
    "duration": 176,
    "start_time": "2023-12-26T12:10:54.135Z"
   },
   {
    "duration": 406,
    "start_time": "2023-12-26T12:11:00.312Z"
   },
   {
    "duration": 729,
    "start_time": "2023-12-28T10:14:14.784Z"
   },
   {
    "duration": 3424,
    "start_time": "2023-12-28T10:14:15.518Z"
   },
   {
    "duration": 537,
    "start_time": "2023-12-28T10:14:18.944Z"
   },
   {
    "duration": 3,
    "start_time": "2023-12-28T10:14:19.482Z"
   },
   {
    "duration": 165,
    "start_time": "2023-12-28T10:14:19.496Z"
   },
   {
    "duration": 18,
    "start_time": "2023-12-28T10:14:19.663Z"
   },
   {
    "duration": 14,
    "start_time": "2023-12-28T10:14:19.683Z"
   },
   {
    "duration": 971,
    "start_time": "2023-12-28T10:14:19.698Z"
   },
   {
    "duration": 15,
    "start_time": "2023-12-28T10:14:20.670Z"
   },
   {
    "duration": 6,
    "start_time": "2023-12-28T10:14:20.686Z"
   },
   {
    "duration": 26,
    "start_time": "2023-12-28T10:14:20.693Z"
   },
   {
    "duration": 14,
    "start_time": "2023-12-28T10:14:20.721Z"
   },
   {
    "duration": 8,
    "start_time": "2023-12-28T10:14:20.737Z"
   },
   {
    "duration": 4,
    "start_time": "2023-12-28T10:14:20.749Z"
   },
   {
    "duration": 28,
    "start_time": "2023-12-28T10:14:20.754Z"
   },
   {
    "duration": 4,
    "start_time": "2023-12-28T10:14:20.784Z"
   },
   {
    "duration": 3,
    "start_time": "2023-12-28T10:14:20.789Z"
   },
   {
    "duration": 28,
    "start_time": "2023-12-28T10:14:20.818Z"
   },
   {
    "duration": 9,
    "start_time": "2023-12-28T10:14:20.848Z"
   },
   {
    "duration": 9,
    "start_time": "2023-12-28T10:14:20.859Z"
   },
   {
    "duration": 6,
    "start_time": "2023-12-28T10:14:20.870Z"
   },
   {
    "duration": 7,
    "start_time": "2023-12-28T10:14:20.877Z"
   },
   {
    "duration": 102,
    "start_time": "2023-12-28T10:14:20.886Z"
   },
   {
    "duration": 4,
    "start_time": "2023-12-28T10:14:20.990Z"
   },
   {
    "duration": 29,
    "start_time": "2023-12-28T10:14:20.996Z"
   },
   {
    "duration": 11,
    "start_time": "2023-12-28T10:14:21.027Z"
   },
   {
    "duration": 157,
    "start_time": "2023-12-28T10:14:21.040Z"
   },
   {
    "duration": 3,
    "start_time": "2023-12-28T10:14:21.198Z"
   },
   {
    "duration": 10,
    "start_time": "2023-12-28T10:14:21.202Z"
   },
   {
    "duration": 158,
    "start_time": "2023-12-28T10:14:21.219Z"
   },
   {
    "duration": 20,
    "start_time": "2023-12-28T10:14:21.379Z"
   },
   {
    "duration": 175,
    "start_time": "2023-12-28T10:14:21.401Z"
   },
   {
    "duration": 4,
    "start_time": "2023-12-28T10:14:21.578Z"
   },
   {
    "duration": 160,
    "start_time": "2023-12-28T10:14:21.583Z"
   },
   {
    "duration": 16,
    "start_time": "2023-12-28T10:14:21.745Z"
   },
   {
    "duration": 6,
    "start_time": "2023-12-28T10:14:21.763Z"
   },
   {
    "duration": 7,
    "start_time": "2023-12-28T10:14:21.770Z"
   },
   {
    "duration": 180,
    "start_time": "2023-12-28T10:14:21.778Z"
   },
   {
    "duration": 18,
    "start_time": "2023-12-28T10:14:21.959Z"
   },
   {
    "duration": 55,
    "start_time": "2023-12-28T10:14:21.979Z"
   },
   {
    "duration": 12,
    "start_time": "2023-12-28T10:14:22.043Z"
   },
   {
    "duration": 69,
    "start_time": "2023-12-28T10:14:22.056Z"
   },
   {
    "duration": 7,
    "start_time": "2023-12-28T10:14:22.127Z"
   },
   {
    "duration": 448,
    "start_time": "2023-12-28T10:14:22.136Z"
   },
   {
    "duration": 16,
    "start_time": "2023-12-28T10:14:22.586Z"
   },
   {
    "duration": 12,
    "start_time": "2023-12-28T10:14:22.633Z"
   },
   {
    "duration": 53,
    "start_time": "2023-12-28T10:14:22.647Z"
   },
   {
    "duration": 35,
    "start_time": "2023-12-28T10:14:22.702Z"
   },
   {
    "duration": 11,
    "start_time": "2023-12-28T10:14:22.744Z"
   },
   {
    "duration": 138,
    "start_time": "2023-12-28T10:14:22.757Z"
   },
   {
    "duration": 5,
    "start_time": "2023-12-28T10:14:22.896Z"
   },
   {
    "duration": 42,
    "start_time": "2023-12-28T10:14:22.903Z"
   },
   {
    "duration": 18,
    "start_time": "2023-12-28T10:14:22.947Z"
   },
   {
    "duration": 94,
    "start_time": "2023-12-28T10:14:22.966Z"
   },
   {
    "duration": 14,
    "start_time": "2023-12-28T10:14:23.061Z"
   },
   {
    "duration": 71,
    "start_time": "2023-12-28T10:14:23.076Z"
   },
   {
    "duration": 44,
    "start_time": "2023-12-28T10:14:23.149Z"
   },
   {
    "duration": 212,
    "start_time": "2023-12-28T10:14:23.195Z"
   },
   {
    "duration": 31,
    "start_time": "2023-12-28T10:14:23.409Z"
   },
   {
    "duration": 501,
    "start_time": "2023-12-28T10:14:23.443Z"
   },
   {
    "duration": 10773,
    "start_time": "2023-12-28T10:14:23.946Z"
   },
   {
    "duration": 40,
    "start_time": "2023-12-28T10:14:34.722Z"
   },
   {
    "duration": 7,
    "start_time": "2023-12-28T10:14:34.764Z"
   },
   {
    "duration": 76,
    "start_time": "2023-12-28T10:14:34.773Z"
   },
   {
    "duration": 3,
    "start_time": "2023-12-28T10:14:34.851Z"
   },
   {
    "duration": 193,
    "start_time": "2023-12-28T10:14:34.856Z"
   },
   {
    "duration": 2,
    "start_time": "2023-12-28T10:14:35.050Z"
   },
   {
    "duration": 3,
    "start_time": "2023-12-28T10:14:35.054Z"
   },
   {
    "duration": 92,
    "start_time": "2023-12-28T10:14:35.059Z"
   },
   {
    "duration": 10,
    "start_time": "2023-12-28T10:14:35.153Z"
   },
   {
    "duration": 205,
    "start_time": "2023-12-28T10:14:35.164Z"
   },
   {
    "duration": 7,
    "start_time": "2023-12-28T10:14:35.371Z"
   },
   {
    "duration": 37,
    "start_time": "2023-12-28T10:14:35.379Z"
   },
   {
    "duration": 163,
    "start_time": "2023-12-28T10:14:35.418Z"
   },
   {
    "duration": 2,
    "start_time": "2023-12-28T10:14:35.583Z"
   },
   {
    "duration": 37,
    "start_time": "2023-12-28T10:14:35.586Z"
   },
   {
    "duration": 7,
    "start_time": "2023-12-28T10:14:35.624Z"
   },
   {
    "duration": 15,
    "start_time": "2023-12-28T10:14:35.633Z"
   },
   {
    "duration": 9,
    "start_time": "2023-12-28T10:14:35.649Z"
   },
   {
    "duration": 18,
    "start_time": "2023-12-28T10:14:35.659Z"
   },
   {
    "duration": 79,
    "start_time": "2023-12-28T10:14:35.679Z"
   },
   {
    "duration": 8,
    "start_time": "2023-12-28T10:14:35.759Z"
   },
   {
    "duration": 27,
    "start_time": "2023-12-28T10:14:35.768Z"
   },
   {
    "duration": 183,
    "start_time": "2023-12-28T10:14:35.797Z"
   },
   {
    "duration": 5,
    "start_time": "2023-12-28T10:14:35.982Z"
   },
   {
    "duration": 28,
    "start_time": "2023-12-28T10:14:35.989Z"
   },
   {
    "duration": 7,
    "start_time": "2023-12-28T10:14:36.018Z"
   },
   {
    "duration": 195,
    "start_time": "2023-12-28T10:14:36.027Z"
   },
   {
    "duration": 13,
    "start_time": "2023-12-28T10:14:36.229Z"
   },
   {
    "duration": 5,
    "start_time": "2023-12-28T10:14:36.244Z"
   },
   {
    "duration": 338,
    "start_time": "2023-12-28T10:14:36.251Z"
   },
   {
    "duration": 3,
    "start_time": "2023-12-28T10:14:36.590Z"
   },
   {
    "duration": 186,
    "start_time": "2023-12-28T10:14:36.595Z"
   },
   {
    "duration": 4,
    "start_time": "2023-12-28T10:14:36.782Z"
   },
   {
    "duration": 6,
    "start_time": "2023-12-28T10:14:36.787Z"
   },
   {
    "duration": 19,
    "start_time": "2023-12-28T10:14:36.794Z"
   },
   {
    "duration": 8,
    "start_time": "2023-12-28T10:14:36.815Z"
   },
   {
    "duration": 33,
    "start_time": "2023-12-28T10:14:36.824Z"
   },
   {
    "duration": 215,
    "start_time": "2023-12-28T10:14:36.859Z"
   },
   {
    "duration": 19,
    "start_time": "2023-12-28T10:14:37.076Z"
   },
   {
    "duration": 9,
    "start_time": "2023-12-28T10:14:37.096Z"
   },
   {
    "duration": 21,
    "start_time": "2023-12-28T10:14:37.106Z"
   },
   {
    "duration": 13,
    "start_time": "2023-12-28T10:14:37.134Z"
   },
   {
    "duration": 5,
    "start_time": "2023-12-28T10:14:37.150Z"
   },
   {
    "duration": 5,
    "start_time": "2023-12-28T10:14:37.157Z"
   },
   {
    "duration": 78,
    "start_time": "2023-12-28T10:14:37.164Z"
   },
   {
    "duration": 13,
    "start_time": "2023-12-28T10:14:37.245Z"
   },
   {
    "duration": 10,
    "start_time": "2023-12-28T10:14:37.260Z"
   },
   {
    "duration": 9,
    "start_time": "2023-12-28T10:14:37.271Z"
   },
   {
    "duration": 5,
    "start_time": "2023-12-28T10:14:37.281Z"
   },
   {
    "duration": 33,
    "start_time": "2023-12-28T10:14:37.288Z"
   },
   {
    "duration": 4,
    "start_time": "2023-12-28T10:14:37.323Z"
   },
   {
    "duration": 9141,
    "start_time": "2023-12-28T10:14:37.329Z"
   },
   {
    "duration": 4,
    "start_time": "2023-12-28T10:14:46.472Z"
   },
   {
    "duration": 183,
    "start_time": "2023-12-28T10:14:46.478Z"
   },
   {
    "duration": 5,
    "start_time": "2023-12-28T10:14:46.663Z"
   },
   {
    "duration": 7,
    "start_time": "2023-12-28T10:14:46.670Z"
   },
   {
    "duration": 468,
    "start_time": "2023-12-28T10:14:46.678Z"
   },
   {
    "duration": 4,
    "start_time": "2023-12-28T10:14:47.147Z"
   },
   {
    "duration": 5,
    "start_time": "2023-12-28T10:14:47.152Z"
   },
   {
    "duration": 7,
    "start_time": "2023-12-28T10:14:47.159Z"
   },
   {
    "duration": 3,
    "start_time": "2023-12-28T10:14:47.173Z"
   },
   {
    "duration": 4,
    "start_time": "2023-12-28T10:14:47.177Z"
   },
   {
    "duration": 4,
    "start_time": "2023-12-28T10:14:47.182Z"
   },
   {
    "duration": 29,
    "start_time": "2023-12-28T10:14:47.187Z"
   },
   {
    "duration": 3,
    "start_time": "2023-12-28T10:14:47.232Z"
   },
   {
    "duration": 221,
    "start_time": "2023-12-28T10:14:47.238Z"
   },
   {
    "duration": 0,
    "start_time": "2023-12-28T10:14:47.460Z"
   },
   {
    "duration": 0,
    "start_time": "2023-12-28T10:14:47.461Z"
   },
   {
    "duration": 796,
    "start_time": "2023-12-28T14:05:31.530Z"
   },
   {
    "duration": 2802,
    "start_time": "2023-12-28T14:05:32.328Z"
   },
   {
    "duration": 479,
    "start_time": "2023-12-28T14:05:35.132Z"
   },
   {
    "duration": 2,
    "start_time": "2023-12-28T14:05:35.613Z"
   },
   {
    "duration": 288,
    "start_time": "2023-12-28T14:05:35.617Z"
   },
   {
    "duration": 17,
    "start_time": "2023-12-28T14:05:35.907Z"
   },
   {
    "duration": 20,
    "start_time": "2023-12-28T14:05:35.926Z"
   },
   {
    "duration": 881,
    "start_time": "2023-12-28T14:05:35.947Z"
   },
   {
    "duration": 16,
    "start_time": "2023-12-28T14:05:36.829Z"
   },
   {
    "duration": 6,
    "start_time": "2023-12-28T14:05:36.848Z"
   },
   {
    "duration": 12,
    "start_time": "2023-12-28T14:05:36.855Z"
   },
   {
    "duration": 6,
    "start_time": "2023-12-28T14:05:36.869Z"
   },
   {
    "duration": 27,
    "start_time": "2023-12-28T14:05:36.876Z"
   },
   {
    "duration": 4,
    "start_time": "2023-12-28T14:05:36.904Z"
   },
   {
    "duration": 23,
    "start_time": "2023-12-28T14:05:36.910Z"
   },
   {
    "duration": 6,
    "start_time": "2023-12-28T14:05:36.935Z"
   },
   {
    "duration": 4,
    "start_time": "2023-12-28T14:05:36.942Z"
   },
   {
    "duration": 21,
    "start_time": "2023-12-28T14:05:36.947Z"
   },
   {
    "duration": 5,
    "start_time": "2023-12-28T14:05:36.970Z"
   },
   {
    "duration": 42,
    "start_time": "2023-12-28T14:05:36.976Z"
   },
   {
    "duration": 24,
    "start_time": "2023-12-28T14:05:37.020Z"
   },
   {
    "duration": 22,
    "start_time": "2023-12-28T14:05:37.045Z"
   },
   {
    "duration": 86,
    "start_time": "2023-12-28T14:05:37.068Z"
   },
   {
    "duration": 5,
    "start_time": "2023-12-28T14:05:37.155Z"
   },
   {
    "duration": 21,
    "start_time": "2023-12-28T14:05:37.161Z"
   },
   {
    "duration": 4,
    "start_time": "2023-12-28T14:05:37.183Z"
   },
   {
    "duration": 139,
    "start_time": "2023-12-28T14:05:37.188Z"
   },
   {
    "duration": 2,
    "start_time": "2023-12-28T14:05:37.330Z"
   },
   {
    "duration": 5,
    "start_time": "2023-12-28T14:05:37.333Z"
   },
   {
    "duration": 133,
    "start_time": "2023-12-28T14:05:37.340Z"
   },
   {
    "duration": 25,
    "start_time": "2023-12-28T14:05:37.474Z"
   },
   {
    "duration": 135,
    "start_time": "2023-12-28T14:05:37.501Z"
   },
   {
    "duration": 3,
    "start_time": "2023-12-28T14:05:37.638Z"
   },
   {
    "duration": 145,
    "start_time": "2023-12-28T14:05:37.643Z"
   },
   {
    "duration": 18,
    "start_time": "2023-12-28T14:05:37.789Z"
   },
   {
    "duration": 6,
    "start_time": "2023-12-28T14:05:37.808Z"
   },
   {
    "duration": 4,
    "start_time": "2023-12-28T14:05:37.815Z"
   },
   {
    "duration": 148,
    "start_time": "2023-12-28T14:05:37.820Z"
   },
   {
    "duration": 18,
    "start_time": "2023-12-28T14:05:37.969Z"
   },
   {
    "duration": 6,
    "start_time": "2023-12-28T14:05:37.999Z"
   },
   {
    "duration": 19,
    "start_time": "2023-12-28T14:05:38.006Z"
   },
   {
    "duration": 22,
    "start_time": "2023-12-28T14:05:38.027Z"
   },
   {
    "duration": 49,
    "start_time": "2023-12-28T14:05:38.050Z"
   },
   {
    "duration": 364,
    "start_time": "2023-12-28T14:05:38.101Z"
   },
   {
    "duration": 15,
    "start_time": "2023-12-28T14:05:38.467Z"
   },
   {
    "duration": 18,
    "start_time": "2023-12-28T14:05:38.483Z"
   },
   {
    "duration": 43,
    "start_time": "2023-12-28T14:05:38.502Z"
   },
   {
    "duration": 23,
    "start_time": "2023-12-28T14:05:38.546Z"
   },
   {
    "duration": 29,
    "start_time": "2023-12-28T14:05:38.571Z"
   },
   {
    "duration": 110,
    "start_time": "2023-12-28T14:05:38.601Z"
   },
   {
    "duration": 5,
    "start_time": "2023-12-28T14:05:38.712Z"
   },
   {
    "duration": 23,
    "start_time": "2023-12-28T14:05:38.718Z"
   },
   {
    "duration": 17,
    "start_time": "2023-12-28T14:05:38.742Z"
   },
   {
    "duration": 81,
    "start_time": "2023-12-28T14:05:38.760Z"
   },
   {
    "duration": 13,
    "start_time": "2023-12-28T14:05:38.842Z"
   },
   {
    "duration": 58,
    "start_time": "2023-12-28T14:05:38.856Z"
   },
   {
    "duration": 43,
    "start_time": "2023-12-28T14:05:38.916Z"
   },
   {
    "duration": 203,
    "start_time": "2023-12-28T14:05:38.961Z"
   },
   {
    "duration": 34,
    "start_time": "2023-12-28T14:05:39.166Z"
   },
   {
    "duration": 447,
    "start_time": "2023-12-28T14:05:39.201Z"
   },
   {
    "duration": 9005,
    "start_time": "2023-12-28T14:05:39.650Z"
   },
   {
    "duration": 43,
    "start_time": "2023-12-28T14:05:48.656Z"
   },
   {
    "duration": 6,
    "start_time": "2023-12-28T14:05:48.701Z"
   },
   {
    "duration": 26,
    "start_time": "2023-12-28T14:05:48.709Z"
   },
   {
    "duration": 2,
    "start_time": "2023-12-28T14:05:48.736Z"
   },
   {
    "duration": 168,
    "start_time": "2023-12-28T14:05:48.739Z"
   },
   {
    "duration": 2,
    "start_time": "2023-12-28T14:05:48.909Z"
   },
   {
    "duration": 16,
    "start_time": "2023-12-28T14:05:48.913Z"
   },
   {
    "duration": 75,
    "start_time": "2023-12-28T14:05:48.931Z"
   },
   {
    "duration": 10,
    "start_time": "2023-12-28T14:05:49.008Z"
   },
   {
    "duration": 148,
    "start_time": "2023-12-28T14:05:49.020Z"
   },
   {
    "duration": 6,
    "start_time": "2023-12-28T14:05:49.169Z"
   },
   {
    "duration": 31,
    "start_time": "2023-12-28T14:05:49.176Z"
   },
   {
    "duration": 147,
    "start_time": "2023-12-28T14:05:49.208Z"
   },
   {
    "duration": 3,
    "start_time": "2023-12-28T14:05:49.356Z"
   },
   {
    "duration": 27,
    "start_time": "2023-12-28T14:05:49.360Z"
   },
   {
    "duration": 13,
    "start_time": "2023-12-28T14:05:49.388Z"
   },
   {
    "duration": 21,
    "start_time": "2023-12-28T14:05:49.402Z"
   },
   {
    "duration": 6,
    "start_time": "2023-12-28T14:05:49.424Z"
   },
   {
    "duration": 21,
    "start_time": "2023-12-28T14:05:49.431Z"
   },
   {
    "duration": 49,
    "start_time": "2023-12-28T14:05:49.453Z"
   },
   {
    "duration": 10,
    "start_time": "2023-12-28T14:05:49.508Z"
   },
   {
    "duration": 28,
    "start_time": "2023-12-28T14:05:49.519Z"
   },
   {
    "duration": 134,
    "start_time": "2023-12-28T14:05:49.548Z"
   },
   {
    "duration": 16,
    "start_time": "2023-12-28T14:05:49.683Z"
   },
   {
    "duration": 13,
    "start_time": "2023-12-28T14:05:49.700Z"
   },
   {
    "duration": 4,
    "start_time": "2023-12-28T14:05:49.715Z"
   },
   {
    "duration": 151,
    "start_time": "2023-12-28T14:05:49.720Z"
   },
   {
    "duration": 4,
    "start_time": "2023-12-28T14:05:49.873Z"
   },
   {
    "duration": 9,
    "start_time": "2023-12-28T14:05:49.878Z"
   },
   {
    "duration": 264,
    "start_time": "2023-12-28T14:05:49.898Z"
   },
   {
    "duration": 3,
    "start_time": "2023-12-28T14:05:50.164Z"
   },
   {
    "duration": 144,
    "start_time": "2023-12-28T14:05:50.168Z"
   },
   {
    "duration": 3,
    "start_time": "2023-12-28T14:05:50.314Z"
   },
   {
    "duration": 8,
    "start_time": "2023-12-28T14:05:50.318Z"
   },
   {
    "duration": 29,
    "start_time": "2023-12-28T14:05:50.328Z"
   },
   {
    "duration": 11,
    "start_time": "2023-12-28T14:05:50.358Z"
   },
   {
    "duration": 13,
    "start_time": "2023-12-28T14:05:50.371Z"
   },
   {
    "duration": 158,
    "start_time": "2023-12-28T14:05:50.386Z"
   },
   {
    "duration": 16,
    "start_time": "2023-12-28T14:05:50.545Z"
   },
   {
    "duration": 16,
    "start_time": "2023-12-28T14:05:50.562Z"
   },
   {
    "duration": 24,
    "start_time": "2023-12-28T14:05:50.579Z"
   },
   {
    "duration": 21,
    "start_time": "2023-12-28T14:05:50.604Z"
   },
   {
    "duration": 11,
    "start_time": "2023-12-28T14:05:50.627Z"
   },
   {
    "duration": 10,
    "start_time": "2023-12-28T14:05:50.639Z"
   },
   {
    "duration": 71,
    "start_time": "2023-12-28T14:05:50.650Z"
   },
   {
    "duration": 9,
    "start_time": "2023-12-28T14:05:50.723Z"
   },
   {
    "duration": 62,
    "start_time": "2023-12-28T14:05:50.733Z"
   },
   {
    "duration": 19,
    "start_time": "2023-12-28T14:05:50.797Z"
   },
   {
    "duration": 50,
    "start_time": "2023-12-28T14:05:50.817Z"
   },
   {
    "duration": 40,
    "start_time": "2023-12-28T14:05:50.869Z"
   },
   {
    "duration": 30,
    "start_time": "2023-12-28T14:05:50.911Z"
   },
   {
    "duration": 9069,
    "start_time": "2023-12-28T14:05:50.943Z"
   },
   {
    "duration": 4,
    "start_time": "2023-12-28T14:06:00.013Z"
   },
   {
    "duration": 216,
    "start_time": "2023-12-28T14:06:00.019Z"
   },
   {
    "duration": 6,
    "start_time": "2023-12-28T14:06:00.236Z"
   },
   {
    "duration": 67,
    "start_time": "2023-12-28T14:06:00.243Z"
   },
   {
    "duration": 422,
    "start_time": "2023-12-28T14:06:00.311Z"
   },
   {
    "duration": 4,
    "start_time": "2023-12-28T14:06:00.735Z"
   },
   {
    "duration": 38,
    "start_time": "2023-12-28T14:06:00.740Z"
   },
   {
    "duration": 38,
    "start_time": "2023-12-28T14:06:00.780Z"
   },
   {
    "duration": 28,
    "start_time": "2023-12-28T14:06:00.819Z"
   },
   {
    "duration": 55,
    "start_time": "2023-12-28T14:06:00.849Z"
   },
   {
    "duration": 69,
    "start_time": "2023-12-28T14:06:00.906Z"
   },
   {
    "duration": 123,
    "start_time": "2023-12-28T14:06:00.976Z"
   },
   {
    "duration": 110,
    "start_time": "2023-12-28T14:06:01.101Z"
   },
   {
    "duration": 205,
    "start_time": "2023-12-28T14:06:01.212Z"
   },
   {
    "duration": 0,
    "start_time": "2023-12-28T14:06:01.419Z"
   },
   {
    "duration": 0,
    "start_time": "2023-12-28T14:06:01.420Z"
   },
   {
    "duration": 3,
    "start_time": "2023-12-28T14:06:12.521Z"
   },
   {
    "duration": 23,
    "start_time": "2023-12-28T14:12:02.765Z"
   },
   {
    "duration": 7,
    "start_time": "2023-12-28T14:20:13.753Z"
   },
   {
    "duration": 4,
    "start_time": "2023-12-28T14:20:53.778Z"
   },
   {
    "duration": 612,
    "start_time": "2023-12-28T14:30:22.270Z"
   },
   {
    "duration": 2,
    "start_time": "2023-12-28T14:30:22.884Z"
   },
   {
    "duration": 528,
    "start_time": "2023-12-28T14:30:22.887Z"
   },
   {
    "duration": 2,
    "start_time": "2023-12-28T14:30:23.417Z"
   },
   {
    "duration": 95,
    "start_time": "2023-12-28T14:30:23.421Z"
   },
   {
    "duration": 19,
    "start_time": "2023-12-28T14:30:23.518Z"
   },
   {
    "duration": 13,
    "start_time": "2023-12-28T14:30:23.538Z"
   },
   {
    "duration": 782,
    "start_time": "2023-12-28T14:30:23.552Z"
   },
   {
    "duration": 15,
    "start_time": "2023-12-28T14:30:24.335Z"
   },
   {
    "duration": 5,
    "start_time": "2023-12-28T14:30:24.352Z"
   },
   {
    "duration": 5,
    "start_time": "2023-12-28T14:30:24.358Z"
   },
   {
    "duration": 6,
    "start_time": "2023-12-28T14:30:24.365Z"
   },
   {
    "duration": 31,
    "start_time": "2023-12-28T14:30:24.373Z"
   },
   {
    "duration": 3,
    "start_time": "2023-12-28T14:30:24.405Z"
   },
   {
    "duration": 26,
    "start_time": "2023-12-28T14:30:24.410Z"
   },
   {
    "duration": 3,
    "start_time": "2023-12-28T14:30:24.438Z"
   },
   {
    "duration": 5,
    "start_time": "2023-12-28T14:30:24.443Z"
   },
   {
    "duration": 17,
    "start_time": "2023-12-28T14:30:24.449Z"
   },
   {
    "duration": 5,
    "start_time": "2023-12-28T14:30:24.468Z"
   },
   {
    "duration": 25,
    "start_time": "2023-12-28T14:30:24.474Z"
   },
   {
    "duration": 5,
    "start_time": "2023-12-28T14:30:24.500Z"
   },
   {
    "duration": 4,
    "start_time": "2023-12-28T14:30:24.506Z"
   },
   {
    "duration": 71,
    "start_time": "2023-12-28T14:30:24.511Z"
   },
   {
    "duration": 5,
    "start_time": "2023-12-28T14:30:24.599Z"
   },
   {
    "duration": 16,
    "start_time": "2023-12-28T14:30:24.605Z"
   },
   {
    "duration": 4,
    "start_time": "2023-12-28T14:30:24.622Z"
   },
   {
    "duration": 143,
    "start_time": "2023-12-28T14:30:24.627Z"
   },
   {
    "duration": 2,
    "start_time": "2023-12-28T14:30:24.774Z"
   },
   {
    "duration": 4,
    "start_time": "2023-12-28T14:30:24.777Z"
   },
   {
    "duration": 153,
    "start_time": "2023-12-28T14:30:24.782Z"
   },
   {
    "duration": 20,
    "start_time": "2023-12-28T14:30:24.936Z"
   },
   {
    "duration": 142,
    "start_time": "2023-12-28T14:30:24.957Z"
   },
   {
    "duration": 5,
    "start_time": "2023-12-28T14:30:25.100Z"
   },
   {
    "duration": 142,
    "start_time": "2023-12-28T14:30:25.106Z"
   },
   {
    "duration": 15,
    "start_time": "2023-12-28T14:30:25.249Z"
   },
   {
    "duration": 5,
    "start_time": "2023-12-28T14:30:25.265Z"
   },
   {
    "duration": 8,
    "start_time": "2023-12-28T14:30:25.271Z"
   },
   {
    "duration": 173,
    "start_time": "2023-12-28T14:30:25.299Z"
   },
   {
    "duration": 25,
    "start_time": "2023-12-28T14:30:25.473Z"
   },
   {
    "duration": 8,
    "start_time": "2023-12-28T14:30:25.500Z"
   },
   {
    "duration": 38,
    "start_time": "2023-12-28T14:30:25.509Z"
   },
   {
    "duration": 50,
    "start_time": "2023-12-28T14:30:25.549Z"
   },
   {
    "duration": 41,
    "start_time": "2023-12-28T14:30:25.600Z"
   },
   {
    "duration": 347,
    "start_time": "2023-12-28T14:30:25.642Z"
   },
   {
    "duration": 19,
    "start_time": "2023-12-28T14:30:25.991Z"
   },
   {
    "duration": 6,
    "start_time": "2023-12-28T14:30:26.012Z"
   },
   {
    "duration": 43,
    "start_time": "2023-12-28T14:30:26.019Z"
   },
   {
    "duration": 37,
    "start_time": "2023-12-28T14:30:26.063Z"
   },
   {
    "duration": 10,
    "start_time": "2023-12-28T14:30:26.102Z"
   },
   {
    "duration": 25,
    "start_time": "2023-12-28T14:30:26.113Z"
   },
   {
    "duration": 117,
    "start_time": "2023-12-28T14:30:26.139Z"
   },
   {
    "duration": 4,
    "start_time": "2023-12-28T14:30:26.257Z"
   },
   {
    "duration": 18,
    "start_time": "2023-12-28T14:30:26.263Z"
   },
   {
    "duration": 29,
    "start_time": "2023-12-28T14:30:26.282Z"
   },
   {
    "duration": 79,
    "start_time": "2023-12-28T14:30:26.312Z"
   },
   {
    "duration": 13,
    "start_time": "2023-12-28T14:30:26.392Z"
   },
   {
    "duration": 44,
    "start_time": "2023-12-28T14:30:26.406Z"
   },
   {
    "duration": 47,
    "start_time": "2023-12-28T14:30:26.452Z"
   },
   {
    "duration": 107,
    "start_time": "2023-12-28T14:30:26.500Z"
   },
   {
    "duration": 20,
    "start_time": "2023-12-28T14:30:26.609Z"
   },
   {
    "duration": 449,
    "start_time": "2023-12-28T14:30:26.631Z"
   },
   {
    "duration": 9102,
    "start_time": "2023-12-28T14:30:27.081Z"
   },
   {
    "duration": 25,
    "start_time": "2023-12-28T14:30:36.185Z"
   },
   {
    "duration": 90,
    "start_time": "2023-12-28T14:30:36.211Z"
   },
   {
    "duration": 25,
    "start_time": "2023-12-28T14:30:36.303Z"
   },
   {
    "duration": 2,
    "start_time": "2023-12-28T14:30:36.329Z"
   },
   {
    "duration": 121,
    "start_time": "2023-12-28T14:30:36.332Z"
   },
   {
    "duration": 2,
    "start_time": "2023-12-28T14:30:36.454Z"
   },
   {
    "duration": 41,
    "start_time": "2023-12-28T14:30:36.458Z"
   },
   {
    "duration": 40,
    "start_time": "2023-12-28T14:30:36.501Z"
   },
   {
    "duration": 10,
    "start_time": "2023-12-28T14:30:36.542Z"
   },
   {
    "duration": 121,
    "start_time": "2023-12-28T14:30:36.553Z"
   },
   {
    "duration": 5,
    "start_time": "2023-12-28T14:30:36.675Z"
   },
   {
    "duration": 25,
    "start_time": "2023-12-28T14:30:36.682Z"
   },
   {
    "duration": 129,
    "start_time": "2023-12-28T14:30:36.709Z"
   },
   {
    "duration": 3,
    "start_time": "2023-12-28T14:30:36.839Z"
   },
   {
    "duration": 20,
    "start_time": "2023-12-28T14:30:36.843Z"
   },
   {
    "duration": 5,
    "start_time": "2023-12-28T14:30:36.864Z"
   },
   {
    "duration": 37,
    "start_time": "2023-12-28T14:30:36.870Z"
   },
   {
    "duration": 5,
    "start_time": "2023-12-28T14:30:36.908Z"
   },
   {
    "duration": 16,
    "start_time": "2023-12-28T14:30:36.914Z"
   },
   {
    "duration": 46,
    "start_time": "2023-12-28T14:30:36.936Z"
   },
   {
    "duration": 22,
    "start_time": "2023-12-28T14:30:36.983Z"
   },
   {
    "duration": 37,
    "start_time": "2023-12-28T14:30:37.007Z"
   },
   {
    "duration": 144,
    "start_time": "2023-12-28T14:30:37.045Z"
   },
   {
    "duration": 5,
    "start_time": "2023-12-28T14:30:37.190Z"
   },
   {
    "duration": 20,
    "start_time": "2023-12-28T14:30:37.198Z"
   },
   {
    "duration": 5,
    "start_time": "2023-12-28T14:30:37.219Z"
   },
   {
    "duration": 149,
    "start_time": "2023-12-28T14:30:37.225Z"
   },
   {
    "duration": 5,
    "start_time": "2023-12-28T14:30:37.375Z"
   },
   {
    "duration": 6,
    "start_time": "2023-12-28T14:30:37.381Z"
   },
   {
    "duration": 270,
    "start_time": "2023-12-28T14:30:37.388Z"
   },
   {
    "duration": 2,
    "start_time": "2023-12-28T14:30:37.659Z"
   },
   {
    "duration": 149,
    "start_time": "2023-12-28T14:30:37.662Z"
   },
   {
    "duration": 3,
    "start_time": "2023-12-28T14:30:37.812Z"
   },
   {
    "duration": 8,
    "start_time": "2023-12-28T14:30:37.816Z"
   },
   {
    "duration": 10,
    "start_time": "2023-12-28T14:30:37.825Z"
   },
   {
    "duration": 9,
    "start_time": "2023-12-28T14:30:37.837Z"
   },
   {
    "duration": 31,
    "start_time": "2023-12-28T14:30:37.847Z"
   },
   {
    "duration": 156,
    "start_time": "2023-12-28T14:30:37.880Z"
   },
   {
    "duration": 16,
    "start_time": "2023-12-28T14:30:38.037Z"
   },
   {
    "duration": 7,
    "start_time": "2023-12-28T14:30:38.054Z"
   },
   {
    "duration": 16,
    "start_time": "2023-12-28T14:30:38.063Z"
   },
   {
    "duration": 20,
    "start_time": "2023-12-28T14:30:38.080Z"
   },
   {
    "duration": 4,
    "start_time": "2023-12-28T14:30:38.102Z"
   },
   {
    "duration": 6,
    "start_time": "2023-12-28T14:30:38.107Z"
   },
   {
    "duration": 46,
    "start_time": "2023-12-28T14:30:38.115Z"
   },
   {
    "duration": 10,
    "start_time": "2023-12-28T14:30:38.162Z"
   },
   {
    "duration": 35,
    "start_time": "2023-12-28T14:30:38.173Z"
   },
   {
    "duration": 9,
    "start_time": "2023-12-28T14:30:38.209Z"
   },
   {
    "duration": 4,
    "start_time": "2023-12-28T14:30:38.220Z"
   },
   {
    "duration": 13,
    "start_time": "2023-12-28T14:30:38.225Z"
   },
   {
    "duration": 3,
    "start_time": "2023-12-28T14:30:38.239Z"
   },
   {
    "duration": 7561,
    "start_time": "2023-12-28T14:30:38.244Z"
   },
   {
    "duration": 3,
    "start_time": "2023-12-28T14:30:45.807Z"
   },
   {
    "duration": 163,
    "start_time": "2023-12-28T14:30:45.811Z"
   },
   {
    "duration": 4,
    "start_time": "2023-12-28T14:30:45.975Z"
   },
   {
    "duration": 7,
    "start_time": "2023-12-28T14:30:45.981Z"
   },
   {
    "duration": 13,
    "start_time": "2023-12-28T14:30:45.989Z"
   },
   {
    "duration": 361,
    "start_time": "2023-12-28T14:30:46.003Z"
   },
   {
    "duration": 4,
    "start_time": "2023-12-28T14:30:46.365Z"
   },
   {
    "duration": 25,
    "start_time": "2023-12-28T14:30:46.370Z"
   },
   {
    "duration": 9,
    "start_time": "2023-12-28T14:30:46.396Z"
   },
   {
    "duration": 17,
    "start_time": "2023-12-28T14:30:46.406Z"
   },
   {
    "duration": 9,
    "start_time": "2023-12-28T14:30:46.424Z"
   },
   {
    "duration": 10,
    "start_time": "2023-12-28T14:30:46.434Z"
   },
   {
    "duration": 16,
    "start_time": "2023-12-28T14:30:46.445Z"
   },
   {
    "duration": 4,
    "start_time": "2023-12-28T14:30:46.462Z"
   },
   {
    "duration": 173,
    "start_time": "2023-12-28T14:30:46.467Z"
   },
   {
    "duration": 0,
    "start_time": "2023-12-28T14:30:46.641Z"
   },
   {
    "duration": 0,
    "start_time": "2023-12-28T14:30:46.643Z"
   },
   {
    "duration": 1133,
    "start_time": "2023-12-29T12:52:56.711Z"
   },
   {
    "duration": 2,
    "start_time": "2023-12-29T12:52:57.846Z"
   },
   {
    "duration": 174,
    "start_time": "2023-12-29T12:52:57.849Z"
   },
   {
    "duration": 0,
    "start_time": "2023-12-29T12:52:58.028Z"
   },
   {
    "duration": 0,
    "start_time": "2023-12-29T12:52:58.029Z"
   },
   {
    "duration": 0,
    "start_time": "2023-12-29T12:52:58.030Z"
   },
   {
    "duration": 0,
    "start_time": "2023-12-29T12:52:58.031Z"
   },
   {
    "duration": 0,
    "start_time": "2023-12-29T12:52:58.032Z"
   },
   {
    "duration": 0,
    "start_time": "2023-12-29T12:52:58.033Z"
   },
   {
    "duration": 0,
    "start_time": "2023-12-29T12:52:58.034Z"
   },
   {
    "duration": 0,
    "start_time": "2023-12-29T12:52:58.035Z"
   },
   {
    "duration": 0,
    "start_time": "2023-12-29T12:52:58.036Z"
   },
   {
    "duration": 0,
    "start_time": "2023-12-29T12:52:58.037Z"
   },
   {
    "duration": 0,
    "start_time": "2023-12-29T12:52:58.039Z"
   },
   {
    "duration": 0,
    "start_time": "2023-12-29T12:52:58.040Z"
   },
   {
    "duration": 0,
    "start_time": "2023-12-29T12:52:58.040Z"
   },
   {
    "duration": 0,
    "start_time": "2023-12-29T12:52:58.041Z"
   },
   {
    "duration": 0,
    "start_time": "2023-12-29T12:52:58.042Z"
   },
   {
    "duration": 0,
    "start_time": "2023-12-29T12:52:58.043Z"
   },
   {
    "duration": 0,
    "start_time": "2023-12-29T12:52:58.044Z"
   },
   {
    "duration": 0,
    "start_time": "2023-12-29T12:52:58.045Z"
   },
   {
    "duration": 0,
    "start_time": "2023-12-29T12:52:58.046Z"
   },
   {
    "duration": 0,
    "start_time": "2023-12-29T12:52:58.047Z"
   },
   {
    "duration": 1,
    "start_time": "2023-12-29T12:52:58.048Z"
   },
   {
    "duration": 0,
    "start_time": "2023-12-29T12:52:58.049Z"
   },
   {
    "duration": 0,
    "start_time": "2023-12-29T12:52:58.050Z"
   },
   {
    "duration": 0,
    "start_time": "2023-12-29T12:52:58.051Z"
   },
   {
    "duration": 0,
    "start_time": "2023-12-29T12:52:58.122Z"
   },
   {
    "duration": 0,
    "start_time": "2023-12-29T12:52:58.124Z"
   },
   {
    "duration": 0,
    "start_time": "2023-12-29T12:52:58.125Z"
   },
   {
    "duration": 0,
    "start_time": "2023-12-29T12:52:58.126Z"
   },
   {
    "duration": 0,
    "start_time": "2023-12-29T12:52:58.127Z"
   },
   {
    "duration": 0,
    "start_time": "2023-12-29T12:52:58.128Z"
   },
   {
    "duration": 0,
    "start_time": "2023-12-29T12:52:58.129Z"
   },
   {
    "duration": 0,
    "start_time": "2023-12-29T12:52:58.130Z"
   },
   {
    "duration": 0,
    "start_time": "2023-12-29T12:52:58.131Z"
   },
   {
    "duration": 0,
    "start_time": "2023-12-29T12:52:58.132Z"
   },
   {
    "duration": 0,
    "start_time": "2023-12-29T12:52:58.133Z"
   },
   {
    "duration": 0,
    "start_time": "2023-12-29T12:52:58.134Z"
   },
   {
    "duration": 0,
    "start_time": "2023-12-29T12:52:58.135Z"
   },
   {
    "duration": 0,
    "start_time": "2023-12-29T12:52:58.137Z"
   },
   {
    "duration": 0,
    "start_time": "2023-12-29T12:52:58.138Z"
   },
   {
    "duration": 0,
    "start_time": "2023-12-29T12:52:58.139Z"
   },
   {
    "duration": 1,
    "start_time": "2023-12-29T12:52:58.140Z"
   },
   {
    "duration": 0,
    "start_time": "2023-12-29T12:52:58.142Z"
   },
   {
    "duration": 0,
    "start_time": "2023-12-29T12:52:58.143Z"
   },
   {
    "duration": 0,
    "start_time": "2023-12-29T12:52:58.145Z"
   },
   {
    "duration": 0,
    "start_time": "2023-12-29T12:52:58.146Z"
   },
   {
    "duration": 0,
    "start_time": "2023-12-29T12:52:58.148Z"
   },
   {
    "duration": 0,
    "start_time": "2023-12-29T12:52:58.223Z"
   },
   {
    "duration": 0,
    "start_time": "2023-12-29T12:52:58.225Z"
   },
   {
    "duration": 0,
    "start_time": "2023-12-29T12:52:58.226Z"
   },
   {
    "duration": 0,
    "start_time": "2023-12-29T12:52:58.227Z"
   },
   {
    "duration": 0,
    "start_time": "2023-12-29T12:52:58.229Z"
   },
   {
    "duration": 0,
    "start_time": "2023-12-29T12:52:58.230Z"
   },
   {
    "duration": 0,
    "start_time": "2023-12-29T12:52:58.232Z"
   },
   {
    "duration": 0,
    "start_time": "2023-12-29T12:52:58.234Z"
   },
   {
    "duration": 0,
    "start_time": "2023-12-29T12:52:58.235Z"
   },
   {
    "duration": 0,
    "start_time": "2023-12-29T12:52:58.236Z"
   },
   {
    "duration": 0,
    "start_time": "2023-12-29T12:52:58.238Z"
   },
   {
    "duration": 0,
    "start_time": "2023-12-29T12:52:58.240Z"
   },
   {
    "duration": 0,
    "start_time": "2023-12-29T12:52:58.241Z"
   },
   {
    "duration": 0,
    "start_time": "2023-12-29T12:52:58.243Z"
   },
   {
    "duration": 0,
    "start_time": "2023-12-29T12:52:58.244Z"
   },
   {
    "duration": 0,
    "start_time": "2023-12-29T12:52:58.247Z"
   },
   {
    "duration": 0,
    "start_time": "2023-12-29T12:52:58.322Z"
   },
   {
    "duration": 0,
    "start_time": "2023-12-29T12:52:58.323Z"
   },
   {
    "duration": 0,
    "start_time": "2023-12-29T12:52:58.324Z"
   },
   {
    "duration": 0,
    "start_time": "2023-12-29T12:52:58.326Z"
   },
   {
    "duration": 0,
    "start_time": "2023-12-29T12:52:58.327Z"
   },
   {
    "duration": 0,
    "start_time": "2023-12-29T12:52:58.327Z"
   },
   {
    "duration": 1,
    "start_time": "2023-12-29T12:52:58.328Z"
   },
   {
    "duration": 0,
    "start_time": "2023-12-29T12:52:58.329Z"
   },
   {
    "duration": 0,
    "start_time": "2023-12-29T12:52:58.330Z"
   },
   {
    "duration": 0,
    "start_time": "2023-12-29T12:52:58.331Z"
   },
   {
    "duration": 0,
    "start_time": "2023-12-29T12:52:58.332Z"
   },
   {
    "duration": 0,
    "start_time": "2023-12-29T12:52:58.333Z"
   },
   {
    "duration": 0,
    "start_time": "2023-12-29T12:52:58.334Z"
   },
   {
    "duration": 0,
    "start_time": "2023-12-29T12:52:58.335Z"
   },
   {
    "duration": 0,
    "start_time": "2023-12-29T12:52:58.336Z"
   },
   {
    "duration": 0,
    "start_time": "2023-12-29T12:52:58.337Z"
   },
   {
    "duration": 0,
    "start_time": "2023-12-29T12:52:58.339Z"
   },
   {
    "duration": 0,
    "start_time": "2023-12-29T12:52:58.340Z"
   },
   {
    "duration": 0,
    "start_time": "2023-12-29T12:52:58.341Z"
   },
   {
    "duration": 0,
    "start_time": "2023-12-29T12:52:58.342Z"
   },
   {
    "duration": 0,
    "start_time": "2023-12-29T12:52:58.343Z"
   },
   {
    "duration": 0,
    "start_time": "2023-12-29T12:52:58.344Z"
   },
   {
    "duration": 0,
    "start_time": "2023-12-29T12:52:58.345Z"
   },
   {
    "duration": 0,
    "start_time": "2023-12-29T12:52:58.346Z"
   },
   {
    "duration": 0,
    "start_time": "2023-12-29T12:52:58.346Z"
   },
   {
    "duration": 0,
    "start_time": "2023-12-29T12:52:58.348Z"
   },
   {
    "duration": 0,
    "start_time": "2023-12-29T12:52:58.422Z"
   },
   {
    "duration": 0,
    "start_time": "2023-12-29T12:52:58.423Z"
   },
   {
    "duration": 0,
    "start_time": "2023-12-29T12:52:58.425Z"
   },
   {
    "duration": 0,
    "start_time": "2023-12-29T12:52:58.426Z"
   },
   {
    "duration": 0,
    "start_time": "2023-12-29T12:52:58.427Z"
   },
   {
    "duration": 0,
    "start_time": "2023-12-29T12:52:58.428Z"
   },
   {
    "duration": 0,
    "start_time": "2023-12-29T12:52:58.429Z"
   },
   {
    "duration": 0,
    "start_time": "2023-12-29T12:52:58.430Z"
   },
   {
    "duration": 0,
    "start_time": "2023-12-29T12:52:58.431Z"
   },
   {
    "duration": 0,
    "start_time": "2023-12-29T12:52:58.432Z"
   },
   {
    "duration": 0,
    "start_time": "2023-12-29T12:52:58.434Z"
   },
   {
    "duration": 0,
    "start_time": "2023-12-29T12:52:58.435Z"
   },
   {
    "duration": 0,
    "start_time": "2023-12-29T12:52:58.436Z"
   },
   {
    "duration": 0,
    "start_time": "2023-12-29T12:52:58.437Z"
   },
   {
    "duration": 0,
    "start_time": "2023-12-29T12:52:58.438Z"
   },
   {
    "duration": 0,
    "start_time": "2023-12-29T12:52:58.439Z"
   },
   {
    "duration": 0,
    "start_time": "2023-12-29T12:52:58.440Z"
   },
   {
    "duration": 0,
    "start_time": "2023-12-29T12:52:58.441Z"
   },
   {
    "duration": 0,
    "start_time": "2023-12-29T12:52:58.442Z"
   },
   {
    "duration": 0,
    "start_time": "2023-12-29T12:52:58.443Z"
   },
   {
    "duration": 0,
    "start_time": "2023-12-29T12:52:58.444Z"
   },
   {
    "duration": 0,
    "start_time": "2023-12-29T12:52:58.445Z"
   },
   {
    "duration": 0,
    "start_time": "2023-12-29T12:52:58.446Z"
   },
   {
    "duration": 0,
    "start_time": "2023-12-29T12:52:58.447Z"
   },
   {
    "duration": 0,
    "start_time": "2023-12-29T12:52:58.523Z"
   },
   {
    "duration": 0,
    "start_time": "2023-12-29T12:52:58.524Z"
   },
   {
    "duration": 0,
    "start_time": "2023-12-29T12:52:58.525Z"
   },
   {
    "duration": 0,
    "start_time": "2023-12-29T12:52:58.526Z"
   },
   {
    "duration": 0,
    "start_time": "2023-12-29T12:52:58.527Z"
   },
   {
    "duration": 0,
    "start_time": "2023-12-29T12:52:58.528Z"
   },
   {
    "duration": 0,
    "start_time": "2023-12-29T12:52:58.529Z"
   },
   {
    "duration": 0,
    "start_time": "2023-12-29T12:52:58.530Z"
   },
   {
    "duration": 0,
    "start_time": "2023-12-29T12:52:58.531Z"
   },
   {
    "duration": 0,
    "start_time": "2023-12-29T12:52:58.532Z"
   },
   {
    "duration": 0,
    "start_time": "2023-12-29T12:52:58.533Z"
   },
   {
    "duration": 0,
    "start_time": "2023-12-29T12:52:58.534Z"
   },
   {
    "duration": 0,
    "start_time": "2023-12-29T12:52:58.535Z"
   },
   {
    "duration": 1,
    "start_time": "2023-12-29T12:52:58.535Z"
   },
   {
    "duration": 0,
    "start_time": "2023-12-29T12:52:58.536Z"
   },
   {
    "duration": 0,
    "start_time": "2023-12-29T12:52:58.537Z"
   },
   {
    "duration": 741,
    "start_time": "2023-12-29T12:53:19.144Z"
   },
   {
    "duration": 3347,
    "start_time": "2023-12-29T12:53:19.886Z"
   },
   {
    "duration": 534,
    "start_time": "2023-12-29T12:53:23.236Z"
   },
   {
    "duration": 2,
    "start_time": "2023-12-29T12:53:23.772Z"
   },
   {
    "duration": 113,
    "start_time": "2023-12-29T12:53:23.775Z"
   },
   {
    "duration": 19,
    "start_time": "2023-12-29T12:53:23.890Z"
   },
   {
    "duration": 19,
    "start_time": "2023-12-29T12:53:23.911Z"
   },
   {
    "duration": 972,
    "start_time": "2023-12-29T12:53:23.931Z"
   },
   {
    "duration": 29,
    "start_time": "2023-12-29T12:53:24.905Z"
   },
   {
    "duration": 6,
    "start_time": "2023-12-29T12:53:24.938Z"
   },
   {
    "duration": 8,
    "start_time": "2023-12-29T12:53:24.945Z"
   },
   {
    "duration": 8,
    "start_time": "2023-12-29T12:53:24.955Z"
   },
   {
    "duration": 10,
    "start_time": "2023-12-29T12:53:24.965Z"
   },
   {
    "duration": 14,
    "start_time": "2023-12-29T12:53:24.976Z"
   },
   {
    "duration": 45,
    "start_time": "2023-12-29T12:53:24.992Z"
   },
   {
    "duration": 16,
    "start_time": "2023-12-29T12:53:25.039Z"
   },
   {
    "duration": 23,
    "start_time": "2023-12-29T12:53:25.056Z"
   },
   {
    "duration": 31,
    "start_time": "2023-12-29T12:53:25.081Z"
   },
   {
    "duration": 9,
    "start_time": "2023-12-29T12:53:25.113Z"
   },
   {
    "duration": 25,
    "start_time": "2023-12-29T12:53:25.124Z"
   },
   {
    "duration": 26,
    "start_time": "2023-12-29T12:53:25.150Z"
   },
   {
    "duration": 23,
    "start_time": "2023-12-29T12:53:25.178Z"
   },
   {
    "duration": 104,
    "start_time": "2023-12-29T12:53:25.202Z"
   },
   {
    "duration": 6,
    "start_time": "2023-12-29T12:53:25.308Z"
   },
   {
    "duration": 21,
    "start_time": "2023-12-29T12:53:25.322Z"
   },
   {
    "duration": 4,
    "start_time": "2023-12-29T12:53:25.345Z"
   },
   {
    "duration": 188,
    "start_time": "2023-12-29T12:53:25.351Z"
   },
   {
    "duration": 3,
    "start_time": "2023-12-29T12:53:25.543Z"
   },
   {
    "duration": 5,
    "start_time": "2023-12-29T12:53:25.548Z"
   },
   {
    "duration": 178,
    "start_time": "2023-12-29T12:53:25.555Z"
   },
   {
    "duration": 23,
    "start_time": "2023-12-29T12:53:25.734Z"
   },
   {
    "duration": 171,
    "start_time": "2023-12-29T12:53:25.759Z"
   },
   {
    "duration": 5,
    "start_time": "2023-12-29T12:53:25.932Z"
   },
   {
    "duration": 160,
    "start_time": "2023-12-29T12:53:25.938Z"
   },
   {
    "duration": 24,
    "start_time": "2023-12-29T12:53:26.100Z"
   },
   {
    "duration": 7,
    "start_time": "2023-12-29T12:53:26.125Z"
   },
   {
    "duration": 4,
    "start_time": "2023-12-29T12:53:26.134Z"
   },
   {
    "duration": 147,
    "start_time": "2023-12-29T12:53:26.139Z"
   },
   {
    "duration": 42,
    "start_time": "2023-12-29T12:53:26.288Z"
   },
   {
    "duration": 6,
    "start_time": "2023-12-29T12:53:26.332Z"
   },
   {
    "duration": 16,
    "start_time": "2023-12-29T12:53:26.339Z"
   },
   {
    "duration": 12,
    "start_time": "2023-12-29T12:53:26.356Z"
   },
   {
    "duration": 2,
    "start_time": "2023-12-29T12:53:26.370Z"
   },
   {
    "duration": 633,
    "start_time": "2023-12-29T12:53:26.423Z"
   },
   {
    "duration": 67,
    "start_time": "2023-12-29T12:53:27.058Z"
   },
   {
    "duration": 7,
    "start_time": "2023-12-29T12:53:27.127Z"
   },
   {
    "duration": 104,
    "start_time": "2023-12-29T12:53:27.135Z"
   },
   {
    "duration": 26,
    "start_time": "2023-12-29T12:53:27.241Z"
   },
   {
    "duration": 12,
    "start_time": "2023-12-29T12:53:27.323Z"
   },
   {
    "duration": 23,
    "start_time": "2023-12-29T12:53:27.337Z"
   },
   {
    "duration": 281,
    "start_time": "2023-12-29T12:53:27.362Z"
   },
   {
    "duration": 4,
    "start_time": "2023-12-29T12:53:27.645Z"
   },
   {
    "duration": 74,
    "start_time": "2023-12-29T12:53:27.651Z"
   },
   {
    "duration": 19,
    "start_time": "2023-12-29T12:53:27.726Z"
   },
   {
    "duration": 183,
    "start_time": "2023-12-29T12:53:27.746Z"
   },
   {
    "duration": 19,
    "start_time": "2023-12-29T12:53:27.931Z"
   },
   {
    "duration": 98,
    "start_time": "2023-12-29T12:53:27.952Z"
   },
   {
    "duration": 106,
    "start_time": "2023-12-29T12:53:28.051Z"
   },
   {
    "duration": 151,
    "start_time": "2023-12-29T12:53:28.158Z"
   },
   {
    "duration": 21,
    "start_time": "2023-12-29T12:53:28.311Z"
   },
   {
    "duration": 468,
    "start_time": "2023-12-29T12:53:28.333Z"
   },
   {
    "duration": 10402,
    "start_time": "2023-12-29T12:53:28.803Z"
   },
   {
    "duration": 15,
    "start_time": "2023-12-29T12:53:39.222Z"
   },
   {
    "duration": 19,
    "start_time": "2023-12-29T12:53:39.239Z"
   },
   {
    "duration": 66,
    "start_time": "2023-12-29T12:53:39.260Z"
   },
   {
    "duration": 2,
    "start_time": "2023-12-29T12:53:39.328Z"
   },
   {
    "duration": 130,
    "start_time": "2023-12-29T12:53:39.332Z"
   },
   {
    "duration": 2,
    "start_time": "2023-12-29T12:53:39.464Z"
   },
   {
    "duration": 55,
    "start_time": "2023-12-29T12:53:39.468Z"
   },
   {
    "duration": 36,
    "start_time": "2023-12-29T12:53:39.525Z"
   },
   {
    "duration": 63,
    "start_time": "2023-12-29T12:53:39.563Z"
   },
   {
    "duration": 200,
    "start_time": "2023-12-29T12:53:39.628Z"
   },
   {
    "duration": 5,
    "start_time": "2023-12-29T12:53:39.830Z"
   },
   {
    "duration": 20,
    "start_time": "2023-12-29T12:53:39.837Z"
   },
   {
    "duration": 160,
    "start_time": "2023-12-29T12:53:39.858Z"
   },
   {
    "duration": 2,
    "start_time": "2023-12-29T12:53:40.022Z"
   },
   {
    "duration": 33,
    "start_time": "2023-12-29T12:53:40.026Z"
   },
   {
    "duration": 37,
    "start_time": "2023-12-29T12:53:40.061Z"
   },
   {
    "duration": 68,
    "start_time": "2023-12-29T12:53:40.099Z"
   },
   {
    "duration": 35,
    "start_time": "2023-12-29T12:53:40.169Z"
   },
   {
    "duration": 30,
    "start_time": "2023-12-29T12:53:40.205Z"
   },
   {
    "duration": 99,
    "start_time": "2023-12-29T12:53:40.242Z"
   },
   {
    "duration": 11,
    "start_time": "2023-12-29T12:53:40.343Z"
   },
   {
    "duration": 80,
    "start_time": "2023-12-29T12:53:40.355Z"
   },
   {
    "duration": 232,
    "start_time": "2023-12-29T12:53:40.437Z"
   },
   {
    "duration": 5,
    "start_time": "2023-12-29T12:53:40.671Z"
   },
   {
    "duration": 59,
    "start_time": "2023-12-29T12:53:40.678Z"
   },
   {
    "duration": 14,
    "start_time": "2023-12-29T12:53:40.739Z"
   },
   {
    "duration": 221,
    "start_time": "2023-12-29T12:53:40.755Z"
   },
   {
    "duration": 5,
    "start_time": "2023-12-29T12:53:40.977Z"
   },
   {
    "duration": 16,
    "start_time": "2023-12-29T12:53:40.984Z"
   },
   {
    "duration": 309,
    "start_time": "2023-12-29T12:53:41.002Z"
   },
   {
    "duration": 3,
    "start_time": "2023-12-29T12:53:41.312Z"
   },
   {
    "duration": 203,
    "start_time": "2023-12-29T12:53:41.316Z"
   },
   {
    "duration": 3,
    "start_time": "2023-12-29T12:53:41.521Z"
   },
   {
    "duration": 11,
    "start_time": "2023-12-29T12:53:41.526Z"
   },
   {
    "duration": 3,
    "start_time": "2023-12-29T12:53:41.538Z"
   },
   {
    "duration": 5,
    "start_time": "2023-12-29T12:53:41.543Z"
   },
   {
    "duration": 16,
    "start_time": "2023-12-29T12:53:41.549Z"
   },
   {
    "duration": 210,
    "start_time": "2023-12-29T12:53:41.567Z"
   },
   {
    "duration": 18,
    "start_time": "2023-12-29T12:53:41.779Z"
   },
   {
    "duration": 25,
    "start_time": "2023-12-29T12:53:41.799Z"
   },
   {
    "duration": 18,
    "start_time": "2023-12-29T12:53:41.826Z"
   },
   {
    "duration": 6,
    "start_time": "2023-12-29T12:53:41.846Z"
   },
   {
    "duration": 5,
    "start_time": "2023-12-29T12:53:41.853Z"
   },
   {
    "duration": 8,
    "start_time": "2023-12-29T12:53:41.859Z"
   },
   {
    "duration": 93,
    "start_time": "2023-12-29T12:53:41.869Z"
   },
   {
    "duration": 11,
    "start_time": "2023-12-29T12:53:41.964Z"
   },
   {
    "duration": 44,
    "start_time": "2023-12-29T12:53:41.977Z"
   },
   {
    "duration": 20,
    "start_time": "2023-12-29T12:53:42.023Z"
   },
   {
    "duration": 8,
    "start_time": "2023-12-29T12:53:42.044Z"
   },
   {
    "duration": 38,
    "start_time": "2023-12-29T12:53:42.053Z"
   },
   {
    "duration": 30,
    "start_time": "2023-12-29T12:53:42.093Z"
   },
   {
    "duration": 12138,
    "start_time": "2023-12-29T12:53:42.125Z"
   },
   {
    "duration": 60,
    "start_time": "2023-12-29T12:53:54.264Z"
   },
   {
    "duration": 326,
    "start_time": "2023-12-29T12:53:54.326Z"
   },
   {
    "duration": 4,
    "start_time": "2023-12-29T12:53:54.654Z"
   },
   {
    "duration": 65,
    "start_time": "2023-12-29T12:53:54.660Z"
   },
   {
    "duration": 10,
    "start_time": "2023-12-29T12:53:54.726Z"
   },
   {
    "duration": 899,
    "start_time": "2023-12-29T12:53:54.737Z"
   },
   {
    "duration": 4,
    "start_time": "2023-12-29T12:53:55.638Z"
   },
   {
    "duration": 19,
    "start_time": "2023-12-29T12:53:55.644Z"
   },
   {
    "duration": 65,
    "start_time": "2023-12-29T12:53:55.665Z"
   },
   {
    "duration": 4,
    "start_time": "2023-12-29T12:53:55.732Z"
   },
   {
    "duration": 11,
    "start_time": "2023-12-29T12:53:55.737Z"
   },
   {
    "duration": 4,
    "start_time": "2023-12-29T12:53:55.750Z"
   },
   {
    "duration": 4,
    "start_time": "2023-12-29T12:53:55.756Z"
   },
   {
    "duration": 8,
    "start_time": "2023-12-29T12:53:55.762Z"
   },
   {
    "duration": 408,
    "start_time": "2023-12-29T12:53:55.821Z"
   },
   {
    "duration": 0,
    "start_time": "2023-12-29T12:53:56.232Z"
   },
   {
    "duration": 0,
    "start_time": "2023-12-29T12:53:56.233Z"
   },
   {
    "duration": 171,
    "start_time": "2023-12-29T13:05:03.178Z"
   },
   {
    "duration": 13,
    "start_time": "2023-12-29T13:05:05.283Z"
   },
   {
    "duration": 687,
    "start_time": "2023-12-29T13:06:16.725Z"
   },
   {
    "duration": 2540,
    "start_time": "2023-12-29T13:06:17.414Z"
   },
   {
    "duration": 516,
    "start_time": "2023-12-29T13:06:19.956Z"
   },
   {
    "duration": 2,
    "start_time": "2023-12-29T13:06:20.474Z"
   },
   {
    "duration": 114,
    "start_time": "2023-12-29T13:06:20.479Z"
   },
   {
    "duration": 20,
    "start_time": "2023-12-29T13:06:20.595Z"
   },
   {
    "duration": 22,
    "start_time": "2023-12-29T13:06:20.616Z"
   },
   {
    "duration": 962,
    "start_time": "2023-12-29T13:06:20.640Z"
   },
   {
    "duration": 27,
    "start_time": "2023-12-29T13:06:21.603Z"
   },
   {
    "duration": 6,
    "start_time": "2023-12-29T13:06:21.631Z"
   },
   {
    "duration": 17,
    "start_time": "2023-12-29T13:06:21.638Z"
   },
   {
    "duration": 4,
    "start_time": "2023-12-29T13:06:21.656Z"
   },
   {
    "duration": 18,
    "start_time": "2023-12-29T13:06:21.662Z"
   },
   {
    "duration": 19,
    "start_time": "2023-12-29T13:06:21.683Z"
   },
   {
    "duration": 43,
    "start_time": "2023-12-29T13:06:21.704Z"
   },
   {
    "duration": 4,
    "start_time": "2023-12-29T13:06:21.749Z"
   },
   {
    "duration": 10,
    "start_time": "2023-12-29T13:06:21.755Z"
   },
   {
    "duration": 39,
    "start_time": "2023-12-29T13:06:21.766Z"
   },
   {
    "duration": 7,
    "start_time": "2023-12-29T13:06:21.807Z"
   },
   {
    "duration": 14,
    "start_time": "2023-12-29T13:06:21.815Z"
   },
   {
    "duration": 23,
    "start_time": "2023-12-29T13:06:21.831Z"
   },
   {
    "duration": 17,
    "start_time": "2023-12-29T13:06:21.856Z"
   },
   {
    "duration": 109,
    "start_time": "2023-12-29T13:06:21.874Z"
   },
   {
    "duration": 4,
    "start_time": "2023-12-29T13:06:21.986Z"
   },
   {
    "duration": 34,
    "start_time": "2023-12-29T13:06:21.992Z"
   },
   {
    "duration": 4,
    "start_time": "2023-12-29T13:06:22.028Z"
   },
   {
    "duration": 166,
    "start_time": "2023-12-29T13:06:22.033Z"
   },
   {
    "duration": 3,
    "start_time": "2023-12-29T13:06:22.200Z"
   },
   {
    "duration": 31,
    "start_time": "2023-12-29T13:06:22.204Z"
   },
   {
    "duration": 162,
    "start_time": "2023-12-29T13:06:22.237Z"
   },
   {
    "duration": 29,
    "start_time": "2023-12-29T13:06:22.400Z"
   },
   {
    "duration": 167,
    "start_time": "2023-12-29T13:06:22.430Z"
   },
   {
    "duration": 4,
    "start_time": "2023-12-29T13:06:22.599Z"
   },
   {
    "duration": 167,
    "start_time": "2023-12-29T13:06:22.604Z"
   },
   {
    "duration": 16,
    "start_time": "2023-12-29T13:06:22.772Z"
   },
   {
    "duration": 33,
    "start_time": "2023-12-29T13:06:22.790Z"
   },
   {
    "duration": 62,
    "start_time": "2023-12-29T13:06:22.824Z"
   },
   {
    "duration": 167,
    "start_time": "2023-12-29T13:06:22.888Z"
   },
   {
    "duration": 19,
    "start_time": "2023-12-29T13:06:23.058Z"
   },
   {
    "duration": 46,
    "start_time": "2023-12-29T13:06:23.079Z"
   },
   {
    "duration": 21,
    "start_time": "2023-12-29T13:06:23.130Z"
   },
   {
    "duration": 72,
    "start_time": "2023-12-29T13:06:23.153Z"
   },
   {
    "duration": 2,
    "start_time": "2023-12-29T13:06:23.227Z"
   },
   {
    "duration": 411,
    "start_time": "2023-12-29T13:06:23.231Z"
   },
   {
    "duration": 16,
    "start_time": "2023-12-29T13:06:23.644Z"
   },
   {
    "duration": 18,
    "start_time": "2023-12-29T13:06:23.662Z"
   },
   {
    "duration": 68,
    "start_time": "2023-12-29T13:06:23.682Z"
   },
   {
    "duration": 30,
    "start_time": "2023-12-29T13:06:23.752Z"
   },
   {
    "duration": 11,
    "start_time": "2023-12-29T13:06:23.784Z"
   },
   {
    "duration": 35,
    "start_time": "2023-12-29T13:06:23.797Z"
   },
   {
    "duration": 136,
    "start_time": "2023-12-29T13:06:23.834Z"
   },
   {
    "duration": 5,
    "start_time": "2023-12-29T13:06:23.972Z"
   },
   {
    "duration": 27,
    "start_time": "2023-12-29T13:06:23.978Z"
   },
   {
    "duration": 31,
    "start_time": "2023-12-29T13:06:24.007Z"
   },
   {
    "duration": 95,
    "start_time": "2023-12-29T13:06:24.040Z"
   },
   {
    "duration": 16,
    "start_time": "2023-12-29T13:06:24.136Z"
   },
   {
    "duration": 67,
    "start_time": "2023-12-29T13:06:24.154Z"
   },
   {
    "duration": 55,
    "start_time": "2023-12-29T13:06:24.223Z"
   },
   {
    "duration": 122,
    "start_time": "2023-12-29T13:06:24.280Z"
   },
   {
    "duration": 25,
    "start_time": "2023-12-29T13:06:24.404Z"
   },
   {
    "duration": 489,
    "start_time": "2023-12-29T13:06:24.431Z"
   },
   {
    "duration": 10530,
    "start_time": "2023-12-29T13:06:24.922Z"
   },
   {
    "duration": 14,
    "start_time": "2023-12-29T13:06:35.454Z"
   },
   {
    "duration": 53,
    "start_time": "2023-12-29T13:06:35.470Z"
   },
   {
    "duration": 21,
    "start_time": "2023-12-29T13:06:35.525Z"
   },
   {
    "duration": 2,
    "start_time": "2023-12-29T13:06:35.548Z"
   },
   {
    "duration": 190,
    "start_time": "2023-12-29T13:06:35.551Z"
   },
   {
    "duration": 2,
    "start_time": "2023-12-29T13:06:35.743Z"
   },
   {
    "duration": 21,
    "start_time": "2023-12-29T13:06:35.746Z"
   },
   {
    "duration": 63,
    "start_time": "2023-12-29T13:06:35.769Z"
   },
   {
    "duration": 11,
    "start_time": "2023-12-29T13:06:35.834Z"
   },
   {
    "duration": 165,
    "start_time": "2023-12-29T13:06:35.847Z"
   },
   {
    "duration": 10,
    "start_time": "2023-12-29T13:06:36.013Z"
   },
   {
    "duration": 18,
    "start_time": "2023-12-29T13:06:36.025Z"
   },
   {
    "duration": 154,
    "start_time": "2023-12-29T13:06:36.045Z"
   },
   {
    "duration": 2,
    "start_time": "2023-12-29T13:06:36.201Z"
   },
   {
    "duration": 45,
    "start_time": "2023-12-29T13:06:36.204Z"
   },
   {
    "duration": 22,
    "start_time": "2023-12-29T13:06:36.251Z"
   },
   {
    "duration": 45,
    "start_time": "2023-12-29T13:06:36.274Z"
   },
   {
    "duration": 17,
    "start_time": "2023-12-29T13:06:36.321Z"
   },
   {
    "duration": 37,
    "start_time": "2023-12-29T13:06:36.339Z"
   },
   {
    "duration": 53,
    "start_time": "2023-12-29T13:06:36.378Z"
   },
   {
    "duration": 29,
    "start_time": "2023-12-29T13:06:36.433Z"
   },
   {
    "duration": 30,
    "start_time": "2023-12-29T13:06:36.464Z"
   },
   {
    "duration": 150,
    "start_time": "2023-12-29T13:06:36.495Z"
   },
   {
    "duration": 5,
    "start_time": "2023-12-29T13:06:36.647Z"
   },
   {
    "duration": 32,
    "start_time": "2023-12-29T13:06:36.653Z"
   },
   {
    "duration": 25,
    "start_time": "2023-12-29T13:06:36.687Z"
   },
   {
    "duration": 185,
    "start_time": "2023-12-29T13:06:36.714Z"
   },
   {
    "duration": 5,
    "start_time": "2023-12-29T13:06:36.900Z"
   },
   {
    "duration": 22,
    "start_time": "2023-12-29T13:06:36.906Z"
   },
   {
    "duration": 302,
    "start_time": "2023-12-29T13:06:36.930Z"
   },
   {
    "duration": 2,
    "start_time": "2023-12-29T13:06:37.234Z"
   },
   {
    "duration": 201,
    "start_time": "2023-12-29T13:06:37.238Z"
   },
   {
    "duration": 4,
    "start_time": "2023-12-29T13:06:37.441Z"
   },
   {
    "duration": 23,
    "start_time": "2023-12-29T13:06:37.446Z"
   },
   {
    "duration": 21,
    "start_time": "2023-12-29T13:06:37.470Z"
   },
   {
    "duration": 8,
    "start_time": "2023-12-29T13:06:37.492Z"
   },
   {
    "duration": 26,
    "start_time": "2023-12-29T13:06:37.502Z"
   },
   {
    "duration": 196,
    "start_time": "2023-12-29T13:06:37.530Z"
   },
   {
    "duration": 17,
    "start_time": "2023-12-29T13:06:37.727Z"
   },
   {
    "duration": 8,
    "start_time": "2023-12-29T13:06:37.746Z"
   },
   {
    "duration": 13,
    "start_time": "2023-12-29T13:06:37.755Z"
   },
   {
    "duration": 17,
    "start_time": "2023-12-29T13:06:37.770Z"
   },
   {
    "duration": 5,
    "start_time": "2023-12-29T13:06:37.788Z"
   },
   {
    "duration": 28,
    "start_time": "2023-12-29T13:06:37.795Z"
   },
   {
    "duration": 64,
    "start_time": "2023-12-29T13:06:37.825Z"
   },
   {
    "duration": 10,
    "start_time": "2023-12-29T13:06:37.891Z"
   },
   {
    "duration": 23,
    "start_time": "2023-12-29T13:06:37.903Z"
   },
   {
    "duration": 16,
    "start_time": "2023-12-29T13:06:37.928Z"
   },
   {
    "duration": 9,
    "start_time": "2023-12-29T13:06:37.945Z"
   },
   {
    "duration": 15,
    "start_time": "2023-12-29T13:06:37.956Z"
   },
   {
    "duration": 33,
    "start_time": "2023-12-29T13:06:37.972Z"
   },
   {
    "duration": 8835,
    "start_time": "2023-12-29T13:06:38.007Z"
   },
   {
    "duration": 4,
    "start_time": "2023-12-29T13:06:46.843Z"
   },
   {
    "duration": 180,
    "start_time": "2023-12-29T13:06:46.849Z"
   },
   {
    "duration": 4,
    "start_time": "2023-12-29T13:06:47.031Z"
   },
   {
    "duration": 18,
    "start_time": "2023-12-29T13:06:47.036Z"
   },
   {
    "duration": 11,
    "start_time": "2023-12-29T13:06:47.056Z"
   },
   {
    "duration": 425,
    "start_time": "2023-12-29T13:06:47.069Z"
   },
   {
    "duration": 5,
    "start_time": "2023-12-29T13:06:47.495Z"
   },
   {
    "duration": 5,
    "start_time": "2023-12-29T13:06:47.521Z"
   },
   {
    "duration": 15,
    "start_time": "2023-12-29T13:06:47.527Z"
   },
   {
    "duration": 11,
    "start_time": "2023-12-29T13:06:47.543Z"
   },
   {
    "duration": 4,
    "start_time": "2023-12-29T13:06:47.556Z"
   },
   {
    "duration": 6,
    "start_time": "2023-12-29T13:06:47.561Z"
   },
   {
    "duration": 6,
    "start_time": "2023-12-29T13:06:47.568Z"
   },
   {
    "duration": 6,
    "start_time": "2023-12-29T13:06:47.575Z"
   },
   {
    "duration": 216,
    "start_time": "2023-12-29T13:06:47.583Z"
   },
   {
    "duration": 0,
    "start_time": "2023-12-29T13:06:47.801Z"
   },
   {
    "duration": 0,
    "start_time": "2023-12-29T13:06:47.802Z"
   },
   {
    "duration": 0,
    "start_time": "2023-12-29T13:06:47.803Z"
   },
   {
    "duration": 0,
    "start_time": "2023-12-29T13:06:47.805Z"
   },
   {
    "duration": 162,
    "start_time": "2023-12-29T13:07:16.030Z"
   },
   {
    "duration": 13,
    "start_time": "2023-12-29T13:07:16.250Z"
   },
   {
    "duration": 51,
    "start_time": "2023-12-29T13:24:13.685Z"
   },
   {
    "duration": 689,
    "start_time": "2023-12-29T13:24:23.102Z"
   },
   {
    "duration": 2667,
    "start_time": "2023-12-29T13:24:23.793Z"
   },
   {
    "duration": 538,
    "start_time": "2023-12-29T13:24:26.462Z"
   },
   {
    "duration": 3,
    "start_time": "2023-12-29T13:24:27.002Z"
   },
   {
    "duration": 126,
    "start_time": "2023-12-29T13:24:27.008Z"
   },
   {
    "duration": 21,
    "start_time": "2023-12-29T13:24:27.136Z"
   },
   {
    "duration": 17,
    "start_time": "2023-12-29T13:24:27.159Z"
   },
   {
    "duration": 1026,
    "start_time": "2023-12-29T13:24:27.179Z"
   },
   {
    "duration": 30,
    "start_time": "2023-12-29T13:24:28.207Z"
   },
   {
    "duration": 7,
    "start_time": "2023-12-29T13:24:28.240Z"
   },
   {
    "duration": 17,
    "start_time": "2023-12-29T13:24:28.249Z"
   },
   {
    "duration": 34,
    "start_time": "2023-12-29T13:24:28.268Z"
   },
   {
    "duration": 41,
    "start_time": "2023-12-29T13:24:28.304Z"
   },
   {
    "duration": 25,
    "start_time": "2023-12-29T13:24:28.347Z"
   },
   {
    "duration": 56,
    "start_time": "2023-12-29T13:24:28.374Z"
   },
   {
    "duration": 8,
    "start_time": "2023-12-29T13:24:28.432Z"
   },
   {
    "duration": 24,
    "start_time": "2023-12-29T13:24:28.441Z"
   },
   {
    "duration": 42,
    "start_time": "2023-12-29T13:24:28.467Z"
   },
   {
    "duration": 11,
    "start_time": "2023-12-29T13:24:28.511Z"
   },
   {
    "duration": 25,
    "start_time": "2023-12-29T13:24:28.524Z"
   },
   {
    "duration": 34,
    "start_time": "2023-12-29T13:24:28.551Z"
   },
   {
    "duration": 31,
    "start_time": "2023-12-29T13:24:28.587Z"
   },
   {
    "duration": 130,
    "start_time": "2023-12-29T13:24:28.620Z"
   },
   {
    "duration": 5,
    "start_time": "2023-12-29T13:24:28.752Z"
   },
   {
    "duration": 38,
    "start_time": "2023-12-29T13:24:28.759Z"
   },
   {
    "duration": 15,
    "start_time": "2023-12-29T13:24:28.800Z"
   },
   {
    "duration": 191,
    "start_time": "2023-12-29T13:24:28.818Z"
   },
   {
    "duration": 3,
    "start_time": "2023-12-29T13:24:29.013Z"
   },
   {
    "duration": 23,
    "start_time": "2023-12-29T13:24:29.017Z"
   },
   {
    "duration": 176,
    "start_time": "2023-12-29T13:24:29.042Z"
   },
   {
    "duration": 33,
    "start_time": "2023-12-29T13:24:29.220Z"
   },
   {
    "duration": 195,
    "start_time": "2023-12-29T13:24:29.256Z"
   },
   {
    "duration": 5,
    "start_time": "2023-12-29T13:24:29.453Z"
   },
   {
    "duration": 211,
    "start_time": "2023-12-29T13:24:29.460Z"
   },
   {
    "duration": 21,
    "start_time": "2023-12-29T13:24:29.673Z"
   },
   {
    "duration": 106,
    "start_time": "2023-12-29T13:24:29.697Z"
   },
   {
    "duration": 13,
    "start_time": "2023-12-29T13:24:29.805Z"
   },
   {
    "duration": 149,
    "start_time": "2023-12-29T13:24:29.819Z"
   },
   {
    "duration": 62,
    "start_time": "2023-12-29T13:24:29.970Z"
   },
   {
    "duration": 8,
    "start_time": "2023-12-29T13:24:30.034Z"
   },
   {
    "duration": 89,
    "start_time": "2023-12-29T13:24:30.044Z"
   },
   {
    "duration": 60,
    "start_time": "2023-12-29T13:24:30.135Z"
   },
   {
    "duration": 3,
    "start_time": "2023-12-29T13:24:30.231Z"
   },
   {
    "duration": 542,
    "start_time": "2023-12-29T13:24:30.236Z"
   },
   {
    "duration": 20,
    "start_time": "2023-12-29T13:24:30.780Z"
   },
   {
    "duration": 30,
    "start_time": "2023-12-29T13:24:30.802Z"
   },
   {
    "duration": 135,
    "start_time": "2023-12-29T13:24:30.834Z"
   },
   {
    "duration": 126,
    "start_time": "2023-12-29T13:24:30.972Z"
   },
   {
    "duration": 74,
    "start_time": "2023-12-29T13:24:31.101Z"
   },
   {
    "duration": 91,
    "start_time": "2023-12-29T13:24:31.177Z"
   },
   {
    "duration": 168,
    "start_time": "2023-12-29T13:24:31.269Z"
   },
   {
    "duration": 6,
    "start_time": "2023-12-29T13:24:31.439Z"
   },
   {
    "duration": 69,
    "start_time": "2023-12-29T13:24:31.447Z"
   },
   {
    "duration": 68,
    "start_time": "2023-12-29T13:24:31.518Z"
   },
   {
    "duration": 139,
    "start_time": "2023-12-29T13:24:31.588Z"
   },
   {
    "duration": 101,
    "start_time": "2023-12-29T13:24:31.731Z"
   },
   {
    "duration": 208,
    "start_time": "2023-12-29T13:24:31.833Z"
   },
   {
    "duration": 147,
    "start_time": "2023-12-29T13:24:32.043Z"
   },
   {
    "duration": 317,
    "start_time": "2023-12-29T13:24:32.192Z"
   },
   {
    "duration": 29,
    "start_time": "2023-12-29T13:24:32.511Z"
   },
   {
    "duration": 541,
    "start_time": "2023-12-29T13:24:32.542Z"
   },
   {
    "duration": 10814,
    "start_time": "2023-12-29T13:24:33.085Z"
   },
   {
    "duration": 37,
    "start_time": "2023-12-29T13:24:43.901Z"
   },
   {
    "duration": 9,
    "start_time": "2023-12-29T13:24:43.940Z"
   },
   {
    "duration": 89,
    "start_time": "2023-12-29T13:24:43.950Z"
   },
   {
    "duration": 3,
    "start_time": "2023-12-29T13:24:44.041Z"
   },
   {
    "duration": 198,
    "start_time": "2023-12-29T13:24:44.045Z"
   },
   {
    "duration": 2,
    "start_time": "2023-12-29T13:24:44.245Z"
   },
   {
    "duration": 30,
    "start_time": "2023-12-29T13:24:44.249Z"
   },
   {
    "duration": 86,
    "start_time": "2023-12-29T13:24:44.281Z"
   },
   {
    "duration": 13,
    "start_time": "2023-12-29T13:24:44.369Z"
   },
   {
    "duration": 201,
    "start_time": "2023-12-29T13:24:44.383Z"
   },
   {
    "duration": 6,
    "start_time": "2023-12-29T13:24:44.585Z"
   },
   {
    "duration": 43,
    "start_time": "2023-12-29T13:24:44.593Z"
   },
   {
    "duration": 155,
    "start_time": "2023-12-29T13:24:44.638Z"
   },
   {
    "duration": 3,
    "start_time": "2023-12-29T13:24:44.796Z"
   },
   {
    "duration": 56,
    "start_time": "2023-12-29T13:24:44.801Z"
   },
   {
    "duration": 12,
    "start_time": "2023-12-29T13:24:44.859Z"
   },
   {
    "duration": 21,
    "start_time": "2023-12-29T13:24:44.873Z"
   },
   {
    "duration": 37,
    "start_time": "2023-12-29T13:24:44.896Z"
   },
   {
    "duration": 20,
    "start_time": "2023-12-29T13:24:44.935Z"
   },
   {
    "duration": 103,
    "start_time": "2023-12-29T13:24:44.965Z"
   },
   {
    "duration": 11,
    "start_time": "2023-12-29T13:24:45.070Z"
   },
   {
    "duration": 40,
    "start_time": "2023-12-29T13:24:45.083Z"
   },
   {
    "duration": 159,
    "start_time": "2023-12-29T13:24:45.134Z"
   },
   {
    "duration": 6,
    "start_time": "2023-12-29T13:24:45.295Z"
   },
   {
    "duration": 40,
    "start_time": "2023-12-29T13:24:45.303Z"
   },
   {
    "duration": 6,
    "start_time": "2023-12-29T13:24:45.345Z"
   },
   {
    "duration": 197,
    "start_time": "2023-12-29T13:24:45.353Z"
   },
   {
    "duration": 7,
    "start_time": "2023-12-29T13:24:45.553Z"
   },
   {
    "duration": 9,
    "start_time": "2023-12-29T13:24:45.564Z"
   },
   {
    "duration": 287,
    "start_time": "2023-12-29T13:24:45.575Z"
   },
   {
    "duration": 4,
    "start_time": "2023-12-29T13:24:45.864Z"
   },
   {
    "duration": 182,
    "start_time": "2023-12-29T13:24:45.870Z"
   },
   {
    "duration": 4,
    "start_time": "2023-12-29T13:24:46.054Z"
   },
   {
    "duration": 13,
    "start_time": "2023-12-29T13:24:46.060Z"
   },
   {
    "duration": 13,
    "start_time": "2023-12-29T13:24:46.075Z"
   },
   {
    "duration": 25,
    "start_time": "2023-12-29T13:24:46.090Z"
   },
   {
    "duration": 27,
    "start_time": "2023-12-29T13:24:46.116Z"
   },
   {
    "duration": 202,
    "start_time": "2023-12-29T13:24:46.145Z"
   },
   {
    "duration": 22,
    "start_time": "2023-12-29T13:24:46.349Z"
   },
   {
    "duration": 10,
    "start_time": "2023-12-29T13:24:46.373Z"
   },
   {
    "duration": 21,
    "start_time": "2023-12-29T13:24:46.385Z"
   },
   {
    "duration": 5,
    "start_time": "2023-12-29T13:24:46.431Z"
   },
   {
    "duration": 23,
    "start_time": "2023-12-29T13:24:46.438Z"
   },
   {
    "duration": 15,
    "start_time": "2023-12-29T13:24:46.463Z"
   },
   {
    "duration": 66,
    "start_time": "2023-12-29T13:24:46.480Z"
   },
   {
    "duration": 13,
    "start_time": "2023-12-29T13:24:46.548Z"
   },
   {
    "duration": 15,
    "start_time": "2023-12-29T13:24:46.564Z"
   },
   {
    "duration": 14,
    "start_time": "2023-12-29T13:24:46.581Z"
   },
   {
    "duration": 34,
    "start_time": "2023-12-29T13:24:46.597Z"
   },
   {
    "duration": 18,
    "start_time": "2023-12-29T13:24:46.633Z"
   },
   {
    "duration": 10,
    "start_time": "2023-12-29T13:24:46.653Z"
   },
   {
    "duration": 9527,
    "start_time": "2023-12-29T13:24:46.664Z"
   },
   {
    "duration": 5,
    "start_time": "2023-12-29T13:24:56.193Z"
   },
   {
    "duration": 209,
    "start_time": "2023-12-29T13:24:56.200Z"
   },
   {
    "duration": 6,
    "start_time": "2023-12-29T13:24:56.410Z"
   },
   {
    "duration": 68,
    "start_time": "2023-12-29T13:24:56.418Z"
   },
   {
    "duration": 20,
    "start_time": "2023-12-29T13:24:56.489Z"
   },
   {
    "duration": 502,
    "start_time": "2023-12-29T13:24:56.511Z"
   },
   {
    "duration": 15,
    "start_time": "2023-12-29T13:24:57.015Z"
   },
   {
    "duration": 5,
    "start_time": "2023-12-29T13:24:57.033Z"
   },
   {
    "duration": 23,
    "start_time": "2023-12-29T13:24:57.040Z"
   },
   {
    "duration": 15,
    "start_time": "2023-12-29T13:24:57.065Z"
   },
   {
    "duration": 6,
    "start_time": "2023-12-29T13:24:57.082Z"
   },
   {
    "duration": 52,
    "start_time": "2023-12-29T13:24:57.090Z"
   },
   {
    "duration": 31,
    "start_time": "2023-12-29T13:24:57.144Z"
   },
   {
    "duration": 11,
    "start_time": "2023-12-29T13:24:57.177Z"
   },
   {
    "duration": 229,
    "start_time": "2023-12-29T13:24:57.190Z"
   },
   {
    "duration": 0,
    "start_time": "2023-12-29T13:24:57.421Z"
   },
   {
    "duration": 0,
    "start_time": "2023-12-29T13:24:57.422Z"
   },
   {
    "duration": 0,
    "start_time": "2023-12-29T13:24:57.431Z"
   },
   {
    "duration": 0,
    "start_time": "2023-12-29T13:24:57.432Z"
   }
  ],
  "kernelspec": {
   "display_name": "Python 3 (ipykernel)",
   "language": "python",
   "name": "python3"
  },
  "language_info": {
   "codemirror_mode": {
    "name": "ipython",
    "version": 3
   },
   "file_extension": ".py",
   "mimetype": "text/x-python",
   "name": "python",
   "nbconvert_exporter": "python",
   "pygments_lexer": "ipython3",
   "version": "3.11.5"
  },
  "toc": {
   "base_numbering": 1,
   "nav_menu": {},
   "number_sections": true,
   "sideBar": true,
   "skip_h1_title": true,
   "title_cell": "Table of Contents",
   "title_sidebar": "Contents",
   "toc_cell": false,
   "toc_position": {},
   "toc_section_display": true,
   "toc_window_display": true
  }
 },
 "nbformat": 4,
 "nbformat_minor": 5
}
