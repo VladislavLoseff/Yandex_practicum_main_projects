{
 "cells": [
  {
   "cell_type": "markdown",
   "id": "ca379073",
   "metadata": {},
   "source": [
    "# Анализ категорий пользователей"
   ]
  },
  {
   "cell_type": "code",
   "execution_count": 1,
   "id": "fc7efa54",
   "metadata": {},
   "outputs": [],
   "source": [
    "import os\n",
    "import pandas as pd\n",
    "import numpy as np\n",
    "\n",
    "from sqlalchemy import create_engine"
   ]
  },
  {
   "cell_type": "code",
   "execution_count": 2,
   "id": "0017f8e7",
   "metadata": {},
   "outputs": [],
   "source": [
    "#path_to_db_local = 'telecomm_csi.db'\n",
    "path_to_db_local = r'C:\\Users\\Владислав\\Documents\\dat_an\\telecomm_csi.db'\n",
    "path_to_db_platform = '/datasets/telecomm_csi.db'\n",
    "path_to_db = None\n",
    "\n",
    "if os.path.exists(path_to_db_local):\n",
    "    path_to_db = path_to_db_local\n",
    "elif os.path.exists(path_to_db_platform):\n",
    "    path_to_db = path_to_db_platform\n",
    "else:\n",
    "    raise Exception('Файл с базой данных SQLite не найден!')\n",
    "\n",
    "if path_to_db:\n",
    "    engine = create_engine(f'sqlite:///{path_to_db}', echo=False)"
   ]
  },
  {
   "cell_type": "code",
   "execution_count": 3,
   "id": "84ebad43",
   "metadata": {},
   "outputs": [],
   "source": [
    "query = \"\"\"\n",
    "SELECT \n",
    "u.user_id,\n",
    "u.lt_day,\n",
    "u.age,\n",
    "u.gender_segment,\n",
    "u.os_name,\n",
    "u.cpe_type_name,\n",
    "u.nps_score,\n",
    "lc.country,\n",
    "lc.city,\n",
    "substr(ags.title,3) AS agesegment,\n",
    "substr(ts.title,3) AS trafficsegment,\n",
    "substr(ls.title,3) AS lifetimesegment,\n",
    "CASE\n",
    "    WHEN u.lt_day<=365 THEN \"новый\"\n",
    "    ELSE \"старый\"\n",
    "END AS is_new,\n",
    "CASE\n",
    "    WHEN u.nps_score IN (9,10) THEN \"сторонники\"\n",
    "    WHEN u.nps_score IN (7,8) THEN \"нейтралы\"\n",
    "    ELSE \"критики\"\n",
    "END AS nps_group,\n",
    "CASE\n",
    "    WHEN u.gender_segment=1 THEN \"жен\"\n",
    "    WHEN u.gender_segment=0 THEN \"муж\"\n",
    "    ELSE \"не определен\"\n",
    "END AS gender\n",
    "FROM user AS u\n",
    "LEFT JOIN location AS lc ON u.location_id=lc.location_id\n",
    "LEFT JOIN age_segment AS ags ON u.age_gr_id=ags.age_gr_id \n",
    "LEFT JOIN traffic_segment AS ts ON u.tr_gr_id=ts.tr_gr_id\n",
    "LEFT JOIN lifetime_segment AS ls ON u.lt_gr_id=ls.lt_gr_id\n",
    "\"\"\""
   ]
  },
  {
   "cell_type": "code",
   "execution_count": 4,
   "id": "3965faf2",
   "metadata": {},
   "outputs": [
    {
     "data": {
      "text/html": [
       "<div>\n",
       "<style scoped>\n",
       "    .dataframe tbody tr th:only-of-type {\n",
       "        vertical-align: middle;\n",
       "    }\n",
       "\n",
       "    .dataframe tbody tr th {\n",
       "        vertical-align: top;\n",
       "    }\n",
       "\n",
       "    .dataframe thead th {\n",
       "        text-align: right;\n",
       "    }\n",
       "</style>\n",
       "<table border=\"1\" class=\"dataframe\">\n",
       "  <thead>\n",
       "    <tr style=\"text-align: right;\">\n",
       "      <th></th>\n",
       "      <th>user_id</th>\n",
       "      <th>lt_day</th>\n",
       "      <th>age</th>\n",
       "      <th>gender_segment</th>\n",
       "      <th>os_name</th>\n",
       "      <th>cpe_type_name</th>\n",
       "      <th>nps_score</th>\n",
       "      <th>country</th>\n",
       "      <th>city</th>\n",
       "      <th>agesegment</th>\n",
       "      <th>trafficsegment</th>\n",
       "      <th>lifetimesegment</th>\n",
       "      <th>is_new</th>\n",
       "      <th>nps_group</th>\n",
       "      <th>gender</th>\n",
       "    </tr>\n",
       "  </thead>\n",
       "  <tbody>\n",
       "    <tr>\n",
       "      <th>0</th>\n",
       "      <td>A001A2</td>\n",
       "      <td>2320</td>\n",
       "      <td>45.0</td>\n",
       "      <td>1.0</td>\n",
       "      <td>ANDROID</td>\n",
       "      <td>SMARTPHONE</td>\n",
       "      <td>10</td>\n",
       "      <td>Россия</td>\n",
       "      <td>Уфа</td>\n",
       "      <td>45-54</td>\n",
       "      <td>1-5</td>\n",
       "      <td>36+</td>\n",
       "      <td>старый</td>\n",
       "      <td>сторонники</td>\n",
       "      <td>жен</td>\n",
       "    </tr>\n",
       "    <tr>\n",
       "      <th>1</th>\n",
       "      <td>A001WF</td>\n",
       "      <td>2344</td>\n",
       "      <td>53.0</td>\n",
       "      <td>0.0</td>\n",
       "      <td>ANDROID</td>\n",
       "      <td>SMARTPHONE</td>\n",
       "      <td>10</td>\n",
       "      <td>Россия</td>\n",
       "      <td>Киров</td>\n",
       "      <td>45-54</td>\n",
       "      <td>1-5</td>\n",
       "      <td>36+</td>\n",
       "      <td>старый</td>\n",
       "      <td>сторонники</td>\n",
       "      <td>муж</td>\n",
       "    </tr>\n",
       "    <tr>\n",
       "      <th>2</th>\n",
       "      <td>A003Q7</td>\n",
       "      <td>467</td>\n",
       "      <td>57.0</td>\n",
       "      <td>0.0</td>\n",
       "      <td>ANDROID</td>\n",
       "      <td>SMARTPHONE</td>\n",
       "      <td>10</td>\n",
       "      <td>Россия</td>\n",
       "      <td>Москва</td>\n",
       "      <td>55-64</td>\n",
       "      <td>20-25</td>\n",
       "      <td>13-24</td>\n",
       "      <td>старый</td>\n",
       "      <td>сторонники</td>\n",
       "      <td>муж</td>\n",
       "    </tr>\n",
       "    <tr>\n",
       "      <th>3</th>\n",
       "      <td>A004TB</td>\n",
       "      <td>4190</td>\n",
       "      <td>44.0</td>\n",
       "      <td>1.0</td>\n",
       "      <td>IOS</td>\n",
       "      <td>SMARTPHONE</td>\n",
       "      <td>10</td>\n",
       "      <td>Россия</td>\n",
       "      <td>РостовнаДону</td>\n",
       "      <td>35-44</td>\n",
       "      <td>0.1-1</td>\n",
       "      <td>36+</td>\n",
       "      <td>старый</td>\n",
       "      <td>сторонники</td>\n",
       "      <td>жен</td>\n",
       "    </tr>\n",
       "    <tr>\n",
       "      <th>4</th>\n",
       "      <td>A004XT</td>\n",
       "      <td>1163</td>\n",
       "      <td>24.0</td>\n",
       "      <td>0.0</td>\n",
       "      <td>ANDROID</td>\n",
       "      <td>SMARTPHONE</td>\n",
       "      <td>10</td>\n",
       "      <td>Россия</td>\n",
       "      <td>Рязань</td>\n",
       "      <td>16-24</td>\n",
       "      <td>5-10</td>\n",
       "      <td>36+</td>\n",
       "      <td>старый</td>\n",
       "      <td>сторонники</td>\n",
       "      <td>муж</td>\n",
       "    </tr>\n",
       "    <tr>\n",
       "      <th>5</th>\n",
       "      <td>A005O0</td>\n",
       "      <td>5501</td>\n",
       "      <td>42.0</td>\n",
       "      <td>1.0</td>\n",
       "      <td>ANDROID</td>\n",
       "      <td>SMARTPHONE</td>\n",
       "      <td>6</td>\n",
       "      <td>Россия</td>\n",
       "      <td>Омск</td>\n",
       "      <td>35-44</td>\n",
       "      <td>5-10</td>\n",
       "      <td>36+</td>\n",
       "      <td>старый</td>\n",
       "      <td>критики</td>\n",
       "      <td>жен</td>\n",
       "    </tr>\n",
       "    <tr>\n",
       "      <th>6</th>\n",
       "      <td>A0061R</td>\n",
       "      <td>1236</td>\n",
       "      <td>45.0</td>\n",
       "      <td>0.0</td>\n",
       "      <td>ANDROID</td>\n",
       "      <td>SMARTPHONE</td>\n",
       "      <td>10</td>\n",
       "      <td>Россия</td>\n",
       "      <td>Уфа</td>\n",
       "      <td>45-54</td>\n",
       "      <td>10-15</td>\n",
       "      <td>36+</td>\n",
       "      <td>старый</td>\n",
       "      <td>сторонники</td>\n",
       "      <td>муж</td>\n",
       "    </tr>\n",
       "    <tr>\n",
       "      <th>7</th>\n",
       "      <td>A009KS</td>\n",
       "      <td>313</td>\n",
       "      <td>35.0</td>\n",
       "      <td>0.0</td>\n",
       "      <td>ANDROID</td>\n",
       "      <td>SMARTPHONE</td>\n",
       "      <td>10</td>\n",
       "      <td>Россия</td>\n",
       "      <td>Москва</td>\n",
       "      <td>35-44</td>\n",
       "      <td>45-50</td>\n",
       "      <td>7-12</td>\n",
       "      <td>новый</td>\n",
       "      <td>сторонники</td>\n",
       "      <td>муж</td>\n",
       "    </tr>\n",
       "    <tr>\n",
       "      <th>8</th>\n",
       "      <td>A00AES</td>\n",
       "      <td>3238</td>\n",
       "      <td>36.0</td>\n",
       "      <td>1.0</td>\n",
       "      <td>ANDROID</td>\n",
       "      <td>SMARTPHONE</td>\n",
       "      <td>10</td>\n",
       "      <td>Россия</td>\n",
       "      <td>СанктПетербург</td>\n",
       "      <td>35-44</td>\n",
       "      <td>1-5</td>\n",
       "      <td>36+</td>\n",
       "      <td>старый</td>\n",
       "      <td>сторонники</td>\n",
       "      <td>жен</td>\n",
       "    </tr>\n",
       "    <tr>\n",
       "      <th>9</th>\n",
       "      <td>A00F70</td>\n",
       "      <td>4479</td>\n",
       "      <td>54.0</td>\n",
       "      <td>1.0</td>\n",
       "      <td>ANDROID</td>\n",
       "      <td>SMARTPHONE</td>\n",
       "      <td>9</td>\n",
       "      <td>Россия</td>\n",
       "      <td>Волгоград</td>\n",
       "      <td>45-54</td>\n",
       "      <td>15-20</td>\n",
       "      <td>36+</td>\n",
       "      <td>старый</td>\n",
       "      <td>сторонники</td>\n",
       "      <td>жен</td>\n",
       "    </tr>\n",
       "  </tbody>\n",
       "</table>\n",
       "</div>"
      ],
      "text/plain": [
       "  user_id  lt_day   age  gender_segment  os_name cpe_type_name  nps_score  \\\n",
       "0  A001A2    2320  45.0             1.0  ANDROID    SMARTPHONE         10   \n",
       "1  A001WF    2344  53.0             0.0  ANDROID    SMARTPHONE         10   \n",
       "2  A003Q7     467  57.0             0.0  ANDROID    SMARTPHONE         10   \n",
       "3  A004TB    4190  44.0             1.0      IOS    SMARTPHONE         10   \n",
       "4  A004XT    1163  24.0             0.0  ANDROID    SMARTPHONE         10   \n",
       "5  A005O0    5501  42.0             1.0  ANDROID    SMARTPHONE          6   \n",
       "6  A0061R    1236  45.0             0.0  ANDROID    SMARTPHONE         10   \n",
       "7  A009KS     313  35.0             0.0  ANDROID    SMARTPHONE         10   \n",
       "8  A00AES    3238  36.0             1.0  ANDROID    SMARTPHONE         10   \n",
       "9  A00F70    4479  54.0             1.0  ANDROID    SMARTPHONE          9   \n",
       "\n",
       "  country            city agesegment trafficsegment lifetimesegment  is_new  \\\n",
       "0  Россия             Уфа      45-54            1-5             36+  старый   \n",
       "1  Россия           Киров      45-54            1-5             36+  старый   \n",
       "2  Россия          Москва      55-64          20-25           13-24  старый   \n",
       "3  Россия    РостовнаДону      35-44          0.1-1             36+  старый   \n",
       "4  Россия          Рязань      16-24           5-10             36+  старый   \n",
       "5  Россия            Омск      35-44           5-10             36+  старый   \n",
       "6  Россия             Уфа      45-54          10-15             36+  старый   \n",
       "7  Россия          Москва      35-44          45-50            7-12   новый   \n",
       "8  Россия  СанктПетербург      35-44            1-5             36+  старый   \n",
       "9  Россия       Волгоград      45-54          15-20             36+  старый   \n",
       "\n",
       "    nps_group gender  \n",
       "0  сторонники    жен  \n",
       "1  сторонники    муж  \n",
       "2  сторонники    муж  \n",
       "3  сторонники    жен  \n",
       "4  сторонники    муж  \n",
       "5     критики    жен  \n",
       "6  сторонники    муж  \n",
       "7  сторонники    муж  \n",
       "8  сторонники    жен  \n",
       "9  сторонники    жен  "
      ]
     },
     "execution_count": 4,
     "metadata": {},
     "output_type": "execute_result"
    }
   ],
   "source": [
    "df = pd.read_sql(query, engine)\n",
    "df.head(10)"
   ]
  },
  {
   "cell_type": "code",
   "execution_count": 9,
   "id": "21b64f09",
   "metadata": {},
   "outputs": [
    {
     "data": {
      "text/html": [
       "<div>\n",
       "<style scoped>\n",
       "    .dataframe tbody tr th:only-of-type {\n",
       "        vertical-align: middle;\n",
       "    }\n",
       "\n",
       "    .dataframe tbody tr th {\n",
       "        vertical-align: top;\n",
       "    }\n",
       "\n",
       "    .dataframe thead th {\n",
       "        text-align: right;\n",
       "    }\n",
       "</style>\n",
       "<table border=\"1\" class=\"dataframe\">\n",
       "  <thead>\n",
       "    <tr style=\"text-align: right;\">\n",
       "      <th></th>\n",
       "      <th>user_id</th>\n",
       "      <th>lt_day</th>\n",
       "      <th>age</th>\n",
       "      <th>gender_segment</th>\n",
       "      <th>os_name</th>\n",
       "      <th>cpe_type_name</th>\n",
       "      <th>nps_score</th>\n",
       "      <th>country</th>\n",
       "      <th>city</th>\n",
       "      <th>agesegment</th>\n",
       "      <th>trafficsegment</th>\n",
       "      <th>lifetimesegment</th>\n",
       "      <th>is_new</th>\n",
       "      <th>nps_group</th>\n",
       "      <th>gender</th>\n",
       "    </tr>\n",
       "  </thead>\n",
       "  <tbody>\n",
       "    <tr>\n",
       "      <th>0</th>\n",
       "      <td>A001A2</td>\n",
       "      <td>2320</td>\n",
       "      <td>45.0</td>\n",
       "      <td>1.0</td>\n",
       "      <td>ANDROID</td>\n",
       "      <td>SMARTPHONE</td>\n",
       "      <td>10</td>\n",
       "      <td>Россия</td>\n",
       "      <td>Уфа</td>\n",
       "      <td>45-54</td>\n",
       "      <td>1-5</td>\n",
       "      <td>36+</td>\n",
       "      <td>старый</td>\n",
       "      <td>сторонники</td>\n",
       "      <td>жен</td>\n",
       "    </tr>\n",
       "    <tr>\n",
       "      <th>1</th>\n",
       "      <td>A001WF</td>\n",
       "      <td>2344</td>\n",
       "      <td>53.0</td>\n",
       "      <td>0.0</td>\n",
       "      <td>ANDROID</td>\n",
       "      <td>SMARTPHONE</td>\n",
       "      <td>10</td>\n",
       "      <td>Россия</td>\n",
       "      <td>Киров</td>\n",
       "      <td>45-54</td>\n",
       "      <td>1-5</td>\n",
       "      <td>36+</td>\n",
       "      <td>старый</td>\n",
       "      <td>сторонники</td>\n",
       "      <td>муж</td>\n",
       "    </tr>\n",
       "    <tr>\n",
       "      <th>2</th>\n",
       "      <td>A003Q7</td>\n",
       "      <td>467</td>\n",
       "      <td>57.0</td>\n",
       "      <td>0.0</td>\n",
       "      <td>ANDROID</td>\n",
       "      <td>SMARTPHONE</td>\n",
       "      <td>10</td>\n",
       "      <td>Россия</td>\n",
       "      <td>Москва</td>\n",
       "      <td>55-64</td>\n",
       "      <td>20-25</td>\n",
       "      <td>13-24</td>\n",
       "      <td>старый</td>\n",
       "      <td>сторонники</td>\n",
       "      <td>муж</td>\n",
       "    </tr>\n",
       "    <tr>\n",
       "      <th>3</th>\n",
       "      <td>A004TB</td>\n",
       "      <td>4190</td>\n",
       "      <td>44.0</td>\n",
       "      <td>1.0</td>\n",
       "      <td>IOS</td>\n",
       "      <td>SMARTPHONE</td>\n",
       "      <td>10</td>\n",
       "      <td>Россия</td>\n",
       "      <td>РостовнаДону</td>\n",
       "      <td>35-44</td>\n",
       "      <td>0.1-1</td>\n",
       "      <td>36+</td>\n",
       "      <td>старый</td>\n",
       "      <td>сторонники</td>\n",
       "      <td>жен</td>\n",
       "    </tr>\n",
       "    <tr>\n",
       "      <th>4</th>\n",
       "      <td>A004XT</td>\n",
       "      <td>1163</td>\n",
       "      <td>24.0</td>\n",
       "      <td>0.0</td>\n",
       "      <td>ANDROID</td>\n",
       "      <td>SMARTPHONE</td>\n",
       "      <td>10</td>\n",
       "      <td>Россия</td>\n",
       "      <td>Рязань</td>\n",
       "      <td>16-24</td>\n",
       "      <td>5-10</td>\n",
       "      <td>36+</td>\n",
       "      <td>старый</td>\n",
       "      <td>сторонники</td>\n",
       "      <td>муж</td>\n",
       "    </tr>\n",
       "  </tbody>\n",
       "</table>\n",
       "</div>"
      ],
      "text/plain": [
       "  user_id  lt_day   age  gender_segment  os_name cpe_type_name  nps_score  \\\n",
       "0  A001A2    2320  45.0             1.0  ANDROID    SMARTPHONE         10   \n",
       "1  A001WF    2344  53.0             0.0  ANDROID    SMARTPHONE         10   \n",
       "2  A003Q7     467  57.0             0.0  ANDROID    SMARTPHONE         10   \n",
       "3  A004TB    4190  44.0             1.0      IOS    SMARTPHONE         10   \n",
       "4  A004XT    1163  24.0             0.0  ANDROID    SMARTPHONE         10   \n",
       "\n",
       "  country          city agesegment trafficsegment lifetimesegment  is_new  \\\n",
       "0  Россия           Уфа      45-54            1-5             36+  старый   \n",
       "1  Россия         Киров      45-54            1-5             36+  старый   \n",
       "2  Россия        Москва      55-64          20-25           13-24  старый   \n",
       "3  Россия  РостовнаДону      35-44          0.1-1             36+  старый   \n",
       "4  Россия        Рязань      16-24           5-10             36+  старый   \n",
       "\n",
       "    nps_group gender  \n",
       "0  сторонники    жен  \n",
       "1  сторонники    муж  \n",
       "2  сторонники    муж  \n",
       "3  сторонники    жен  \n",
       "4  сторонники    муж  "
      ]
     },
     "execution_count": 9,
     "metadata": {},
     "output_type": "execute_result"
    }
   ],
   "source": [
    "df.head()"
   ]
  },
  {
   "cell_type": "code",
   "execution_count": 10,
   "id": "d226757b",
   "metadata": {},
   "outputs": [
    {
     "name": "stdout",
     "output_type": "stream",
     "text": [
      "<class 'pandas.core.frame.DataFrame'>\n",
      "RangeIndex: 502493 entries, 0 to 502492\n",
      "Data columns (total 15 columns):\n",
      " #   Column           Non-Null Count   Dtype  \n",
      "---  ------           --------------   -----  \n",
      " 0   user_id          502493 non-null  object \n",
      " 1   lt_day           502493 non-null  int64  \n",
      " 2   age              501939 non-null  float64\n",
      " 3   gender_segment   501192 non-null  float64\n",
      " 4   os_name          502493 non-null  object \n",
      " 5   cpe_type_name    502493 non-null  object \n",
      " 6   nps_score        502493 non-null  int64  \n",
      " 7   country          502493 non-null  object \n",
      " 8   city             502493 non-null  object \n",
      " 9   agesegment       502493 non-null  object \n",
      " 10  trafficsegment   502493 non-null  object \n",
      " 11  lifetimesegment  502493 non-null  object \n",
      " 12  is_new           502493 non-null  object \n",
      " 13  nps_group        502493 non-null  object \n",
      " 14  gender           502493 non-null  object \n",
      "dtypes: float64(2), int64(2), object(11)\n",
      "memory usage: 57.5+ MB\n"
     ]
    }
   ],
   "source": [
    "df.info()"
   ]
  },
  {
   "cell_type": "code",
   "execution_count": 12,
   "id": "a732bb7e",
   "metadata": {},
   "outputs": [],
   "source": [
    "df=df.dropna()"
   ]
  },
  {
   "cell_type": "code",
   "execution_count": 13,
   "id": "c0220f4b",
   "metadata": {},
   "outputs": [
    {
     "name": "stdout",
     "output_type": "stream",
     "text": [
      "<class 'pandas.core.frame.DataFrame'>\n",
      "Int64Index: 501152 entries, 0 to 502492\n",
      "Data columns (total 15 columns):\n",
      " #   Column           Non-Null Count   Dtype  \n",
      "---  ------           --------------   -----  \n",
      " 0   user_id          501152 non-null  object \n",
      " 1   lt_day           501152 non-null  int64  \n",
      " 2   age              501152 non-null  float64\n",
      " 3   gender_segment   501152 non-null  float64\n",
      " 4   os_name          501152 non-null  object \n",
      " 5   cpe_type_name    501152 non-null  object \n",
      " 6   nps_score        501152 non-null  int64  \n",
      " 7   country          501152 non-null  object \n",
      " 8   city             501152 non-null  object \n",
      " 9   agesegment       501152 non-null  object \n",
      " 10  trafficsegment   501152 non-null  object \n",
      " 11  lifetimesegment  501152 non-null  object \n",
      " 12  is_new           501152 non-null  object \n",
      " 13  nps_group        501152 non-null  object \n",
      " 14  gender           501152 non-null  object \n",
      "dtypes: float64(2), int64(2), object(11)\n",
      "memory usage: 61.2+ MB\n"
     ]
    }
   ],
   "source": [
    "df.info()"
   ]
  },
  {
   "cell_type": "code",
   "execution_count": 14,
   "id": "9db04858",
   "metadata": {},
   "outputs": [],
   "source": [
    "\n",
    "\n",
    "df.to_csv('telecomm_csi_tableau3.csv', index=False)"
   ]
  },
  {
   "cell_type": "markdown",
   "id": "f1dd0238",
   "metadata": {},
   "source": [
    "<div class=\"alert alert-info\"  style=\"border-radius: 15px; box-shadow: 4px 4px 4px; border: 1px solid \">\n",
    "    \n",
    "<h2> <a class=\"tocSkip\"> </h2>\n",
    "\n",
    "Ссылки"
   ]
  },
  {
   "cell_type": "markdown",
   "id": "d3853d12",
   "metadata": {},
   "source": [
    "Ссылка на дашборды\n",
    "\n",
    "https://public.tableau.com/views/finaltableauproject_17068788184140/sheet13?:language=en-US&publish=yes&:display_count=n&:origin=viz_share_link"
   ]
  },
  {
   "cell_type": "markdown",
   "id": "5ff401c7",
   "metadata": {},
   "source": [
    "Ссылка на презентацию с ответами на вопросы\n",
    "\n",
    "https://cloud.mail.ru/public/3aVW/9UPwoDkYZ"
   ]
  },
  {
   "cell_type": "markdown",
   "id": "6890011f",
   "metadata": {},
   "source": [
    "<div class=\"alert alert-info\"  \n"
   ]
  }
 ],
 "metadata": {
  "ExecuteTimeLog": [
   {
    "duration": 510,
    "start_time": "2024-02-06T11:49:38.728Z"
   },
   {
    "duration": 72,
    "start_time": "2024-02-06T11:49:39.240Z"
   },
   {
    "duration": 2,
    "start_time": "2024-02-06T11:49:39.314Z"
   },
   {
    "duration": 4779,
    "start_time": "2024-02-06T11:49:39.318Z"
   },
   {
    "duration": 93,
    "start_time": "2024-02-06T11:49:44.099Z"
   },
   {
    "duration": 3,
    "start_time": "2024-02-06T11:49:44.194Z"
   },
   {
    "duration": 3081,
    "start_time": "2024-02-06T11:49:44.198Z"
   },
   {
    "duration": 3294,
    "start_time": "2024-02-06T11:49:47.281Z"
   },
   {
    "duration": 14,
    "start_time": "2024-02-06T11:49:50.576Z"
   },
   {
    "duration": 374,
    "start_time": "2024-02-06T11:49:50.591Z"
   },
   {
    "duration": 3,
    "start_time": "2024-02-06T11:49:50.966Z"
   },
   {
    "duration": 877,
    "start_time": "2024-02-06T11:49:50.971Z"
   },
   {
    "duration": 363,
    "start_time": "2024-02-06T11:49:51.849Z"
   },
   {
    "duration": 4470,
    "start_time": "2024-02-06T11:49:52.215Z"
   },
   {
    "duration": 356,
    "start_time": "2024-02-06T11:51:58.570Z"
   },
   {
    "duration": 288,
    "start_time": "2024-02-06T11:52:29.002Z"
   },
   {
    "duration": 389,
    "start_time": "2024-02-06T11:52:44.986Z"
   },
   {
    "duration": 526,
    "start_time": "2024-02-06T12:22:02.555Z"
   },
   {
    "duration": 68,
    "start_time": "2024-02-06T12:22:03.083Z"
   },
   {
    "duration": 3,
    "start_time": "2024-02-06T12:22:03.153Z"
   },
   {
    "duration": 4236,
    "start_time": "2024-02-06T12:22:03.158Z"
   },
   {
    "duration": 101,
    "start_time": "2024-02-06T12:22:07.397Z"
   },
   {
    "duration": 5,
    "start_time": "2024-02-06T12:22:07.500Z"
   },
   {
    "duration": 3196,
    "start_time": "2024-02-06T12:22:07.507Z"
   },
   {
    "duration": 3309,
    "start_time": "2024-02-06T12:22:10.705Z"
   },
   {
    "duration": 14,
    "start_time": "2024-02-06T12:22:14.016Z"
   },
   {
    "duration": 373,
    "start_time": "2024-02-06T12:22:14.032Z"
   },
   {
    "duration": 3,
    "start_time": "2024-02-06T12:22:14.407Z"
   },
   {
    "duration": 865,
    "start_time": "2024-02-06T12:22:14.412Z"
   },
   {
    "duration": 381,
    "start_time": "2024-02-06T12:22:15.279Z"
   },
   {
    "duration": 4660,
    "start_time": "2024-02-06T12:22:15.664Z"
   },
   {
    "duration": 475,
    "start_time": "2024-02-06T12:26:24.996Z"
   },
   {
    "duration": 59,
    "start_time": "2024-02-06T12:26:25.473Z"
   },
   {
    "duration": 3,
    "start_time": "2024-02-06T12:26:25.533Z"
   },
   {
    "duration": 4289,
    "start_time": "2024-02-06T12:26:25.537Z"
   },
   {
    "duration": 86,
    "start_time": "2024-02-06T12:26:29.829Z"
   },
   {
    "duration": 3,
    "start_time": "2024-02-06T12:26:29.917Z"
   },
   {
    "duration": 3127,
    "start_time": "2024-02-06T12:26:29.922Z"
   },
   {
    "duration": 3245,
    "start_time": "2024-02-06T12:26:33.050Z"
   },
   {
    "duration": 15,
    "start_time": "2024-02-06T12:26:36.296Z"
   },
   {
    "duration": 380,
    "start_time": "2024-02-06T12:26:36.312Z"
   },
   {
    "duration": 3,
    "start_time": "2024-02-06T12:26:36.695Z"
   },
   {
    "duration": 866,
    "start_time": "2024-02-06T12:26:36.699Z"
   },
   {
    "duration": 393,
    "start_time": "2024-02-06T12:26:37.566Z"
   },
   {
    "duration": 4474,
    "start_time": "2024-02-06T12:26:37.961Z"
   },
   {
    "duration": 636,
    "start_time": "2024-02-08T13:06:30.577Z"
   },
   {
    "duration": 90,
    "start_time": "2024-02-08T13:06:31.215Z"
   },
   {
    "duration": 4,
    "start_time": "2024-02-08T13:06:31.307Z"
   },
   {
    "duration": 7136,
    "start_time": "2024-02-08T13:06:31.313Z"
   },
   {
    "duration": 3,
    "start_time": "2024-02-08T13:06:38.451Z"
   },
   {
    "duration": 19,
    "start_time": "2024-02-08T13:06:38.456Z"
   },
   {
    "duration": 15,
    "start_time": "2024-02-08T13:06:38.476Z"
   },
   {
    "duration": 16,
    "start_time": "2024-02-08T13:06:38.493Z"
   },
   {
    "duration": 20,
    "start_time": "2024-02-08T13:06:38.511Z"
   },
   {
    "duration": 575,
    "start_time": "2024-02-08T13:06:38.532Z"
   },
   {
    "duration": 2,
    "start_time": "2024-02-08T13:06:39.109Z"
   },
   {
    "duration": 788,
    "start_time": "2024-02-08T13:06:39.123Z"
   },
   {
    "duration": 593,
    "start_time": "2024-02-08T13:06:39.912Z"
   },
   {
    "duration": 5898,
    "start_time": "2024-02-08T13:06:40.507Z"
   },
   {
    "duration": 561,
    "start_time": "2024-02-09T17:55:05.669Z"
   },
   {
    "duration": 82,
    "start_time": "2024-02-09T17:55:06.232Z"
   },
   {
    "duration": 3,
    "start_time": "2024-02-09T17:55:06.316Z"
   },
   {
    "duration": 6388,
    "start_time": "2024-02-09T17:55:06.320Z"
   },
   {
    "duration": 2,
    "start_time": "2024-02-09T17:55:12.710Z"
   },
   {
    "duration": 19,
    "start_time": "2024-02-09T17:55:12.714Z"
   },
   {
    "duration": 20,
    "start_time": "2024-02-09T17:55:12.734Z"
   },
   {
    "duration": 9,
    "start_time": "2024-02-09T17:55:12.756Z"
   },
   {
    "duration": 31,
    "start_time": "2024-02-09T17:55:12.767Z"
   },
   {
    "duration": 591,
    "start_time": "2024-02-09T17:55:12.799Z"
   },
   {
    "duration": 3,
    "start_time": "2024-02-09T17:55:13.391Z"
   },
   {
    "duration": 789,
    "start_time": "2024-02-09T17:55:13.395Z"
   },
   {
    "duration": 564,
    "start_time": "2024-02-09T17:55:14.186Z"
   },
   {
    "duration": 4823,
    "start_time": "2024-02-09T17:55:14.753Z"
   }
  ],
  "kernelspec": {
   "display_name": "Python 3 (ipykernel)",
   "language": "python",
   "name": "python3"
  },
  "language_info": {
   "codemirror_mode": {
    "name": "ipython",
    "version": 3
   },
   "file_extension": ".py",
   "mimetype": "text/x-python",
   "name": "python",
   "nbconvert_exporter": "python",
   "pygments_lexer": "ipython3",
   "version": "3.11.5"
  },
  "toc": {
   "base_numbering": 1,
   "nav_menu": {},
   "number_sections": true,
   "sideBar": true,
   "skip_h1_title": true,
   "title_cell": "Table of Contents",
   "title_sidebar": "Contents",
   "toc_cell": false,
   "toc_position": {},
   "toc_section_display": true,
   "toc_window_display": false
  }
 },
 "nbformat": 4,
 "nbformat_minor": 5
}
