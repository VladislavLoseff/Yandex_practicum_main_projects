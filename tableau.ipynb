{
 "cells": [
  {
   "cell_type": "markdown",
   "id": "65fe98b7",
   "metadata": {},
   "source": [
    "# Анализ выступлений"
   ]
  },
  {
   "cell_type": "markdown",
   "id": "80e94436",
   "metadata": {},
   "source": [
    "<div class=\"alert alert-info\">\n",
    "Ссылка на проект\n",
    "\n",
    "https://public.tableau.com/views/TableauProject_17067037824650/sheet24?:language=en-US&:display_count=n&:origin=viz_share_link"
   ]
  },
  {
   "cell_type": "code",
   "execution_count": null,
   "id": "ce4d2673",
   "metadata": {},
   "outputs": [],
   "source": []
  }
 ],
 "metadata": {
  "kernelspec": {
   "display_name": "Python 3 (ipykernel)",
   "language": "python",
   "name": "python3"
  },
  "language_info": {
   "codemirror_mode": {
    "name": "ipython",
    "version": 3
   },
   "file_extension": ".py",
   "mimetype": "text/x-python",
   "name": "python",
   "nbconvert_exporter": "python",
   "pygments_lexer": "ipython3",
   "version": "3.11.5"
  },
  "toc": {
   "base_numbering": 1,
   "nav_menu": {},
   "number_sections": true,
   "sideBar": true,
   "skip_h1_title": true,
   "title_cell": "Table of Contents",
   "title_sidebar": "Contents",
   "toc_cell": false,
   "toc_position": {},
   "toc_section_display": true,
   "toc_window_display": false
  }
 },
 "nbformat": 4,
 "nbformat_minor": 5
}
